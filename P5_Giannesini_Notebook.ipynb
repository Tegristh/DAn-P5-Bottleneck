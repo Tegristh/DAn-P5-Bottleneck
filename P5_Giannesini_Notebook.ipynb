{
 "cells": [
  {
   "cell_type": "markdown",
   "metadata": {},
   "source": [
    "# BottleNeck fine wine spirit\n",
    "\n",
    "Projet 5 - Data Analyst\n",
    "\n",
    "GIANNESINI Baptiste"
   ]
  },
  {
   "cell_type": "markdown",
   "metadata": {},
   "source": [
    "# Table des matières <a class=\"anchor\" id=\"chapter0\"></a> \n",
    "\n",
    "\n",
    "*[Résumé de la mission](#chapter1)\n",
    "\n",
    "*[Import des modules et packages](#chapter2)\n",
    "\n",
    "*[Import des données](#chapter3)\n",
    "\n",
    "*[exploration préliminaire et nettoyage de données](#chapter4)\n",
    "\n",
    "**[données de la DF \"Liaison\"](#chapter5)\n",
    "\n",
    "**[données de la DF \"ERP\"](#chapter6)\n",
    "\n",
    "**[données de la DF \"web\"](#chapter7)\n",
    "\n",
    "*[variables et fonctions](#chapter8)\n",
    "\n",
    "*[Analyse et mise en forme des données](#chapter9)\n",
    "\n",
    "*[Premières statistiques globales](#chapter10)\n",
    "\n",
    "*[Résolution des problèmes énoncés](#chapter11)\n",
    "\n",
    "*[rapprochement des bases](#chapter12)\n",
    "\n",
    "*[chiffre d'affaire total en ligne](#chapter13)\n",
    "\n",
    "*[chiffre d'affaire par produit](#chapter14)\n",
    "\n",
    "*[recherche de valeurs anormales](#chapter15)\n",
    "\n",
    "*[autres reflexions](#chapter16)\n",
    "\n",
    "*[des invendus, pourquoi?](#chapter17)\n",
    "\n",
    "*[gestion des stocks](#chapter18)\n",
    "\n"
   ]
  },
  {
   "cell_type": "markdown",
   "metadata": {},
   "source": [
    "#  1 Résumé de la mission <a class=\"anchor\" id=\"chapter1\"></a>\n",
    "\n",
    "Data Analyst freelance chez BottleNeck, un marchand de vin prestigieux, je dois composer avec un système d'analyses de ventes qualifié d'artisanal par le manager.\n",
    "On me demande:\n",
    "    1. de rapprocher un ERP des références produit avec une table issue de l'outil cms contenant les informations à propos de ces produits.\n",
    "    2. calculer le chiffre d'affaires par produit\n",
    "    3. calculer le total du chiffre d'affaire réalisé en ligne.\n",
    "    4. rechercher d'éventuelles valeurs aberrantes dans les prix des produits, d'en faire une liste et une représentation graphique le cas échéant.\n"
   ]
  },
  {
   "cell_type": "markdown",
   "metadata": {},
   "source": [
    "\n",
    "# 2 import des modules et packages <a class=\"anchor\" id=\"chapter2\"></a>\n",
    "\n",
    "Pandas, numpy, matplotlib, plotly express et pandas_profiling"
   ]
  },
  {
   "cell_type": "code",
   "execution_count": 1,
   "metadata": {},
   "outputs": [],
   "source": [
    "# imports modules et packages\n",
    "import pandas as pd \n",
    "import numpy as np\n",
    "import matplotlib.pyplot as plt \n",
    "import plotly.express as px\n",
    "from pandas_profiling import ProfileReport\n",
    "import plotly.graph_objects as go\n"
   ]
  },
  {
   "cell_type": "markdown",
   "metadata": {},
   "source": [
    "\n",
    "# 3 import des données <a class=\"anchor\" id=\"chapter3\"></a>\n",
    "\n",
    "| Format | Nom     | contenu              | source |  \n",
    "|--------|---------|----------------------|--------|  \n",
    "| xlsx   | erp     | tarif/stock produits | fourni |  \n",
    "| xlsx   | web     | description produits | fourni |  \n",
    "| xlsx   | liaison | liaison erp/web      | fourni |  \n"
   ]
  },
  {
   "cell_type": "code",
   "execution_count": 2,
   "metadata": {},
   "outputs": [],
   "source": [
    "# Import des données\n",
    "# Fournies avec le projet\n",
    "\n",
    "erp = pd.read_excel('erp.xlsx')\n",
    "liaison = pd.read_excel('liaison.xlsx')\n",
    "web = pd.read_excel('web.xlsx')"
   ]
  },
  {
   "cell_type": "markdown",
   "metadata": {},
   "source": [
    "\n",
    "# 4 exploration préliminaire et nettoyage de données <a class=\"anchor\" id=\"chapter4\"></a>\n",
    "Nous cherchons à connaitre la forme et le contenu de chaque dataframe afin de préparer au mieux leur fusion ultérieure.\n",
    "\n",
    "\n",
    "\n"
   ]
  },
  {
   "cell_type": "markdown",
   "metadata": {},
   "source": [
    "## 5 Données DF \"liaison\" <a class=\"anchor\" id=\"chapter5\"></a>"
   ]
  },
  {
   "cell_type": "code",
   "execution_count": 3,
   "metadata": {},
   "outputs": [
    {
     "name": "stdout",
     "output_type": "stream",
     "text": [
      "(825, 2)\n"
     ]
    },
    {
     "data": {
      "text/html": [
       "<div>\n",
       "<style scoped>\n",
       "    .dataframe tbody tr th:only-of-type {\n",
       "        vertical-align: middle;\n",
       "    }\n",
       "\n",
       "    .dataframe tbody tr th {\n",
       "        vertical-align: top;\n",
       "    }\n",
       "\n",
       "    .dataframe thead th {\n",
       "        text-align: right;\n",
       "    }\n",
       "</style>\n",
       "<table border=\"1\" class=\"dataframe\">\n",
       "  <thead>\n",
       "    <tr style=\"text-align: right;\">\n",
       "      <th></th>\n",
       "      <th>product_id</th>\n",
       "      <th>id_web</th>\n",
       "    </tr>\n",
       "  </thead>\n",
       "  <tbody>\n",
       "    <tr>\n",
       "      <th>0</th>\n",
       "      <td>3847</td>\n",
       "      <td>15298</td>\n",
       "    </tr>\n",
       "    <tr>\n",
       "      <th>1</th>\n",
       "      <td>3849</td>\n",
       "      <td>15296</td>\n",
       "    </tr>\n",
       "    <tr>\n",
       "      <th>2</th>\n",
       "      <td>3850</td>\n",
       "      <td>15300</td>\n",
       "    </tr>\n",
       "    <tr>\n",
       "      <th>3</th>\n",
       "      <td>4032</td>\n",
       "      <td>19814</td>\n",
       "    </tr>\n",
       "    <tr>\n",
       "      <th>4</th>\n",
       "      <td>4039</td>\n",
       "      <td>19815</td>\n",
       "    </tr>\n",
       "  </tbody>\n",
       "</table>\n",
       "</div>"
      ],
      "text/plain": [
       "   product_id id_web\n",
       "0        3847  15298\n",
       "1        3849  15296\n",
       "2        3850  15300\n",
       "3        4032  19814\n",
       "4        4039  19815"
      ]
     },
     "execution_count": 3,
     "metadata": {},
     "output_type": "execute_result"
    }
   ],
   "source": [
    "#on regarde à quoi ressemblent les données de liaison:\n",
    "\n",
    "print(liaison.shape)\n",
    "liaison.head()\n"
   ]
  },
  {
   "cell_type": "markdown",
   "metadata": {},
   "source": [
    "\n",
    "Nous savons donc que la DF liaison contient 825 lignes et 2 colonnes appellées \"product_id\" et \"id_web\".\n",
    "\n",
    "Ces deux colonnes faisant la jonction pour chaque produit du \"product_id\" correspondant a \"product_id\" dans la DF erp, et \"id_web\" correspondant a \"sku\" dans la DF web.\n"
   ]
  },
  {
   "cell_type": "markdown",
   "metadata": {},
   "source": [
    "\n",
    "## 6 Données DF \"erp\"<a class=\"anchor\" id=\"chapter6\"></a>\n"
   ]
  },
  {
   "cell_type": "code",
   "execution_count": 4,
   "metadata": {},
   "outputs": [
    {
     "name": "stdout",
     "output_type": "stream",
     "text": [
      "(825, 5)\n"
     ]
    },
    {
     "data": {
      "text/html": [
       "<div>\n",
       "<style scoped>\n",
       "    .dataframe tbody tr th:only-of-type {\n",
       "        vertical-align: middle;\n",
       "    }\n",
       "\n",
       "    .dataframe tbody tr th {\n",
       "        vertical-align: top;\n",
       "    }\n",
       "\n",
       "    .dataframe thead th {\n",
       "        text-align: right;\n",
       "    }\n",
       "</style>\n",
       "<table border=\"1\" class=\"dataframe\">\n",
       "  <thead>\n",
       "    <tr style=\"text-align: right;\">\n",
       "      <th></th>\n",
       "      <th>product_id</th>\n",
       "      <th>onsale_web</th>\n",
       "      <th>price</th>\n",
       "      <th>stock_quantity</th>\n",
       "      <th>stock_status</th>\n",
       "    </tr>\n",
       "  </thead>\n",
       "  <tbody>\n",
       "    <tr>\n",
       "      <th>0</th>\n",
       "      <td>3847</td>\n",
       "      <td>1</td>\n",
       "      <td>24.2</td>\n",
       "      <td>0</td>\n",
       "      <td>outofstock</td>\n",
       "    </tr>\n",
       "    <tr>\n",
       "      <th>1</th>\n",
       "      <td>3849</td>\n",
       "      <td>1</td>\n",
       "      <td>34.3</td>\n",
       "      <td>0</td>\n",
       "      <td>outofstock</td>\n",
       "    </tr>\n",
       "    <tr>\n",
       "      <th>2</th>\n",
       "      <td>3850</td>\n",
       "      <td>1</td>\n",
       "      <td>20.8</td>\n",
       "      <td>0</td>\n",
       "      <td>outofstock</td>\n",
       "    </tr>\n",
       "    <tr>\n",
       "      <th>3</th>\n",
       "      <td>4032</td>\n",
       "      <td>1</td>\n",
       "      <td>14.1</td>\n",
       "      <td>0</td>\n",
       "      <td>outofstock</td>\n",
       "    </tr>\n",
       "    <tr>\n",
       "      <th>4</th>\n",
       "      <td>4039</td>\n",
       "      <td>1</td>\n",
       "      <td>46.0</td>\n",
       "      <td>0</td>\n",
       "      <td>outofstock</td>\n",
       "    </tr>\n",
       "  </tbody>\n",
       "</table>\n",
       "</div>"
      ],
      "text/plain": [
       "   product_id  onsale_web  price  stock_quantity stock_status\n",
       "0        3847           1   24.2               0   outofstock\n",
       "1        3849           1   34.3               0   outofstock\n",
       "2        3850           1   20.8               0   outofstock\n",
       "3        4032           1   14.1               0   outofstock\n",
       "4        4039           1   46.0               0   outofstock"
      ]
     },
     "execution_count": 4,
     "metadata": {},
     "output_type": "execute_result"
    }
   ],
   "source": [
    "#on regarde à quoi ressemblent les données de erp:\n",
    "print(erp.shape)\n",
    "erp.head()"
   ]
  },
  {
   "cell_type": "markdown",
   "metadata": {},
   "source": [
    "Nous savons donc que la DF liaison contient 825 lignes et 5 colonnes appellées \"product_id\", \"onsale_web\", \"price\", \"stock_quantity\" et \"stock-status\".\n",
    "Les colonnes qui nous interresseront particulièrement sont donc:\n",
    "    1. product_id qui à sa correspondance dans la DF Liaison\n",
    "    2. onsale_web un booleen indiquant si le produit est vendu en ligne\n",
    "    3. price toujours utile pour calculer un CA.\n",
    "\n",
    "Les colonnes correspondant au stock (quantité et disponibilité) ne sont pas nécessaires pour répondre aux questions posées, mais nous les conserverons tout de même.\n",
    "\n",
    "## premières statistiques tirées de la DF erp"
   ]
  },
  {
   "cell_type": "code",
   "execution_count": 5,
   "metadata": {},
   "outputs": [
    {
     "name": "stderr",
     "output_type": "stream",
     "text": [
      "Summarize dataset: 100%|██████████| 18/18 [00:04<00:00,  4.10it/s, Completed]\n",
      "Generate report structure: 100%|██████████| 1/1 [00:02<00:00,  2.54s/it]\n"
     ]
    },
    {
     "data": {
      "application/vnd.jupyter.widget-view+json": {
       "model_id": "07f13386bbad401ab58e252d23716d20",
       "version_major": 2,
       "version_minor": 0
      },
      "text/plain": [
       "VBox(children=(Tab(children=(Tab(children=(GridBox(children=(VBox(children=(GridspecLayout(children=(HTML(valu…"
      ]
     },
     "metadata": {},
     "output_type": "display_data"
    }
   ],
   "source": [
    "# On analyse le profileReport de erp\n",
    "\n",
    "profileErp = ProfileReport(erp, title=\"Pandas Profiling Report\")\n",
    "profileErp.to_widgets()"
   ]
  },
  {
   "cell_type": "markdown",
   "metadata": {},
   "source": [
    "\n",
    "1. L'onglet Overview nous permet de vérifier qu'il n'y a pas de champs à la valeur NaN, ou de ligne dupliquées.\n",
    "\n",
    "\n",
    "2. l'onglet Variables chaque variable confirme/nous informe que:\n",
    "\n",
    "    1. product_id ne contient que des valeurs distinctes\n",
    "    2. onsale_web est bien un booleen\n",
    "    3. price ne contient que des valeurs positives comprises entre 5.2 et 225 avec une moyenne de 32.42\n",
    "    4. stock_quantity ne contient que des valeurs positives comprises entre 0 et 578 avec une moyenne de 26.5\n",
    "    5. stock-status est un booleen qui nous permet de savoir que 638 produits sont en stock et 187 ne sont plus en stock.\n",
    "\n",
    "\n",
    "3. L'onglet Interactions nous donne un premier apercu graphique :\n",
    "\n",
    "    1. du prix en fonction de l'id produit\n",
    "    2. de la quantité de stock en fonction de l'id produit\n",
    "    3. de la quantité de stock en fonction du prix\n",
    "\n",
    "4. L'onglet missing values nous confirme que nos données ne contiennent pas de NaN\n",
    "\n",
    "\n",
    "5. L'onglet Sample nous donne les premières et dernières lignes de la DF.\n",
    "\n"
   ]
  },
  {
   "cell_type": "markdown",
   "metadata": {},
   "source": [
    "## 7 Données DF \"web\"<a class=\"anchor\" id=\"chapter7\"></a>"
   ]
  },
  {
   "cell_type": "code",
   "execution_count": 6,
   "metadata": {},
   "outputs": [
    {
     "name": "stdout",
     "output_type": "stream",
     "text": [
      "(1513, 28)\n"
     ]
    },
    {
     "data": {
      "text/html": [
       "<div>\n",
       "<style scoped>\n",
       "    .dataframe tbody tr th:only-of-type {\n",
       "        vertical-align: middle;\n",
       "    }\n",
       "\n",
       "    .dataframe tbody tr th {\n",
       "        vertical-align: top;\n",
       "    }\n",
       "\n",
       "    .dataframe thead th {\n",
       "        text-align: right;\n",
       "    }\n",
       "</style>\n",
       "<table border=\"1\" class=\"dataframe\">\n",
       "  <thead>\n",
       "    <tr style=\"text-align: right;\">\n",
       "      <th></th>\n",
       "      <th>sku</th>\n",
       "      <th>virtual</th>\n",
       "      <th>downloadable</th>\n",
       "      <th>rating_count</th>\n",
       "      <th>average_rating</th>\n",
       "      <th>total_sales</th>\n",
       "      <th>tax_status</th>\n",
       "      <th>tax_class</th>\n",
       "      <th>post_author</th>\n",
       "      <th>post_date</th>\n",
       "      <th>...</th>\n",
       "      <th>post_name</th>\n",
       "      <th>post_modified</th>\n",
       "      <th>post_modified_gmt</th>\n",
       "      <th>post_content_filtered</th>\n",
       "      <th>post_parent</th>\n",
       "      <th>guid</th>\n",
       "      <th>menu_order</th>\n",
       "      <th>post_type</th>\n",
       "      <th>post_mime_type</th>\n",
       "      <th>comment_count</th>\n",
       "    </tr>\n",
       "  </thead>\n",
       "  <tbody>\n",
       "    <tr>\n",
       "      <th>0</th>\n",
       "      <td>bon-cadeau-25-euros</td>\n",
       "      <td>0</td>\n",
       "      <td>0</td>\n",
       "      <td>0</td>\n",
       "      <td>0.0</td>\n",
       "      <td>10.0</td>\n",
       "      <td>taxable</td>\n",
       "      <td>NaN</td>\n",
       "      <td>1.0</td>\n",
       "      <td>2018-06-01 13:53:46</td>\n",
       "      <td>...</td>\n",
       "      <td>bon-cadeau-de-25-euros</td>\n",
       "      <td>2018-06-01 14:13:57</td>\n",
       "      <td>2018-06-01 12:13:57</td>\n",
       "      <td>NaN</td>\n",
       "      <td>0.0</td>\n",
       "      <td>https://www.bottle-neck.fr/?post_type=product&amp;...</td>\n",
       "      <td>0.0</td>\n",
       "      <td>product</td>\n",
       "      <td>NaN</td>\n",
       "      <td>0.0</td>\n",
       "    </tr>\n",
       "    <tr>\n",
       "      <th>1</th>\n",
       "      <td>15298</td>\n",
       "      <td>0</td>\n",
       "      <td>0</td>\n",
       "      <td>0</td>\n",
       "      <td>0.0</td>\n",
       "      <td>6.0</td>\n",
       "      <td>taxable</td>\n",
       "      <td>NaN</td>\n",
       "      <td>2.0</td>\n",
       "      <td>2018-02-08 12:58:52</td>\n",
       "      <td>...</td>\n",
       "      <td>pierre-jean-villa-saint-joseph-preface-2018</td>\n",
       "      <td>2019-12-30 09:30:29</td>\n",
       "      <td>2019-12-30 08:30:29</td>\n",
       "      <td>NaN</td>\n",
       "      <td>0.0</td>\n",
       "      <td>https://www.bottle-neck.fr/?post_type=product&amp;...</td>\n",
       "      <td>0.0</td>\n",
       "      <td>product</td>\n",
       "      <td>NaN</td>\n",
       "      <td>0.0</td>\n",
       "    </tr>\n",
       "    <tr>\n",
       "      <th>2</th>\n",
       "      <td>15296</td>\n",
       "      <td>0</td>\n",
       "      <td>0</td>\n",
       "      <td>0</td>\n",
       "      <td>0.0</td>\n",
       "      <td>0.0</td>\n",
       "      <td>taxable</td>\n",
       "      <td>NaN</td>\n",
       "      <td>2.0</td>\n",
       "      <td>2018-02-08 13:49:41</td>\n",
       "      <td>...</td>\n",
       "      <td>pierre-jean-villa-saint-joseph-tilde-2017</td>\n",
       "      <td>2019-12-21 09:00:17</td>\n",
       "      <td>2019-12-21 08:00:17</td>\n",
       "      <td>NaN</td>\n",
       "      <td>0.0</td>\n",
       "      <td>https://www.bottle-neck.fr/?post_type=product&amp;...</td>\n",
       "      <td>0.0</td>\n",
       "      <td>product</td>\n",
       "      <td>NaN</td>\n",
       "      <td>0.0</td>\n",
       "    </tr>\n",
       "    <tr>\n",
       "      <th>3</th>\n",
       "      <td>15300</td>\n",
       "      <td>0</td>\n",
       "      <td>0</td>\n",
       "      <td>0</td>\n",
       "      <td>0.0</td>\n",
       "      <td>0.0</td>\n",
       "      <td>taxable</td>\n",
       "      <td>NaN</td>\n",
       "      <td>2.0</td>\n",
       "      <td>2018-02-08 14:08:36</td>\n",
       "      <td>...</td>\n",
       "      <td>pierre-jean-villa-croze-hermitage-accroche-coe...</td>\n",
       "      <td>2020-06-26 18:15:03</td>\n",
       "      <td>2020-06-26 16:15:03</td>\n",
       "      <td>NaN</td>\n",
       "      <td>0.0</td>\n",
       "      <td>https://www.bottle-neck.fr/?post_type=product&amp;...</td>\n",
       "      <td>0.0</td>\n",
       "      <td>product</td>\n",
       "      <td>NaN</td>\n",
       "      <td>0.0</td>\n",
       "    </tr>\n",
       "    <tr>\n",
       "      <th>4</th>\n",
       "      <td>19814</td>\n",
       "      <td>0</td>\n",
       "      <td>0</td>\n",
       "      <td>0</td>\n",
       "      <td>0.0</td>\n",
       "      <td>3.0</td>\n",
       "      <td>taxable</td>\n",
       "      <td>NaN</td>\n",
       "      <td>2.0</td>\n",
       "      <td>2018-02-09 14:01:05</td>\n",
       "      <td>...</td>\n",
       "      <td>pierre-jean-villa-igp-gamine-2018</td>\n",
       "      <td>2020-01-04 16:36:01</td>\n",
       "      <td>2020-01-04 15:36:01</td>\n",
       "      <td>NaN</td>\n",
       "      <td>0.0</td>\n",
       "      <td>https://www.bottle-neck.fr/?post_type=product&amp;...</td>\n",
       "      <td>0.0</td>\n",
       "      <td>product</td>\n",
       "      <td>NaN</td>\n",
       "      <td>0.0</td>\n",
       "    </tr>\n",
       "  </tbody>\n",
       "</table>\n",
       "<p>5 rows × 28 columns</p>\n",
       "</div>"
      ],
      "text/plain": [
       "                   sku  virtual  downloadable  rating_count  average_rating  \\\n",
       "0  bon-cadeau-25-euros        0             0             0             0.0   \n",
       "1                15298        0             0             0             0.0   \n",
       "2                15296        0             0             0             0.0   \n",
       "3                15300        0             0             0             0.0   \n",
       "4                19814        0             0             0             0.0   \n",
       "\n",
       "   total_sales tax_status  tax_class  post_author           post_date  ...  \\\n",
       "0         10.0    taxable        NaN          1.0 2018-06-01 13:53:46  ...   \n",
       "1          6.0    taxable        NaN          2.0 2018-02-08 12:58:52  ...   \n",
       "2          0.0    taxable        NaN          2.0 2018-02-08 13:49:41  ...   \n",
       "3          0.0    taxable        NaN          2.0 2018-02-08 14:08:36  ...   \n",
       "4          3.0    taxable        NaN          2.0 2018-02-09 14:01:05  ...   \n",
       "\n",
       "                                           post_name       post_modified  \\\n",
       "0                             bon-cadeau-de-25-euros 2018-06-01 14:13:57   \n",
       "1        pierre-jean-villa-saint-joseph-preface-2018 2019-12-30 09:30:29   \n",
       "2          pierre-jean-villa-saint-joseph-tilde-2017 2019-12-21 09:00:17   \n",
       "3  pierre-jean-villa-croze-hermitage-accroche-coe... 2020-06-26 18:15:03   \n",
       "4                  pierre-jean-villa-igp-gamine-2018 2020-01-04 16:36:01   \n",
       "\n",
       "    post_modified_gmt post_content_filtered post_parent  \\\n",
       "0 2018-06-01 12:13:57                   NaN         0.0   \n",
       "1 2019-12-30 08:30:29                   NaN         0.0   \n",
       "2 2019-12-21 08:00:17                   NaN         0.0   \n",
       "3 2020-06-26 16:15:03                   NaN         0.0   \n",
       "4 2020-01-04 15:36:01                   NaN         0.0   \n",
       "\n",
       "                                                guid menu_order  post_type  \\\n",
       "0  https://www.bottle-neck.fr/?post_type=product&...        0.0    product   \n",
       "1  https://www.bottle-neck.fr/?post_type=product&...        0.0    product   \n",
       "2  https://www.bottle-neck.fr/?post_type=product&...        0.0    product   \n",
       "3  https://www.bottle-neck.fr/?post_type=product&...        0.0    product   \n",
       "4  https://www.bottle-neck.fr/?post_type=product&...        0.0    product   \n",
       "\n",
       "  post_mime_type comment_count  \n",
       "0            NaN           0.0  \n",
       "1            NaN           0.0  \n",
       "2            NaN           0.0  \n",
       "3            NaN           0.0  \n",
       "4            NaN           0.0  \n",
       "\n",
       "[5 rows x 28 columns]"
      ]
     },
     "execution_count": 6,
     "metadata": {},
     "output_type": "execute_result"
    }
   ],
   "source": [
    "#on regarde à quoi ressemblent les données de web:\n",
    "\n",
    "print(web.shape)\n",
    "web.head()"
   ]
  },
  {
   "cell_type": "markdown",
   "metadata": {},
   "source": [
    "Nous savons donc maintenant que la DF web contient 1513 lignes et 28 colonnes.\n",
    "\n",
    "Plusieurs constats sont a faires:\n",
    "\n",
    "    1. nous attendions environ le même nombre de lignes que pour les DF précédentes soit 825, il est donc probable que des lignes soient dupliquées.\n",
    "\n",
    "    2. nous pouvons constater dans les premières lignes de la DF que nous avons affiché au dessus, que certaines lignes sont en doublon (par exemple les lignes a l'index 1 et 2 correspondent a un produit dont le sku est identique)\n",
    "\n",
    "    3. beaucoup de colonnes correspondent à des informations inutiles.\n",
    "\n",
    "Il conviendra donc ici de procéder à une élimination des doublons et des colonnes inutiles."
   ]
  },
  {
   "cell_type": "code",
   "execution_count": 7,
   "metadata": {},
   "outputs": [
    {
     "data": {
      "text/plain": [
       "714"
      ]
     },
     "execution_count": 7,
     "metadata": {},
     "output_type": "execute_result"
    }
   ],
   "source": [
    "# On commence par compter le nombre de produits uniques référencés dans la DF\n",
    "\n",
    "web.sku.nunique()"
   ]
  },
  {
   "cell_type": "markdown",
   "metadata": {},
   "source": [
    "714 références uniques, pour 825 références attendues cela signifie que l'ensemble des produits listés dans les DF erp et liaison ne sont pas commercialisés en ligne, nous le vérifieront plus tard."
   ]
  },
  {
   "cell_type": "code",
   "execution_count": 8,
   "metadata": {},
   "outputs": [
    {
     "data": {
      "text/html": [
       "<div>\n",
       "<style scoped>\n",
       "    .dataframe tbody tr th:only-of-type {\n",
       "        vertical-align: middle;\n",
       "    }\n",
       "\n",
       "    .dataframe tbody tr th {\n",
       "        vertical-align: top;\n",
       "    }\n",
       "\n",
       "    .dataframe thead th {\n",
       "        text-align: right;\n",
       "    }\n",
       "</style>\n",
       "<table border=\"1\" class=\"dataframe\">\n",
       "  <thead>\n",
       "    <tr style=\"text-align: right;\">\n",
       "      <th></th>\n",
       "      <th>sku</th>\n",
       "      <th>virtual</th>\n",
       "      <th>downloadable</th>\n",
       "      <th>rating_count</th>\n",
       "      <th>average_rating</th>\n",
       "      <th>total_sales</th>\n",
       "      <th>tax_status</th>\n",
       "      <th>tax_class</th>\n",
       "      <th>post_author</th>\n",
       "      <th>post_date</th>\n",
       "      <th>...</th>\n",
       "      <th>post_name</th>\n",
       "      <th>post_modified</th>\n",
       "      <th>post_modified_gmt</th>\n",
       "      <th>post_content_filtered</th>\n",
       "      <th>post_parent</th>\n",
       "      <th>guid</th>\n",
       "      <th>menu_order</th>\n",
       "      <th>post_type</th>\n",
       "      <th>post_mime_type</th>\n",
       "      <th>comment_count</th>\n",
       "    </tr>\n",
       "  </thead>\n",
       "  <tbody>\n",
       "    <tr>\n",
       "      <th>1</th>\n",
       "      <td>15298</td>\n",
       "      <td>0</td>\n",
       "      <td>0</td>\n",
       "      <td>0</td>\n",
       "      <td>0.0</td>\n",
       "      <td>6.0</td>\n",
       "      <td>taxable</td>\n",
       "      <td>NaN</td>\n",
       "      <td>2.0</td>\n",
       "      <td>2018-02-08 12:58:52</td>\n",
       "      <td>...</td>\n",
       "      <td>pierre-jean-villa-saint-joseph-preface-2018</td>\n",
       "      <td>2019-12-30 09:30:29</td>\n",
       "      <td>2019-12-30 08:30:29</td>\n",
       "      <td>NaN</td>\n",
       "      <td>0.0</td>\n",
       "      <td>https://www.bottle-neck.fr/?post_type=product&amp;...</td>\n",
       "      <td>0.0</td>\n",
       "      <td>product</td>\n",
       "      <td>NaN</td>\n",
       "      <td>0.0</td>\n",
       "    </tr>\n",
       "    <tr>\n",
       "      <th>799</th>\n",
       "      <td>15298</td>\n",
       "      <td>0</td>\n",
       "      <td>0</td>\n",
       "      <td>0</td>\n",
       "      <td>0.0</td>\n",
       "      <td>6.0</td>\n",
       "      <td>NaN</td>\n",
       "      <td>NaN</td>\n",
       "      <td>2.0</td>\n",
       "      <td>2018-02-08 12:58:52</td>\n",
       "      <td>...</td>\n",
       "      <td>pierre-jean-villa-saint-joseph-preface-2018</td>\n",
       "      <td>2019-12-30 09:30:29</td>\n",
       "      <td>2019-12-30 08:30:29</td>\n",
       "      <td>NaN</td>\n",
       "      <td>0.0</td>\n",
       "      <td>https://www.bottle-neck.fr/wp-content/uploads/...</td>\n",
       "      <td>0.0</td>\n",
       "      <td>attachment</td>\n",
       "      <td>image/jpeg</td>\n",
       "      <td>0.0</td>\n",
       "    </tr>\n",
       "  </tbody>\n",
       "</table>\n",
       "<p>2 rows × 28 columns</p>\n",
       "</div>"
      ],
      "text/plain": [
       "       sku  virtual  downloadable  rating_count  average_rating  total_sales  \\\n",
       "1    15298        0             0             0             0.0          6.0   \n",
       "799  15298        0             0             0             0.0          6.0   \n",
       "\n",
       "    tax_status  tax_class  post_author           post_date  ...  \\\n",
       "1      taxable        NaN          2.0 2018-02-08 12:58:52  ...   \n",
       "799        NaN        NaN          2.0 2018-02-08 12:58:52  ...   \n",
       "\n",
       "                                       post_name       post_modified  \\\n",
       "1    pierre-jean-villa-saint-joseph-preface-2018 2019-12-30 09:30:29   \n",
       "799  pierre-jean-villa-saint-joseph-preface-2018 2019-12-30 09:30:29   \n",
       "\n",
       "      post_modified_gmt post_content_filtered post_parent  \\\n",
       "1   2019-12-30 08:30:29                   NaN         0.0   \n",
       "799 2019-12-30 08:30:29                   NaN         0.0   \n",
       "\n",
       "                                                  guid menu_order   post_type  \\\n",
       "1    https://www.bottle-neck.fr/?post_type=product&...        0.0     product   \n",
       "799  https://www.bottle-neck.fr/wp-content/uploads/...        0.0  attachment   \n",
       "\n",
       "    post_mime_type comment_count  \n",
       "1              NaN           0.0  \n",
       "799     image/jpeg           0.0  \n",
       "\n",
       "[2 rows x 28 columns]"
      ]
     },
     "execution_count": 8,
     "metadata": {},
     "output_type": "execute_result"
    }
   ],
   "source": [
    "# On observe l'ensemble des données contenue dans la DF web pour un seul produit \n",
    "\n",
    "webunique = web[web['sku'] == 15298]\n",
    "webunique"
   ]
  },
  {
   "cell_type": "markdown",
   "metadata": {},
   "source": [
    "La DF web est issue du CMS du site web.\n",
    "\n",
    "Nous constatons que les produits sont référencés dans la DF web au travers de deux lignes.\n",
    "\n",
    "en observant la colonne post_type, on comprend que l'une des deux lignes correspond au texte descriptif du produit quand l'autre correspond aux illustrations du produit sur le site.\n",
    "\n",
    "c'est donc une colonne adéquate pour éliminer les doublons en ne gardant qu'un seul type de ligne. \n",
    "\n",
    "Pour ce qui est des colonnes, nous allons supprimer tout ce dont nous ignorons la signification ou dont nous n'avons pas l'utilité.\n",
    "\n",
    "Nous conserverons donc les colonnes:\n",
    "\n",
    "    1. \"sku\" que nous renommerons en \"id_web\" pour faciliter la lecture et la jointure avec la df liaison.\n",
    "\n",
    "    2. \"total_sales\" dont nous aurons besoin pour les calculs de CA qui nous ont été demandés.\n",
    "\n",
    "    3. \"post_name\" que nous renommerons en \"product_name\" pour connaitre le nom des produits\n",
    "\n",
    "    4. \"post_type\" afin de pouvoir trier les doublons\n",
    "\n"
   ]
  },
  {
   "cell_type": "code",
   "execution_count": 9,
   "metadata": {},
   "outputs": [],
   "source": [
    "# nettoyage et mise en forme des données df web\n",
    "\n",
    "# changement nom de colonnes\n",
    "web.rename(columns={\n",
    "    \"sku\": \"id_web\",\n",
    "    \"post_name\" : \"product_name\"\n",
    "    }, inplace=True)\n",
    "\n",
    "# drop de colonnes\n",
    "web = web.drop([\"virtual\", \"downloadable\", \"rating_count\",\"average_rating\",  \"tax_class\", \"post_author\", \"post_date\",\"post_date_gmt\", \"post_content\", \"post_title\", \"post_excerpt\", \"post_status\", \"comment_status\", \"ping_status\", \"post_password\", \"post_modified\", \"post_modified_gmt\", \"post_content_filtered\", \"post_parent\", \"guid\", \"menu_order\", \"tax_status\", \"post_mime_type\", \"comment_count\" ], axis=1)\n",
    "erp = erp.drop([\"stock_status\"], axis=1)\n",
    "\n",
    "# drop de lignes\n",
    "web = web[web.post_type == 'product']\n"
   ]
  },
  {
   "cell_type": "markdown",
   "metadata": {},
   "source": [
    "Nous devrions maintenant avoir une DF de 714 lignes et 4 colonnes:"
   ]
  },
  {
   "cell_type": "code",
   "execution_count": 10,
   "metadata": {},
   "outputs": [
    {
     "name": "stdout",
     "output_type": "stream",
     "text": [
      "(716, 4)\n"
     ]
    },
    {
     "data": {
      "text/html": [
       "<div>\n",
       "<style scoped>\n",
       "    .dataframe tbody tr th:only-of-type {\n",
       "        vertical-align: middle;\n",
       "    }\n",
       "\n",
       "    .dataframe tbody tr th {\n",
       "        vertical-align: top;\n",
       "    }\n",
       "\n",
       "    .dataframe thead th {\n",
       "        text-align: right;\n",
       "    }\n",
       "</style>\n",
       "<table border=\"1\" class=\"dataframe\">\n",
       "  <thead>\n",
       "    <tr style=\"text-align: right;\">\n",
       "      <th></th>\n",
       "      <th>id_web</th>\n",
       "      <th>total_sales</th>\n",
       "      <th>product_name</th>\n",
       "      <th>post_type</th>\n",
       "    </tr>\n",
       "  </thead>\n",
       "  <tbody>\n",
       "    <tr>\n",
       "      <th>0</th>\n",
       "      <td>bon-cadeau-25-euros</td>\n",
       "      <td>10.0</td>\n",
       "      <td>bon-cadeau-de-25-euros</td>\n",
       "      <td>product</td>\n",
       "    </tr>\n",
       "    <tr>\n",
       "      <th>1</th>\n",
       "      <td>15298</td>\n",
       "      <td>6.0</td>\n",
       "      <td>pierre-jean-villa-saint-joseph-preface-2018</td>\n",
       "      <td>product</td>\n",
       "    </tr>\n",
       "    <tr>\n",
       "      <th>2</th>\n",
       "      <td>15296</td>\n",
       "      <td>0.0</td>\n",
       "      <td>pierre-jean-villa-saint-joseph-tilde-2017</td>\n",
       "      <td>product</td>\n",
       "    </tr>\n",
       "    <tr>\n",
       "      <th>3</th>\n",
       "      <td>15300</td>\n",
       "      <td>0.0</td>\n",
       "      <td>pierre-jean-villa-croze-hermitage-accroche-coe...</td>\n",
       "      <td>product</td>\n",
       "    </tr>\n",
       "    <tr>\n",
       "      <th>4</th>\n",
       "      <td>19814</td>\n",
       "      <td>3.0</td>\n",
       "      <td>pierre-jean-villa-igp-gamine-2018</td>\n",
       "      <td>product</td>\n",
       "    </tr>\n",
       "  </tbody>\n",
       "</table>\n",
       "</div>"
      ],
      "text/plain": [
       "                id_web  total_sales  \\\n",
       "0  bon-cadeau-25-euros         10.0   \n",
       "1                15298          6.0   \n",
       "2                15296          0.0   \n",
       "3                15300          0.0   \n",
       "4                19814          3.0   \n",
       "\n",
       "                                        product_name post_type  \n",
       "0                             bon-cadeau-de-25-euros   product  \n",
       "1        pierre-jean-villa-saint-joseph-preface-2018   product  \n",
       "2          pierre-jean-villa-saint-joseph-tilde-2017   product  \n",
       "3  pierre-jean-villa-croze-hermitage-accroche-coe...   product  \n",
       "4                  pierre-jean-villa-igp-gamine-2018   product  "
      ]
     },
     "execution_count": 10,
     "metadata": {},
     "output_type": "execute_result"
    }
   ],
   "source": [
    "print(web.shape)\n",
    "web.head()"
   ]
  },
  {
   "cell_type": "markdown",
   "metadata": {},
   "source": [
    "## premières statistiques tirées de la DF erp\n",
    "\n",
    "Nous pouvons à présent utiliser à nouveau notre outil de profiling report pour obtenir les premières statistiques cette DF."
   ]
  },
  {
   "cell_type": "code",
   "execution_count": 11,
   "metadata": {},
   "outputs": [
    {
     "name": "stderr",
     "output_type": "stream",
     "text": [
      "Summarize dataset: 100%|██████████| 18/18 [00:01<00:00, 14.32it/s, Completed]\n",
      "Generate report structure: 100%|██████████| 1/1 [00:01<00:00,  1.98s/it]\n"
     ]
    },
    {
     "data": {
      "application/vnd.jupyter.widget-view+json": {
       "model_id": "be584bed0d6d4d47a1437667c6988c83",
       "version_major": 2,
       "version_minor": 0
      },
      "text/plain": [
       "VBox(children=(Tab(children=(Tab(children=(GridBox(children=(VBox(children=(GridspecLayout(children=(HTML(valu…"
      ]
     },
     "metadata": {},
     "output_type": "display_data"
    }
   ],
   "source": [
    "# profiling report pour obtenir les premières statistiques de la DF web\n",
    "\n",
    "profileWeb = ProfileReport(web, title=\"Pandas Profiling Report\")\n",
    "profileWeb.to_widgets()"
   ]
  },
  {
   "cell_type": "markdown",
   "metadata": {},
   "source": [
    "1. Overview: 714 lignes, 5 colonnes, 0 NaN, 0 duplicate rows\n",
    "2. Variables:\n",
    "    1. df_index: 714 valeurs distinctes\n",
    "    2. id_web: pas d'informations particulières\n",
    "    3. total_sales: valeurs nules ou positives comprises entre 0 et 96 avec une moyenne de 4.01\n",
    "    4. product_name: 714 valeurs distinctes\n",
    "    5. post_type: 714 fois la valeur \"attachment\"\n",
    "3. interactions: nous permet de voir une représentation graphique des ventes par produit\n",
    "4. missing value: pas de valeurs manquantes\n",
    "5. sample: affichage des premières et dernières lignes de la DF\n",
    "\n",
    "\n"
   ]
  },
  {
   "cell_type": "markdown",
   "metadata": {},
   "source": [
    "# 8 Variables et fonctions:<a class=\"anchor\" id=\"chapter8\"></a>\n",
    "\n",
    "L'idée est de déclarer ici toutes les variables et fonctions qui seront utilisées pour notre analyse et pour répondre aux questions posées.\n",
    "les questions posées correspondant exclusivement aux produits en ligne, nous éliminerons les produits non commercialisés sur le site."
   ]
  },
  {
   "cell_type": "code",
   "execution_count": 12,
   "metadata": {},
   "outputs": [
    {
     "name": "stdout",
     "output_type": "stream",
     "text": [
      " product_id dans erp : 825\n",
      " product_id dans liaison : 825\n",
      " id_web dans liaison : 735\n",
      " id_web dans web : 715\n",
      " product_id dans erp_online : 717\n",
      "forme de la df totale: 714 lignes, 12 colonnes\n"
     ]
    },
    {
     "data": {
      "text/html": [
       "<div>\n",
       "<style scoped>\n",
       "    .dataframe tbody tr th:only-of-type {\n",
       "        vertical-align: middle;\n",
       "    }\n",
       "\n",
       "    .dataframe tbody tr th {\n",
       "        vertical-align: top;\n",
       "    }\n",
       "\n",
       "    .dataframe thead th {\n",
       "        text-align: right;\n",
       "    }\n",
       "</style>\n",
       "<table border=\"1\" class=\"dataframe\">\n",
       "  <thead>\n",
       "    <tr style=\"text-align: right;\">\n",
       "      <th></th>\n",
       "      <th>product_id</th>\n",
       "      <th>onsale_web</th>\n",
       "      <th>price</th>\n",
       "      <th>stock_quantity</th>\n",
       "      <th>id_web</th>\n",
       "      <th>total_sales</th>\n",
       "      <th>product_name</th>\n",
       "      <th>post_type</th>\n",
       "      <th>valeur_stock</th>\n",
       "      <th>chiffre_affaire</th>\n",
       "      <th>stockSupCA</th>\n",
       "      <th>sold</th>\n",
       "    </tr>\n",
       "  </thead>\n",
       "  <tbody>\n",
       "    <tr>\n",
       "      <th>0</th>\n",
       "      <td>3847</td>\n",
       "      <td>1</td>\n",
       "      <td>24.2</td>\n",
       "      <td>0</td>\n",
       "      <td>15298</td>\n",
       "      <td>6.0</td>\n",
       "      <td>pierre-jean-villa-saint-joseph-preface-2018</td>\n",
       "      <td>product</td>\n",
       "      <td>0.0</td>\n",
       "      <td>145.2</td>\n",
       "      <td>False</td>\n",
       "      <td>True</td>\n",
       "    </tr>\n",
       "    <tr>\n",
       "      <th>1</th>\n",
       "      <td>3849</td>\n",
       "      <td>1</td>\n",
       "      <td>34.3</td>\n",
       "      <td>0</td>\n",
       "      <td>15296</td>\n",
       "      <td>0.0</td>\n",
       "      <td>pierre-jean-villa-saint-joseph-tilde-2017</td>\n",
       "      <td>product</td>\n",
       "      <td>0.0</td>\n",
       "      <td>0.0</td>\n",
       "      <td>False</td>\n",
       "      <td>False</td>\n",
       "    </tr>\n",
       "    <tr>\n",
       "      <th>2</th>\n",
       "      <td>3850</td>\n",
       "      <td>1</td>\n",
       "      <td>20.8</td>\n",
       "      <td>0</td>\n",
       "      <td>15300</td>\n",
       "      <td>0.0</td>\n",
       "      <td>pierre-jean-villa-croze-hermitage-accroche-coe...</td>\n",
       "      <td>product</td>\n",
       "      <td>0.0</td>\n",
       "      <td>0.0</td>\n",
       "      <td>False</td>\n",
       "      <td>False</td>\n",
       "    </tr>\n",
       "    <tr>\n",
       "      <th>3</th>\n",
       "      <td>4032</td>\n",
       "      <td>1</td>\n",
       "      <td>14.1</td>\n",
       "      <td>0</td>\n",
       "      <td>19814</td>\n",
       "      <td>3.0</td>\n",
       "      <td>pierre-jean-villa-igp-gamine-2018</td>\n",
       "      <td>product</td>\n",
       "      <td>0.0</td>\n",
       "      <td>42.3</td>\n",
       "      <td>False</td>\n",
       "      <td>True</td>\n",
       "    </tr>\n",
       "    <tr>\n",
       "      <th>4</th>\n",
       "      <td>4039</td>\n",
       "      <td>1</td>\n",
       "      <td>46.0</td>\n",
       "      <td>0</td>\n",
       "      <td>19815</td>\n",
       "      <td>0.0</td>\n",
       "      <td>pierre-jean-villa-cote-rotie-carmina-2017</td>\n",
       "      <td>product</td>\n",
       "      <td>0.0</td>\n",
       "      <td>0.0</td>\n",
       "      <td>False</td>\n",
       "      <td>False</td>\n",
       "    </tr>\n",
       "  </tbody>\n",
       "</table>\n",
       "</div>"
      ],
      "text/plain": [
       "   product_id  onsale_web  price  stock_quantity id_web  total_sales  \\\n",
       "0        3847           1   24.2               0  15298          6.0   \n",
       "1        3849           1   34.3               0  15296          0.0   \n",
       "2        3850           1   20.8               0  15300          0.0   \n",
       "3        4032           1   14.1               0  19814          3.0   \n",
       "4        4039           1   46.0               0  19815          0.0   \n",
       "\n",
       "                                        product_name post_type  valeur_stock  \\\n",
       "0        pierre-jean-villa-saint-joseph-preface-2018   product           0.0   \n",
       "1          pierre-jean-villa-saint-joseph-tilde-2017   product           0.0   \n",
       "2  pierre-jean-villa-croze-hermitage-accroche-coe...   product           0.0   \n",
       "3                  pierre-jean-villa-igp-gamine-2018   product           0.0   \n",
       "4          pierre-jean-villa-cote-rotie-carmina-2017   product           0.0   \n",
       "\n",
       "   chiffre_affaire  stockSupCA   sold  \n",
       "0            145.2       False   True  \n",
       "1              0.0       False  False  \n",
       "2              0.0       False  False  \n",
       "3             42.3       False   True  \n",
       "4              0.0       False  False  "
      ]
     },
     "execution_count": 12,
     "metadata": {},
     "output_type": "execute_result"
    }
   ],
   "source": [
    "# Variables et fonctions\n",
    "# créations de bases\n",
    "all_bases = {\n",
    "    \"erp\" : erp,\n",
    "    \"liaisons\" : liaison,\n",
    "    \"web\" : web\n",
    "}\n",
    "\n",
    "# création d'une base erp_online qui ne contient que les lignes d'erp correspondant à des produits commercialisés en ligne.\n",
    "erp_online = erp[erp.onsale_web == 1]\n",
    "\n",
    "\n",
    "# jointures\n",
    "# entre l'erp \"en ligne\" et le fichier de liaison:\n",
    "erp_online_liaison = pd.merge(erp_online, liaison, how=\"outer\", on=\"product_id\")\n",
    "\n",
    "# entre le fichier web et le fichier de liaison:\n",
    "web_liaison = pd.merge(web, liaison, how=\"outer\", on=\"id_web\")\n",
    "\n",
    "# entre l'erp \"en ligne\" et la jointure du fichier web et liaison:\n",
    "total_base = pd.merge(erp_online, web_liaison, on=\"product_id\")\n",
    "\n",
    "# suppression des 3 NaN correspondant aux produits référencés dans erp_online et pas dans web\n",
    "total_base = total_base[total_base.id_web.isna() == False]\n",
    "\n",
    "# calcul de la valeur du stock\n",
    "total_base[\"valeur_stock\"] = total_base.stock_quantity * total_base.price\n",
    "\n",
    "# chiffre d'affaire \n",
    "total_base[\"chiffre_affaire\"] = total_base['price']*total_base['total_sales']\n",
    "\n",
    "# valeur stock > CA\n",
    "total_base[\"stockSupCA\"] = total_base.valeur_stock > total_base.chiffre_affaire\n",
    "\n",
    "# ajout d'un Booleen si le produit s'est déjà vendu\n",
    "total_base[\"sold\"] = total_base.chiffre_affaire > 0 \n",
    "\n",
    "# Contrôles\n",
    "\n",
    "print(f' product_id dans erp : {len(erp.product_id.unique())}')\n",
    "print(f' product_id dans liaison : {len(liaison.product_id.unique())}')\n",
    "print(f' id_web dans liaison : {len(liaison.id_web.unique())}')\n",
    "print(f' id_web dans web : {len(web.id_web.unique())}')\n",
    "print(f' product_id dans erp_online : {len(erp_online.product_id.unique())}')\n",
    "print(f'forme de la df totale: {total_base.shape[0]} lignes, {total_base.shape[1]} colonnes')\n",
    "total_base.head()"
   ]
  },
  {
   "cell_type": "markdown",
   "metadata": {},
   "source": [
    "\n",
    "## 9 Analyse et mise en forme des données <a class=\"anchor\" id=\"chapter9\"></a>\n",
    "\n",
    "On vérifie la pertinence des données recueillies et on les met en forme pour l'analyse demandée.\n",
    "\n"
   ]
  },
  {
   "cell_type": "markdown",
   "metadata": {},
   "source": [
    "On constate que 825 produits sont listés dans l'ERP et dans le fichier de liaison.\n",
    "on remarque que si on restreint l'erp aux produits commercialisés en ligne nous avons 717 références et seulement 714 références dans la df web, nous avons donc 3 références manquantes."
   ]
  },
  {
   "cell_type": "code",
   "execution_count": 13,
   "metadata": {},
   "outputs": [
    {
     "data": {
      "text/html": [
       "<div>\n",
       "<style scoped>\n",
       "    .dataframe tbody tr th:only-of-type {\n",
       "        vertical-align: middle;\n",
       "    }\n",
       "\n",
       "    .dataframe tbody tr th {\n",
       "        vertical-align: top;\n",
       "    }\n",
       "\n",
       "    .dataframe thead th {\n",
       "        text-align: right;\n",
       "    }\n",
       "</style>\n",
       "<table border=\"1\" class=\"dataframe\">\n",
       "  <thead>\n",
       "    <tr style=\"text-align: right;\">\n",
       "      <th></th>\n",
       "      <th>product_id</th>\n",
       "      <th>onsale_web</th>\n",
       "      <th>price</th>\n",
       "      <th>stock_quantity</th>\n",
       "      <th>id_web</th>\n",
       "    </tr>\n",
       "  </thead>\n",
       "  <tbody>\n",
       "    <tr>\n",
       "      <th>228</th>\n",
       "      <td>4594</td>\n",
       "      <td>1.0</td>\n",
       "      <td>144.0</td>\n",
       "      <td>0.0</td>\n",
       "      <td>NaN</td>\n",
       "    </tr>\n",
       "    <tr>\n",
       "      <th>449</th>\n",
       "      <td>5070</td>\n",
       "      <td>1.0</td>\n",
       "      <td>84.7</td>\n",
       "      <td>0.0</td>\n",
       "      <td>NaN</td>\n",
       "    </tr>\n",
       "    <tr>\n",
       "      <th>450</th>\n",
       "      <td>5075</td>\n",
       "      <td>1.0</td>\n",
       "      <td>43.3</td>\n",
       "      <td>0.0</td>\n",
       "      <td>NaN</td>\n",
       "    </tr>\n",
       "  </tbody>\n",
       "</table>\n",
       "</div>"
      ],
      "text/plain": [
       "     product_id  onsale_web  price  stock_quantity id_web\n",
       "228        4594         1.0  144.0             0.0    NaN\n",
       "449        5070         1.0   84.7             0.0    NaN\n",
       "450        5075         1.0   43.3             0.0    NaN"
      ]
     },
     "execution_count": 13,
     "metadata": {},
     "output_type": "execute_result"
    }
   ],
   "source": [
    "# produits vendus sur le web mais absents de la base de liaison \n",
    "\n",
    "erp_online_a_lier = erp_online_liaison[(erp_online_liaison.id_web.isna() == True) & (erp_online_liaison.onsale_web == 1)]\n",
    "erp_online_a_lier\n"
   ]
  },
  {
   "cell_type": "markdown",
   "metadata": {},
   "source": [
    "Ces 3 produits référencés dans l'ERP comme commercialisés en ligne mais absents du site n'etant pas en stock, nous tirons la conclusion qu'ils seront référencés sur le site web au moment de leur remise en stock et nous choisissons de ne plus en tenir compte pour la suite de notre analyse.\n",
    "\n",
    "\n",
    "\n"
   ]
  },
  {
   "cell_type": "markdown",
   "metadata": {},
   "source": [
    "## 10 premières statistiques globales<a class=\"anchor\" id=\"chapter10\"></a>"
   ]
  },
  {
   "cell_type": "code",
   "execution_count": 14,
   "metadata": {},
   "outputs": [
    {
     "data": {
      "application/vnd.jupyter.widget-view+json": {
       "model_id": "be584bed0d6d4d47a1437667c6988c83",
       "version_major": 2,
       "version_minor": 0
      },
      "text/plain": [
       "VBox(children=(Tab(children=(Tab(children=(GridBox(children=(VBox(children=(GridspecLayout(children=(HTML(valu…"
      ]
     },
     "metadata": {},
     "output_type": "display_data"
    }
   ],
   "source": [
    "profiletotal = ProfileReport(total_base, title=\"Pandas Profiling Report\")\n",
    "profileWeb.to_widgets()"
   ]
  },
  {
   "cell_type": "markdown",
   "metadata": {},
   "source": [
    "1. Overview : 714 lignes 5 colones, 0 NaN, 0 Duplicate\n",
    "2. Variables:\n",
    "    1. df_index: 714 distinct\n",
    "    2. id_web: pas d'informations\n",
    "    3. total sales: 41 tarifs distincts, uniquement des valeurs nulles (pas de vente) ou positives, comprises entre 0 et 96, avec une moyenne de 4.01, on notera que sur les 714 références, 329 (soit 46.1%) ne se sont jamais vendues.\n",
    "    4. product_name: 714 noms distincts\n",
    "    5. post type: 714 valeurs \"attachment\"\n",
    "3. Interactions:\n",
    "    1. graphique des ventes par index\n",
    "4. correlations:\n",
    "5. missing values: aucune\n",
    "6. Sample: premières et dernières lignes de la DF\n",
    "\n",
    "Il est envisageable de lister les produits invendus, ainsi que l'etat de leur stock pour questionner leur placement tarifaire ou disponibilité au catalogue.\n",
    "\n"
   ]
  },
  {
   "cell_type": "code",
   "execution_count": 15,
   "metadata": {},
   "outputs": [
    {
     "name": "stdout",
     "output_type": "stream",
     "text": [
      "[False]\n"
     ]
    }
   ],
   "source": [
    "# On vérifie que tous les produits référencés sur web aient un product_id\n",
    "\n",
    "print(web_liaison.product_id.isna().unique())\n"
   ]
  },
  {
   "cell_type": "markdown",
   "metadata": {},
   "source": [
    "\n",
    "#  11 Résolution des problèmes énoncés<a class=\"anchor\" id=\"chapter11\"></a>\n",
    "\n",
    "Il nous a été demandé de rapprocher les bases entre elles, d'en déduire le CA total, le CA par produit et d'y rechercher des valeurs anormales\n",
    "\n",
    "\n"
   ]
  },
  {
   "cell_type": "markdown",
   "metadata": {},
   "source": [
    "## 12 rapprochement des bases<a class=\"anchor\" id=\"chapter12\"></a>\n",
    "\n",
    "On avait créé une DF en procédant à une jointure entre les 3 DF fournies dans la section \"variables et fonctions\"."
   ]
  },
  {
   "cell_type": "code",
   "execution_count": 16,
   "metadata": {},
   "outputs": [
    {
     "data": {
      "text/plain": [
       "product_id                                                      4596\n",
       "onsale_web                                                         1\n",
       "price                                                           43.9\n",
       "stock_quantity                                                     0\n",
       "id_web                                                         15476\n",
       "total_sales                                                       23\n",
       "product_name       marc-colin-et-fils-chassagne-montrachet-blanc-...\n",
       "post_type                                                    product\n",
       "valeur_stock                                                       0\n",
       "chiffre_affaire                                               1009.7\n",
       "stockSupCA                                                     False\n",
       "sold                                                            True\n",
       "Name: 230, dtype: object"
      ]
     },
     "execution_count": 16,
     "metadata": {},
     "output_type": "execute_result"
    }
   ],
   "source": [
    "# Résolution des problèmes énoncés\n",
    "# On appelle une ligne au hazard pour avoir un apperçu des informations contenue dans la DF\n",
    "\n",
    "total_base.iloc[228]"
   ]
  },
  {
   "cell_type": "markdown",
   "metadata": {},
   "source": [
    "\n",
    "## 13 chiffre d'affaire total en  ligne <a class=\"anchor\" id=\"chapter13\"></a>\n",
    "\n",
    "Comme nous avions retiré de la DF tous les produits non commercialisés en ligne, il nous suffit de faire la somme des valeurs de la colonne chiffre_affaire\n",
    "\n",
    "\n",
    "\n",
    "\n"
   ]
  },
  {
   "cell_type": "code",
   "execution_count": 17,
   "metadata": {},
   "outputs": [
    {
     "name": "stdout",
     "output_type": "stream",
     "text": [
      "total du chiffre d'affaire en ligne : 70568.6 €\n"
     ]
    }
   ],
   "source": [
    "\n",
    "\n",
    "# total du chiffre d'affaire réalisé en ligne\n",
    "ca_total = total_base.chiffre_affaire.sum()\n",
    "print(f\"total du chiffre d'affaire en ligne : {ca_total} €\")\n",
    "\n",
    "\n"
   ]
  },
  {
   "cell_type": "markdown",
   "metadata": {},
   "source": [
    "Le chiffre d'affaire total de la boutique en ligne est de 70568.6€."
   ]
  },
  {
   "cell_type": "markdown",
   "metadata": {},
   "source": [
    "##  14 Par produit <a class=\"anchor\" id=\"chapter14\"></a>\n",
    "\n",
    "le Chiffre d'affaire par produit est contenu dans la colonne chiffre_affaire pour chaque ligne."
   ]
  },
  {
   "cell_type": "code",
   "execution_count": 18,
   "metadata": {},
   "outputs": [
    {
     "data": {
      "text/html": [
       "<div>\n",
       "<style scoped>\n",
       "    .dataframe tbody tr th:only-of-type {\n",
       "        vertical-align: middle;\n",
       "    }\n",
       "\n",
       "    .dataframe tbody tr th {\n",
       "        vertical-align: top;\n",
       "    }\n",
       "\n",
       "    .dataframe thead th {\n",
       "        text-align: right;\n",
       "    }\n",
       "</style>\n",
       "<table border=\"1\" class=\"dataframe\">\n",
       "  <thead>\n",
       "    <tr style=\"text-align: right;\">\n",
       "      <th></th>\n",
       "      <th>product_id</th>\n",
       "      <th>onsale_web</th>\n",
       "      <th>price</th>\n",
       "      <th>stock_quantity</th>\n",
       "      <th>id_web</th>\n",
       "      <th>total_sales</th>\n",
       "      <th>product_name</th>\n",
       "      <th>post_type</th>\n",
       "      <th>valeur_stock</th>\n",
       "      <th>chiffre_affaire</th>\n",
       "      <th>stockSupCA</th>\n",
       "      <th>sold</th>\n",
       "    </tr>\n",
       "  </thead>\n",
       "  <tbody>\n",
       "    <tr>\n",
       "      <th>194</th>\n",
       "      <td>4334</td>\n",
       "      <td>1</td>\n",
       "      <td>49.0</td>\n",
       "      <td>0</td>\n",
       "      <td>7818</td>\n",
       "      <td>96.0</td>\n",
       "      <td>champagne-gosset-grand-blanc-de-blanc</td>\n",
       "      <td>product</td>\n",
       "      <td>0.0</td>\n",
       "      <td>4704.0</td>\n",
       "      <td>False</td>\n",
       "      <td>True</td>\n",
       "    </tr>\n",
       "    <tr>\n",
       "      <th>71</th>\n",
       "      <td>4144</td>\n",
       "      <td>1</td>\n",
       "      <td>49.0</td>\n",
       "      <td>11</td>\n",
       "      <td>1662</td>\n",
       "      <td>87.0</td>\n",
       "      <td>champagne-gosset-grand-rose</td>\n",
       "      <td>product</td>\n",
       "      <td>539.0</td>\n",
       "      <td>4263.0</td>\n",
       "      <td>False</td>\n",
       "      <td>True</td>\n",
       "    </tr>\n",
       "    <tr>\n",
       "      <th>218</th>\n",
       "      <td>4402</td>\n",
       "      <td>1</td>\n",
       "      <td>176.0</td>\n",
       "      <td>8</td>\n",
       "      <td>3510</td>\n",
       "      <td>13.0</td>\n",
       "      <td>cognac-frapin-vip-xo</td>\n",
       "      <td>product</td>\n",
       "      <td>1408.0</td>\n",
       "      <td>2288.0</td>\n",
       "      <td>False</td>\n",
       "      <td>True</td>\n",
       "    </tr>\n",
       "    <tr>\n",
       "      <th>70</th>\n",
       "      <td>4142</td>\n",
       "      <td>1</td>\n",
       "      <td>53.0</td>\n",
       "      <td>8</td>\n",
       "      <td>11641</td>\n",
       "      <td>30.0</td>\n",
       "      <td>champagne-gosset-grand-millesime-2006</td>\n",
       "      <td>product</td>\n",
       "      <td>424.0</td>\n",
       "      <td>1590.0</td>\n",
       "      <td>False</td>\n",
       "      <td>True</td>\n",
       "    </tr>\n",
       "    <tr>\n",
       "      <th>69</th>\n",
       "      <td>4141</td>\n",
       "      <td>1</td>\n",
       "      <td>39.0</td>\n",
       "      <td>1</td>\n",
       "      <td>304</td>\n",
       "      <td>40.0</td>\n",
       "      <td>gosset-champagne-grande-reserve</td>\n",
       "      <td>product</td>\n",
       "      <td>39.0</td>\n",
       "      <td>1560.0</td>\n",
       "      <td>False</td>\n",
       "      <td>True</td>\n",
       "    </tr>\n",
       "  </tbody>\n",
       "</table>\n",
       "</div>"
      ],
      "text/plain": [
       "     product_id  onsale_web  price  stock_quantity id_web  total_sales  \\\n",
       "194        4334           1   49.0               0   7818         96.0   \n",
       "71         4144           1   49.0              11   1662         87.0   \n",
       "218        4402           1  176.0               8   3510         13.0   \n",
       "70         4142           1   53.0               8  11641         30.0   \n",
       "69         4141           1   39.0               1    304         40.0   \n",
       "\n",
       "                              product_name post_type  valeur_stock  \\\n",
       "194  champagne-gosset-grand-blanc-de-blanc   product           0.0   \n",
       "71             champagne-gosset-grand-rose   product         539.0   \n",
       "218                   cognac-frapin-vip-xo   product        1408.0   \n",
       "70   champagne-gosset-grand-millesime-2006   product         424.0   \n",
       "69         gosset-champagne-grande-reserve   product          39.0   \n",
       "\n",
       "     chiffre_affaire  stockSupCA  sold  \n",
       "194           4704.0       False  True  \n",
       "71            4263.0       False  True  \n",
       "218           2288.0       False  True  \n",
       "70            1590.0       False  True  \n",
       "69            1560.0       False  True  "
      ]
     },
     "execution_count": 18,
     "metadata": {},
     "output_type": "execute_result"
    }
   ],
   "source": [
    "# chiffre d'affaire par produit classé par CA décroissant.\n",
    "\n",
    "total_base.sort_values(\"chiffre_affaire\", ascending=False, inplace=True)\n",
    "total_base.head()\n"
   ]
  },
  {
   "cell_type": "markdown",
   "metadata": {},
   "source": [
    "\n",
    "\n",
    "nous ne tiendrons pas compte des produits non vendus pour l'étude du chiffre d'affaire par produit."
   ]
  },
  {
   "cell_type": "code",
   "execution_count": 19,
   "metadata": {},
   "outputs": [
    {
     "data": {
      "text/plain": [
       "count     385.000000\n",
       "mean      183.295065\n",
       "std       400.324073\n",
       "min         6.500000\n",
       "25%        38.600000\n",
       "50%        81.600000\n",
       "75%       164.400000\n",
       "max      4704.000000\n",
       "Name: chiffre_affaire, dtype: float64"
      ]
     },
     "execution_count": 19,
     "metadata": {},
     "output_type": "execute_result"
    }
   ],
   "source": [
    "# statistiques rapides du chiffre d'affaire par produit\n",
    "ca_positif = total_base[total_base.sold == True]\n",
    "ca_positif.chiffre_affaire.describe()"
   ]
  },
  {
   "cell_type": "markdown",
   "metadata": {},
   "source": [
    "La boutique en ligne à commercialisé avec succés 385 références sur 714.\n",
    "\n",
    "La meilleure vente apporte 4704€ de CA, la moins bonne 6,50€.\n",
    "Le CA produit moyen est de 183.30€\n",
    "\n"
   ]
  },
  {
   "cell_type": "code",
   "execution_count": 20,
   "metadata": {},
   "outputs": [
    {
     "data": {
      "application/vnd.plotly.v1+json": {
       "config": {
        "plotlyServerURL": "https://plot.ly"
       },
       "data": [
        {
         "alignmentgroup": "True",
         "bingroup": "y",
         "hovertemplate": "count=%{x}<br>chiffre_affaire=%{y}<extra></extra>",
         "legendgroup": "",
         "marker": {
          "color": "#636efa",
          "pattern": {
           "shape": ""
          }
         },
         "name": "",
         "offsetgroup": "",
         "orientation": "h",
         "showlegend": false,
         "type": "histogram",
         "xaxis": "x",
         "y": [
          4704,
          4263,
          2288,
          1590,
          1560,
          1391.5,
          1125,
          1044,
          1033.2,
          1029.2,
          1018.9,
          1009.6999999999999,
          1004.4,
          958.4,
          932.4,
          892.8000000000001,
          824.5,
          716,
          698,
          685,
          630.8000000000001,
          619.2,
          596.4,
          585,
          573.9000000000001,
          558.6,
          537.6,
          514.5,
          501.6,
          480,
          461.30000000000007,
          445.5,
          440,
          418,
          416,
          414.2,
          412.3,
          399,
          396,
          393,
          328,
          326.8,
          306.90000000000003,
          296.40000000000003,
          292.5,
          283.8,
          280,
          278.4,
          276,
          270,
          266.8,
          260.8,
          259.2,
          252.8,
          250,
          249.6,
          246.5,
          245.1,
          244,
          243.59999999999997,
          238.5,
          238.5,
          237.6,
          233.2,
          230,
          230,
          228,
          220.79999999999998,
          220.5,
          219.7,
          218.4,
          218.39999999999998,
          217,
          217,
          212.8,
          209,
          207.2,
          206,
          202.20000000000002,
          195.60000000000002,
          195.5,
          192,
          190.79999999999998,
          187.5,
          184.6,
          180,
          178.8,
          177.60000000000002,
          176.4,
          171,
          168.8,
          168,
          168,
          168,
          165,
          164.8,
          164.39999999999998,
          164.39999999999998,
          163.8,
          163.79999999999998,
          160.6,
          160.5,
          160.2,
          159.6,
          159,
          158.20000000000002,
          157.2,
          156.6,
          156,
          155.39999999999998,
          154.8,
          154.2,
          153,
          152.1,
          152,
          148.5,
          146.39999999999998,
          145.2,
          143,
          142,
          140.4,
          140.39999999999998,
          139.2,
          139.2,
          138.6,
          137.6,
          134.9,
          134.4,
          133,
          133,
          133,
          130.8,
          130.5,
          127.4,
          127,
          126.5,
          125,
          123.2,
          123,
          122.39999999999999,
          122.10000000000001,
          122.1,
          121.6,
          121.5,
          120.39999999999999,
          120,
          118.80000000000001,
          118.8,
          118,
          116.39999999999999,
          115.19999999999999,
          115,
          112.8,
          112.4,
          111.60000000000001,
          109.2,
          108,
          108,
          108,
          107.10000000000001,
          107.10000000000001,
          107.10000000000001,
          105.60000000000001,
          104.8,
          104,
          102.8,
          102,
          100.19999999999999,
          99,
          99,
          99,
          98.39999999999999,
          97.2,
          95.69999999999999,
          95.69999999999999,
          94.8,
          92.4,
          92,
          91.19999999999999,
          91,
          90,
          89,
          87.8,
          87.5,
          87,
          87,
          85.6,
          85.19999999999999,
          84.30000000000001,
          84,
          83.69999999999999,
          83.4,
          81.6,
          79.6,
          79.2,
          77.2,
          77.2,
          77,
          76.8,
          76,
          75.6,
          75.6,
          75.2,
          74.5,
          74.4,
          74.10000000000001,
          72.6,
          71.4,
          70,
          69.2,
          68.3,
          67.5,
          65.8,
          65.6,
          65.4,
          65.10000000000001,
          64.4,
          63.5,
          63.4,
          63.4,
          62.5,
          62,
          61,
          60.89999999999999,
          60.5,
          60.4,
          60.300000000000004,
          59.400000000000006,
          59.400000000000006,
          59,
          59,
          59,
          57.6,
          57.599999999999994,
          56.2,
          56,
          55.4,
          54.599999999999994,
          54.599999999999994,
          54.4,
          54.300000000000004,
          52.7,
          52.5,
          52,
          51.8,
          51.300000000000004,
          50.8,
          50.8,
          50.4,
          50.1,
          50.099999999999994,
          50,
          49.9,
          49.5,
          49,
          48.900000000000006,
          48.900000000000006,
          48.6,
          48.5,
          48.4,
          47.6,
          47.400000000000006,
          46.4,
          46.2,
          46.2,
          45,
          44.7,
          44.5,
          44.4,
          44,
          43.5,
          43.5,
          43.2,
          42.900000000000006,
          42.3,
          42,
          41.8,
          41.8,
          41.400000000000006,
          41,
          40.4,
          40.2,
          39.900000000000006,
          39.6,
          39.6,
          39.5,
          39.2,
          39,
          38.6,
          38.6,
          38,
          38,
          37.7,
          36.900000000000006,
          36.900000000000006,
          36,
          36,
          36,
          35.7,
          35.6,
          35.6,
          35.6,
          35.5,
          34.8,
          34.4,
          34.2,
          34,
          34,
          33.900000000000006,
          33.5,
          33.4,
          32.8,
          32.8,
          32.400000000000006,
          32,
          31.799999999999997,
          31.5,
          30.599999999999998,
          29.7,
          29.400000000000002,
          29.099999999999998,
          28.8,
          28.799999999999997,
          28,
          28,
          27.900000000000002,
          27.900000000000002,
          27.7,
          26.7,
          26.2,
          26,
          25,
          24.6,
          24.4,
          24.2,
          23.2,
          22.4,
          22.2,
          22.2,
          22.1,
          21.6,
          21.5,
          20.8,
          20.2,
          19.3,
          19,
          17.9,
          17.1,
          16.7,
          16.6,
          16.6,
          16.5,
          16.3,
          15.8,
          15.5,
          15.4,
          15.3,
          15.2,
          15.2,
          14.3,
          14.1,
          14,
          13.7,
          13.7,
          13.4,
          12.8,
          12.8,
          12.6,
          12.6,
          11.1,
          10.7,
          10.7,
          10.4,
          10.1,
          9.9,
          9.9,
          9.5,
          9.3,
          9.2,
          9.1,
          8.9,
          8.9,
          7.8,
          7.5,
          6.5
         ],
         "yaxis": "y"
        }
       ],
       "layout": {
        "barmode": "relative",
        "legend": {
         "tracegroupgap": 0
        },
        "template": {
         "data": {
          "bar": [
           {
            "error_x": {
             "color": "#2a3f5f"
            },
            "error_y": {
             "color": "#2a3f5f"
            },
            "marker": {
             "line": {
              "color": "#E5ECF6",
              "width": 0.5
             },
             "pattern": {
              "fillmode": "overlay",
              "size": 10,
              "solidity": 0.2
             }
            },
            "type": "bar"
           }
          ],
          "barpolar": [
           {
            "marker": {
             "line": {
              "color": "#E5ECF6",
              "width": 0.5
             },
             "pattern": {
              "fillmode": "overlay",
              "size": 10,
              "solidity": 0.2
             }
            },
            "type": "barpolar"
           }
          ],
          "carpet": [
           {
            "aaxis": {
             "endlinecolor": "#2a3f5f",
             "gridcolor": "white",
             "linecolor": "white",
             "minorgridcolor": "white",
             "startlinecolor": "#2a3f5f"
            },
            "baxis": {
             "endlinecolor": "#2a3f5f",
             "gridcolor": "white",
             "linecolor": "white",
             "minorgridcolor": "white",
             "startlinecolor": "#2a3f5f"
            },
            "type": "carpet"
           }
          ],
          "choropleth": [
           {
            "colorbar": {
             "outlinewidth": 0,
             "ticks": ""
            },
            "type": "choropleth"
           }
          ],
          "contour": [
           {
            "colorbar": {
             "outlinewidth": 0,
             "ticks": ""
            },
            "colorscale": [
             [
              0,
              "#0d0887"
             ],
             [
              0.1111111111111111,
              "#46039f"
             ],
             [
              0.2222222222222222,
              "#7201a8"
             ],
             [
              0.3333333333333333,
              "#9c179e"
             ],
             [
              0.4444444444444444,
              "#bd3786"
             ],
             [
              0.5555555555555556,
              "#d8576b"
             ],
             [
              0.6666666666666666,
              "#ed7953"
             ],
             [
              0.7777777777777778,
              "#fb9f3a"
             ],
             [
              0.8888888888888888,
              "#fdca26"
             ],
             [
              1,
              "#f0f921"
             ]
            ],
            "type": "contour"
           }
          ],
          "contourcarpet": [
           {
            "colorbar": {
             "outlinewidth": 0,
             "ticks": ""
            },
            "type": "contourcarpet"
           }
          ],
          "heatmap": [
           {
            "colorbar": {
             "outlinewidth": 0,
             "ticks": ""
            },
            "colorscale": [
             [
              0,
              "#0d0887"
             ],
             [
              0.1111111111111111,
              "#46039f"
             ],
             [
              0.2222222222222222,
              "#7201a8"
             ],
             [
              0.3333333333333333,
              "#9c179e"
             ],
             [
              0.4444444444444444,
              "#bd3786"
             ],
             [
              0.5555555555555556,
              "#d8576b"
             ],
             [
              0.6666666666666666,
              "#ed7953"
             ],
             [
              0.7777777777777778,
              "#fb9f3a"
             ],
             [
              0.8888888888888888,
              "#fdca26"
             ],
             [
              1,
              "#f0f921"
             ]
            ],
            "type": "heatmap"
           }
          ],
          "heatmapgl": [
           {
            "colorbar": {
             "outlinewidth": 0,
             "ticks": ""
            },
            "colorscale": [
             [
              0,
              "#0d0887"
             ],
             [
              0.1111111111111111,
              "#46039f"
             ],
             [
              0.2222222222222222,
              "#7201a8"
             ],
             [
              0.3333333333333333,
              "#9c179e"
             ],
             [
              0.4444444444444444,
              "#bd3786"
             ],
             [
              0.5555555555555556,
              "#d8576b"
             ],
             [
              0.6666666666666666,
              "#ed7953"
             ],
             [
              0.7777777777777778,
              "#fb9f3a"
             ],
             [
              0.8888888888888888,
              "#fdca26"
             ],
             [
              1,
              "#f0f921"
             ]
            ],
            "type": "heatmapgl"
           }
          ],
          "histogram": [
           {
            "marker": {
             "pattern": {
              "fillmode": "overlay",
              "size": 10,
              "solidity": 0.2
             }
            },
            "type": "histogram"
           }
          ],
          "histogram2d": [
           {
            "colorbar": {
             "outlinewidth": 0,
             "ticks": ""
            },
            "colorscale": [
             [
              0,
              "#0d0887"
             ],
             [
              0.1111111111111111,
              "#46039f"
             ],
             [
              0.2222222222222222,
              "#7201a8"
             ],
             [
              0.3333333333333333,
              "#9c179e"
             ],
             [
              0.4444444444444444,
              "#bd3786"
             ],
             [
              0.5555555555555556,
              "#d8576b"
             ],
             [
              0.6666666666666666,
              "#ed7953"
             ],
             [
              0.7777777777777778,
              "#fb9f3a"
             ],
             [
              0.8888888888888888,
              "#fdca26"
             ],
             [
              1,
              "#f0f921"
             ]
            ],
            "type": "histogram2d"
           }
          ],
          "histogram2dcontour": [
           {
            "colorbar": {
             "outlinewidth": 0,
             "ticks": ""
            },
            "colorscale": [
             [
              0,
              "#0d0887"
             ],
             [
              0.1111111111111111,
              "#46039f"
             ],
             [
              0.2222222222222222,
              "#7201a8"
             ],
             [
              0.3333333333333333,
              "#9c179e"
             ],
             [
              0.4444444444444444,
              "#bd3786"
             ],
             [
              0.5555555555555556,
              "#d8576b"
             ],
             [
              0.6666666666666666,
              "#ed7953"
             ],
             [
              0.7777777777777778,
              "#fb9f3a"
             ],
             [
              0.8888888888888888,
              "#fdca26"
             ],
             [
              1,
              "#f0f921"
             ]
            ],
            "type": "histogram2dcontour"
           }
          ],
          "mesh3d": [
           {
            "colorbar": {
             "outlinewidth": 0,
             "ticks": ""
            },
            "type": "mesh3d"
           }
          ],
          "parcoords": [
           {
            "line": {
             "colorbar": {
              "outlinewidth": 0,
              "ticks": ""
             }
            },
            "type": "parcoords"
           }
          ],
          "pie": [
           {
            "automargin": true,
            "type": "pie"
           }
          ],
          "scatter": [
           {
            "marker": {
             "colorbar": {
              "outlinewidth": 0,
              "ticks": ""
             }
            },
            "type": "scatter"
           }
          ],
          "scatter3d": [
           {
            "line": {
             "colorbar": {
              "outlinewidth": 0,
              "ticks": ""
             }
            },
            "marker": {
             "colorbar": {
              "outlinewidth": 0,
              "ticks": ""
             }
            },
            "type": "scatter3d"
           }
          ],
          "scattercarpet": [
           {
            "marker": {
             "colorbar": {
              "outlinewidth": 0,
              "ticks": ""
             }
            },
            "type": "scattercarpet"
           }
          ],
          "scattergeo": [
           {
            "marker": {
             "colorbar": {
              "outlinewidth": 0,
              "ticks": ""
             }
            },
            "type": "scattergeo"
           }
          ],
          "scattergl": [
           {
            "marker": {
             "colorbar": {
              "outlinewidth": 0,
              "ticks": ""
             }
            },
            "type": "scattergl"
           }
          ],
          "scattermapbox": [
           {
            "marker": {
             "colorbar": {
              "outlinewidth": 0,
              "ticks": ""
             }
            },
            "type": "scattermapbox"
           }
          ],
          "scatterpolar": [
           {
            "marker": {
             "colorbar": {
              "outlinewidth": 0,
              "ticks": ""
             }
            },
            "type": "scatterpolar"
           }
          ],
          "scatterpolargl": [
           {
            "marker": {
             "colorbar": {
              "outlinewidth": 0,
              "ticks": ""
             }
            },
            "type": "scatterpolargl"
           }
          ],
          "scatterternary": [
           {
            "marker": {
             "colorbar": {
              "outlinewidth": 0,
              "ticks": ""
             }
            },
            "type": "scatterternary"
           }
          ],
          "surface": [
           {
            "colorbar": {
             "outlinewidth": 0,
             "ticks": ""
            },
            "colorscale": [
             [
              0,
              "#0d0887"
             ],
             [
              0.1111111111111111,
              "#46039f"
             ],
             [
              0.2222222222222222,
              "#7201a8"
             ],
             [
              0.3333333333333333,
              "#9c179e"
             ],
             [
              0.4444444444444444,
              "#bd3786"
             ],
             [
              0.5555555555555556,
              "#d8576b"
             ],
             [
              0.6666666666666666,
              "#ed7953"
             ],
             [
              0.7777777777777778,
              "#fb9f3a"
             ],
             [
              0.8888888888888888,
              "#fdca26"
             ],
             [
              1,
              "#f0f921"
             ]
            ],
            "type": "surface"
           }
          ],
          "table": [
           {
            "cells": {
             "fill": {
              "color": "#EBF0F8"
             },
             "line": {
              "color": "white"
             }
            },
            "header": {
             "fill": {
              "color": "#C8D4E3"
             },
             "line": {
              "color": "white"
             }
            },
            "type": "table"
           }
          ]
         },
         "layout": {
          "annotationdefaults": {
           "arrowcolor": "#2a3f5f",
           "arrowhead": 0,
           "arrowwidth": 1
          },
          "autotypenumbers": "strict",
          "coloraxis": {
           "colorbar": {
            "outlinewidth": 0,
            "ticks": ""
           }
          },
          "colorscale": {
           "diverging": [
            [
             0,
             "#8e0152"
            ],
            [
             0.1,
             "#c51b7d"
            ],
            [
             0.2,
             "#de77ae"
            ],
            [
             0.3,
             "#f1b6da"
            ],
            [
             0.4,
             "#fde0ef"
            ],
            [
             0.5,
             "#f7f7f7"
            ],
            [
             0.6,
             "#e6f5d0"
            ],
            [
             0.7,
             "#b8e186"
            ],
            [
             0.8,
             "#7fbc41"
            ],
            [
             0.9,
             "#4d9221"
            ],
            [
             1,
             "#276419"
            ]
           ],
           "sequential": [
            [
             0,
             "#0d0887"
            ],
            [
             0.1111111111111111,
             "#46039f"
            ],
            [
             0.2222222222222222,
             "#7201a8"
            ],
            [
             0.3333333333333333,
             "#9c179e"
            ],
            [
             0.4444444444444444,
             "#bd3786"
            ],
            [
             0.5555555555555556,
             "#d8576b"
            ],
            [
             0.6666666666666666,
             "#ed7953"
            ],
            [
             0.7777777777777778,
             "#fb9f3a"
            ],
            [
             0.8888888888888888,
             "#fdca26"
            ],
            [
             1,
             "#f0f921"
            ]
           ],
           "sequentialminus": [
            [
             0,
             "#0d0887"
            ],
            [
             0.1111111111111111,
             "#46039f"
            ],
            [
             0.2222222222222222,
             "#7201a8"
            ],
            [
             0.3333333333333333,
             "#9c179e"
            ],
            [
             0.4444444444444444,
             "#bd3786"
            ],
            [
             0.5555555555555556,
             "#d8576b"
            ],
            [
             0.6666666666666666,
             "#ed7953"
            ],
            [
             0.7777777777777778,
             "#fb9f3a"
            ],
            [
             0.8888888888888888,
             "#fdca26"
            ],
            [
             1,
             "#f0f921"
            ]
           ]
          },
          "colorway": [
           "#636efa",
           "#EF553B",
           "#00cc96",
           "#ab63fa",
           "#FFA15A",
           "#19d3f3",
           "#FF6692",
           "#B6E880",
           "#FF97FF",
           "#FECB52"
          ],
          "font": {
           "color": "#2a3f5f"
          },
          "geo": {
           "bgcolor": "white",
           "lakecolor": "white",
           "landcolor": "#E5ECF6",
           "showlakes": true,
           "showland": true,
           "subunitcolor": "white"
          },
          "hoverlabel": {
           "align": "left"
          },
          "hovermode": "closest",
          "mapbox": {
           "style": "light"
          },
          "paper_bgcolor": "white",
          "plot_bgcolor": "#E5ECF6",
          "polar": {
           "angularaxis": {
            "gridcolor": "white",
            "linecolor": "white",
            "ticks": ""
           },
           "bgcolor": "#E5ECF6",
           "radialaxis": {
            "gridcolor": "white",
            "linecolor": "white",
            "ticks": ""
           }
          },
          "scene": {
           "xaxis": {
            "backgroundcolor": "#E5ECF6",
            "gridcolor": "white",
            "gridwidth": 2,
            "linecolor": "white",
            "showbackground": true,
            "ticks": "",
            "zerolinecolor": "white"
           },
           "yaxis": {
            "backgroundcolor": "#E5ECF6",
            "gridcolor": "white",
            "gridwidth": 2,
            "linecolor": "white",
            "showbackground": true,
            "ticks": "",
            "zerolinecolor": "white"
           },
           "zaxis": {
            "backgroundcolor": "#E5ECF6",
            "gridcolor": "white",
            "gridwidth": 2,
            "linecolor": "white",
            "showbackground": true,
            "ticks": "",
            "zerolinecolor": "white"
           }
          },
          "shapedefaults": {
           "line": {
            "color": "#2a3f5f"
           }
          },
          "ternary": {
           "aaxis": {
            "gridcolor": "white",
            "linecolor": "white",
            "ticks": ""
           },
           "baxis": {
            "gridcolor": "white",
            "linecolor": "white",
            "ticks": ""
           },
           "bgcolor": "#E5ECF6",
           "caxis": {
            "gridcolor": "white",
            "linecolor": "white",
            "ticks": ""
           }
          },
          "title": {
           "x": 0.05
          },
          "xaxis": {
           "automargin": true,
           "gridcolor": "white",
           "linecolor": "white",
           "ticks": "",
           "title": {
            "standoff": 15
           },
           "zerolinecolor": "white",
           "zerolinewidth": 2
          },
          "yaxis": {
           "automargin": true,
           "gridcolor": "white",
           "linecolor": "white",
           "ticks": "",
           "title": {
            "standoff": 15
           },
           "zerolinecolor": "white",
           "zerolinewidth": 2
          }
         }
        },
        "title": {
         "text": "répartition des CA produits"
        },
        "xaxis": {
         "anchor": "y",
         "domain": [
          0,
          1
         ],
         "title": {
          "text": "count"
         }
        },
        "yaxis": {
         "anchor": "x",
         "domain": [
          0,
          1
         ],
         "title": {
          "text": "chiffre_affaire"
         }
        }
       }
      }
     },
     "metadata": {},
     "output_type": "display_data"
    }
   ],
   "source": [
    "data = ca_positif\n",
    "fig = px.histogram(data, title=\"répartition des CA produits\",\n",
    "y=\"chiffre_affaire\" )\n",
    "fig.show()"
   ]
  },
  {
   "cell_type": "markdown",
   "metadata": {},
   "source": [
    "Ce graphique nous permet de constater que la majorité des produits (306/385) ont un CA compris entre 0 et 199€ \n"
   ]
  },
  {
   "cell_type": "markdown",
   "metadata": {},
   "source": [
    "\n",
    "# 15 Recherche de valeurs anormales <a class=\"anchor\" id=\"chapter15\"></a>\n",
    "\n"
   ]
  },
  {
   "cell_type": "code",
   "execution_count": 21,
   "metadata": {},
   "outputs": [
    {
     "data": {
      "text/plain": [
       "count    714.000000\n",
       "mean      32.493137\n",
       "std       27.810525\n",
       "min        5.200000\n",
       "25%       14.100000\n",
       "50%       23.550000\n",
       "75%       42.175000\n",
       "max      225.000000\n",
       "Name: price, dtype: float64"
      ]
     },
     "execution_count": 21,
     "metadata": {},
     "output_type": "execute_result"
    }
   ],
   "source": [
    "# récupération des statistiques basiques de la colone price \n",
    "total_base.price.describe(include='all')\n"
   ]
  },
  {
   "cell_type": "code",
   "execution_count": 22,
   "metadata": {},
   "outputs": [
    {
     "name": "stdout",
     "output_type": "stream",
     "text": [
      "moyenne : 32.49313725490197\n",
      "médiane : 23.55\n",
      "mode : 0    19.0\n",
      "dtype: float64\n",
      "variance : 772.342067748668\n",
      "ecart type : 27.791042941002917\n",
      "skewness : 2.5809012630033696\n",
      "kurtosis : 10.088392064977288\n",
      "intervale interquartile : 28.075000000000003\n"
     ]
    }
   ],
   "source": [
    "# seconde solution pour récupérer les statistiques basiques individuellement\n",
    "data = total_base.price\n",
    "print(f'moyenne : {data.mean()}')\n",
    "print(f'médiane : {data.median()}')\n",
    "print(f'mode : {data.mode()}')\n",
    "# ddof = 0 sur la population complète\n",
    "# ddof = 1 sur un échantillon de la population\n",
    "print(f'variance : {data.var(ddof=0)}')\n",
    "print(f'ecart type : {data.std(ddof=0)}')\n",
    "print(f'skewness : {data.skew()}')\n",
    "print(f'kurtosis : {data.kurtosis()}')\n",
    "q1 = np.percentile(data, 25)\n",
    "q3 = np.percentile(data, 75)\n",
    "interquartile = q3-q1\n",
    "print(f'intervale interquartile : {interquartile}')"
   ]
  },
  {
   "cell_type": "markdown",
   "metadata": {},
   "source": [
    "## Visualisation des valeurs sous forme d'histogramme\n",
    "\n",
    "calcul du coéfficient d'asymétrie (skewness) \n"
   ]
  },
  {
   "cell_type": "code",
   "execution_count": 23,
   "metadata": {},
   "outputs": [
    {
     "name": "stdout",
     "output_type": "stream",
     "text": [
      "coefficient d'asymétrie : 0    0.485521\n",
      "dtype: float64\n",
      " deuxieme coefficient d'asymétrie : 0.9653978017903665\n"
     ]
    }
   ],
   "source": [
    "#asymétrie de pearson (par le mode):  (moyenne - mode)/ecart type\n",
    "\n",
    "skew = ((data.mean()-data.mode())/(data.std(ddof=0)))\n",
    "print(f\"coefficient d'asymétrie : {skew}\")\n",
    "\n",
    "# deuxième coéfficient d'asymétrie de pearson (par la médiane): (3(moyenne - médiane))/ecart-type\n",
    "pearson2 = 3*(data.mean()-data.median())/(data.std(ddof=0))\n",
    "\n",
    "print(f\" deuxieme coefficient d'asymétrie : {pearson2}\")"
   ]
  },
  {
   "cell_type": "markdown",
   "metadata": {},
   "source": [
    "Un coéfficient d'asymétrie positif indique une distribution décalée à gauche de la médiane \n",
    "\n"
   ]
  },
  {
   "cell_type": "code",
   "execution_count": 24,
   "metadata": {},
   "outputs": [
    {
     "data": {
      "application/vnd.plotly.v1+json": {
       "config": {
        "plotlyServerURL": "https://plot.ly"
       },
       "data": [
        {
         "alignmentgroup": "True",
         "bingroup": "x",
         "hovertemplate": "variable=price<br>value=%{x}<br>count=%{y}<extra></extra>",
         "legendgroup": "price",
         "marker": {
          "color": "#636efa",
          "pattern": {
           "shape": ""
          }
         },
         "name": "price",
         "offsetgroup": "price",
         "orientation": "v",
         "showlegend": true,
         "type": "histogram",
         "x": [
          49,
          49,
          176,
          53,
          39,
          126.5,
          225,
          29,
          25.2,
          16.6,
          44.3,
          43.9,
          27.9,
          59.9,
          25.2,
          37.2,
          48.5,
          71.6,
          69.8,
          137,
          33.2,
          51.6,
          42.6,
          19.5,
          191.3,
          13.3,
          16.8,
          24.5,
          22.8,
          80,
          65.9,
          49.5,
          44,
          22,
          20.8,
          10.9,
          21.7,
          21,
          22,
          26.2,
          41,
          8.6,
          9.3,
          22.8,
          22.5,
          12.9,
          40,
          23.2,
          23,
          135,
          5.8,
          32.6,
          14.4,
          31.6,
          25,
          62.4,
          8.5,
          5.7,
          24.4,
          34.8,
          15.9,
          79.5,
          13.2,
          58.3,
          46,
          115,
          28.5,
          18.4,
          31.5,
          16.9,
          31.2,
          18.2,
          108.5,
          31,
          53.2,
          19,
          25.9,
          20.6,
          33.7,
          16.3,
          11.5,
          12.8,
          21.2,
          12.5,
          7.1,
          60,
          14.9,
          14.8,
          9.8,
          57,
          42.2,
          24,
          42,
          24,
          55,
          41.2,
          54.8,
          13.7,
          27.3,
          23.4,
          14.6,
          32.1,
          26.7,
          22.8,
          26.5,
          11.3,
          52.4,
          8.7,
          39,
          25.9,
          12.9,
          25.7,
          8.5,
          16.9,
          7.6,
          16.5,
          24.4,
          24.2,
          13,
          28.4,
          7.8,
          23.4,
          5.8,
          11.6,
          19.8,
          34.4,
          7.1,
          19.2,
          19,
          26.6,
          19,
          21.8,
          43.5,
          9.8,
          12.7,
          25.3,
          25,
          61.6,
          20.5,
          13.6,
          20.35,
          11.1,
          7.6,
          13.5,
          8.6,
          12,
          9.9,
          59.4,
          23.6,
          9.7,
          19.2,
          23,
          14.1,
          28.1,
          9.3,
          27.3,
          10.8,
          13.5,
          27,
          15.3,
          11.9,
          11.9,
          35.2,
          52.4,
          104,
          25.7,
          17,
          33.4,
          11,
          33,
          49.5,
          32.8,
          10.8,
          8.7,
          8.7,
          23.7,
          30.8,
          46,
          15.2,
          6.5,
          45,
          17.8,
          43.9,
          17.5,
          29,
          29,
          85.6,
          7.1,
          28.1,
          12,
          27.9,
          27.8,
          20.4,
          39.8,
          19.8,
          38.6,
          38.6,
          15.4,
          38.4,
          9.5,
          12.6,
          12.6,
          9.4,
          14.9,
          24.8,
          5.7,
          12.1,
          11.9,
          7,
          17.3,
          68.3,
          13.5,
          16.45,
          16.4,
          21.8,
          9.3,
          16.1,
          12.7,
          31.7,
          63.4,
          62.5,
          15.5,
          30.5,
          8.7,
          12.1,
          60.4,
          20.1,
          9.9,
          9.9,
          29.5,
          59,
          59,
          57.6,
          19.2,
          14.05,
          56,
          55.4,
          9.1,
          18.2,
          27.2,
          18.1,
          52.7,
          17.5,
          26,
          25.9,
          17.1,
          12.7,
          12.7,
          12.6,
          50.1,
          16.7,
          50,
          49.9,
          49.5,
          49,
          16.3,
          16.3,
          24.3,
          48.5,
          48.4,
          6.8,
          15.8,
          5.8,
          7.7,
          15.4,
          9,
          14.9,
          44.5,
          22.2,
          44,
          14.5,
          14.5,
          14.4,
          14.3,
          14.1,
          8.4,
          41.8,
          41.8,
          13.8,
          20.5,
          10.1,
          40.2,
          13.3,
          9.9,
          19.8,
          7.9,
          39.2,
          39,
          38.6,
          38.6,
          19,
          19,
          37.7,
          12.3,
          12.3,
          12,
          9,
          36,
          11.9,
          8.9,
          17.8,
          35.6,
          35.5,
          17.4,
          17.2,
          5.7,
          6.8,
          17,
          11.3,
          6.7,
          16.7,
          16.4,
          8.2,
          10.8,
          32,
          10.6,
          31.5,
          10.2,
          29.7,
          9.8,
          9.7,
          14.4,
          9.6,
          14,
          28,
          9.3,
          9.3,
          27.7,
          26.7,
          13.1,
          6.5,
          25,
          24.6,
          12.2,
          24.2,
          23.2,
          22.4,
          11.1,
          11.1,
          22.1,
          21.6,
          21.5,
          20.8,
          20.2,
          19.3,
          19,
          17.9,
          17.1,
          16.7,
          16.6,
          16.6,
          16.5,
          16.3,
          15.8,
          15.5,
          15.4,
          15.3,
          15.2,
          15.2,
          14.3,
          14.1,
          7,
          13.7,
          13.7,
          13.4,
          12.8,
          12.8,
          6.3,
          12.6,
          11.1,
          10.7,
          10.7,
          10.4,
          10.1,
          9.9,
          9.9,
          9.5,
          9.3,
          9.2,
          9.1,
          8.9,
          8.9,
          7.8,
          7.5,
          6.5,
          10.3,
          25,
          31.7,
          18,
          16.9,
          29.4,
          35.6,
          13.7,
          29.9,
          17.5,
          124.8,
          69,
          175,
          56.4,
          27.5,
          19.5,
          71.3,
          10.3,
          38.4,
          73.3,
          33.6,
          42.1,
          57,
          44.6,
          54.8,
          71.3,
          13.5,
          5.7,
          29.8,
          105.6,
          5.2,
          10.6,
          46,
          62.4,
          74.8,
          33.2,
          40.7,
          36.9,
          13.4,
          71.5,
          24.5,
          13.5,
          38.5,
          51,
          59.6,
          71.7,
          48.5,
          42.2,
          69,
          116.4,
          20.2,
          32.8,
          24.4,
          41.8,
          44,
          29.2,
          72,
          28.4,
          22.4,
          27.9,
          40.5,
          78,
          10.4,
          45.9,
          20.4,
          19,
          26.4,
          23.5,
          121,
          115,
          99,
          121,
          33.2,
          56.3,
          21.7,
          46.5,
          19.3,
          63.5,
          63.5,
          57.6,
          48.5,
          16.9,
          24,
          17.9,
          46.5,
          23.8,
          13.5,
          46.5,
          24,
          40.2,
          42,
          17.2,
          21.8,
          50.5,
          12.5,
          23,
          35.6,
          24.7,
          18.25,
          50.4,
          30,
          12.7,
          15.4,
          8.7,
          17.2,
          74.5,
          32.2,
          59.9,
          114,
          122,
          93,
          36,
          57,
          47.2,
          17.7,
          19.8,
          18.8,
          27.3,
          35.1,
          83.7,
          78,
          34.7,
          27.5,
          68.1,
          44,
          59,
          59,
          62,
          27.5,
          59.8,
          57,
          49.5,
          49.5,
          77,
          39,
          79.5,
          59,
          83,
          10.9,
          8.1,
          30,
          39.1,
          19,
          11.6,
          18.9,
          17.6,
          157,
          28.5,
          67.2,
          39.6,
          43,
          43,
          40.2,
          33.4,
          36.2,
          49,
          62.4,
          41,
          50,
          76.8,
          52.9,
          109.6,
          52.4,
          59,
          30.6,
          67.5,
          57,
          13.1,
          11.8,
          13.4,
          32.2,
          26.5,
          12.9,
          16.6,
          10.2,
          17,
          88.4,
          23,
          100,
          35,
          15.8,
          15.8,
          12.8,
          22.8,
          13.7,
          23.2,
          37,
          77.4,
          22.9,
          14.7,
          77.8,
          60,
          19.5,
          18.3,
          32.7,
          34.3,
          46,
          20.8,
          29.8,
          29.5,
          15.8,
          58.8,
          31.7,
          24.4,
          26.9,
          59.6,
          28,
          28,
          9.6,
          29.9,
          17.1,
          26.5,
          79.8,
          37.5,
          38,
          38,
          5.8,
          21.4,
          24,
          13.5,
          11.6,
          18.5,
          12,
          69,
          48.8,
          20.8,
          16.4,
          112,
          22.8,
          18,
          11.1,
          19,
          65,
          59.9,
          67,
          52.6,
          62.1,
          86.8,
          45,
          28.8,
          19.8,
          55.6,
          105,
          105,
          48.7,
          48.7,
          64.9,
          217.5,
          78,
          78,
          19.5,
          16.1,
          26.5,
          18.2,
          92,
          58,
          58,
          38,
          57.7,
          36.3,
          34.3,
          48.8,
          61.6,
          12,
          26.5,
          35.3,
          43.5,
          17.9,
          11.5,
          7.2,
          16.2,
          16.3,
          24,
          17.1,
          12.7,
          10.7,
          78,
          18.5,
          21,
          18.6,
          7.4,
          27.9,
          11.9,
          14.5,
          9.7,
          7.4,
          16.8,
          14.3,
          23.4,
          18.2,
          11.1,
          16.9,
          44,
          12.8,
          30.1,
          13.2,
          29.8,
          12.9,
          10.7,
          19.8,
          17.8,
          21.9,
          24.3,
          13.9,
          49.5,
          46,
          12.9,
          12.5,
          18.4,
          27.8,
          7.9,
          12.8,
          28,
          25.9,
          22.9,
          102.3,
          41,
          29.5,
          25.3,
          27.9,
          18.7,
          34.3,
          41.6,
          18.7,
          13.6,
          11.1,
          12.1,
          28.5,
          16.3
         ],
         "xaxis": "x",
         "yaxis": "y"
        }
       ],
       "layout": {
        "barmode": "relative",
        "legend": {
         "title": {
          "text": "variable"
         },
         "tracegroupgap": 0
        },
        "template": {
         "data": {
          "bar": [
           {
            "error_x": {
             "color": "#2a3f5f"
            },
            "error_y": {
             "color": "#2a3f5f"
            },
            "marker": {
             "line": {
              "color": "#E5ECF6",
              "width": 0.5
             },
             "pattern": {
              "fillmode": "overlay",
              "size": 10,
              "solidity": 0.2
             }
            },
            "type": "bar"
           }
          ],
          "barpolar": [
           {
            "marker": {
             "line": {
              "color": "#E5ECF6",
              "width": 0.5
             },
             "pattern": {
              "fillmode": "overlay",
              "size": 10,
              "solidity": 0.2
             }
            },
            "type": "barpolar"
           }
          ],
          "carpet": [
           {
            "aaxis": {
             "endlinecolor": "#2a3f5f",
             "gridcolor": "white",
             "linecolor": "white",
             "minorgridcolor": "white",
             "startlinecolor": "#2a3f5f"
            },
            "baxis": {
             "endlinecolor": "#2a3f5f",
             "gridcolor": "white",
             "linecolor": "white",
             "minorgridcolor": "white",
             "startlinecolor": "#2a3f5f"
            },
            "type": "carpet"
           }
          ],
          "choropleth": [
           {
            "colorbar": {
             "outlinewidth": 0,
             "ticks": ""
            },
            "type": "choropleth"
           }
          ],
          "contour": [
           {
            "colorbar": {
             "outlinewidth": 0,
             "ticks": ""
            },
            "colorscale": [
             [
              0,
              "#0d0887"
             ],
             [
              0.1111111111111111,
              "#46039f"
             ],
             [
              0.2222222222222222,
              "#7201a8"
             ],
             [
              0.3333333333333333,
              "#9c179e"
             ],
             [
              0.4444444444444444,
              "#bd3786"
             ],
             [
              0.5555555555555556,
              "#d8576b"
             ],
             [
              0.6666666666666666,
              "#ed7953"
             ],
             [
              0.7777777777777778,
              "#fb9f3a"
             ],
             [
              0.8888888888888888,
              "#fdca26"
             ],
             [
              1,
              "#f0f921"
             ]
            ],
            "type": "contour"
           }
          ],
          "contourcarpet": [
           {
            "colorbar": {
             "outlinewidth": 0,
             "ticks": ""
            },
            "type": "contourcarpet"
           }
          ],
          "heatmap": [
           {
            "colorbar": {
             "outlinewidth": 0,
             "ticks": ""
            },
            "colorscale": [
             [
              0,
              "#0d0887"
             ],
             [
              0.1111111111111111,
              "#46039f"
             ],
             [
              0.2222222222222222,
              "#7201a8"
             ],
             [
              0.3333333333333333,
              "#9c179e"
             ],
             [
              0.4444444444444444,
              "#bd3786"
             ],
             [
              0.5555555555555556,
              "#d8576b"
             ],
             [
              0.6666666666666666,
              "#ed7953"
             ],
             [
              0.7777777777777778,
              "#fb9f3a"
             ],
             [
              0.8888888888888888,
              "#fdca26"
             ],
             [
              1,
              "#f0f921"
             ]
            ],
            "type": "heatmap"
           }
          ],
          "heatmapgl": [
           {
            "colorbar": {
             "outlinewidth": 0,
             "ticks": ""
            },
            "colorscale": [
             [
              0,
              "#0d0887"
             ],
             [
              0.1111111111111111,
              "#46039f"
             ],
             [
              0.2222222222222222,
              "#7201a8"
             ],
             [
              0.3333333333333333,
              "#9c179e"
             ],
             [
              0.4444444444444444,
              "#bd3786"
             ],
             [
              0.5555555555555556,
              "#d8576b"
             ],
             [
              0.6666666666666666,
              "#ed7953"
             ],
             [
              0.7777777777777778,
              "#fb9f3a"
             ],
             [
              0.8888888888888888,
              "#fdca26"
             ],
             [
              1,
              "#f0f921"
             ]
            ],
            "type": "heatmapgl"
           }
          ],
          "histogram": [
           {
            "marker": {
             "pattern": {
              "fillmode": "overlay",
              "size": 10,
              "solidity": 0.2
             }
            },
            "type": "histogram"
           }
          ],
          "histogram2d": [
           {
            "colorbar": {
             "outlinewidth": 0,
             "ticks": ""
            },
            "colorscale": [
             [
              0,
              "#0d0887"
             ],
             [
              0.1111111111111111,
              "#46039f"
             ],
             [
              0.2222222222222222,
              "#7201a8"
             ],
             [
              0.3333333333333333,
              "#9c179e"
             ],
             [
              0.4444444444444444,
              "#bd3786"
             ],
             [
              0.5555555555555556,
              "#d8576b"
             ],
             [
              0.6666666666666666,
              "#ed7953"
             ],
             [
              0.7777777777777778,
              "#fb9f3a"
             ],
             [
              0.8888888888888888,
              "#fdca26"
             ],
             [
              1,
              "#f0f921"
             ]
            ],
            "type": "histogram2d"
           }
          ],
          "histogram2dcontour": [
           {
            "colorbar": {
             "outlinewidth": 0,
             "ticks": ""
            },
            "colorscale": [
             [
              0,
              "#0d0887"
             ],
             [
              0.1111111111111111,
              "#46039f"
             ],
             [
              0.2222222222222222,
              "#7201a8"
             ],
             [
              0.3333333333333333,
              "#9c179e"
             ],
             [
              0.4444444444444444,
              "#bd3786"
             ],
             [
              0.5555555555555556,
              "#d8576b"
             ],
             [
              0.6666666666666666,
              "#ed7953"
             ],
             [
              0.7777777777777778,
              "#fb9f3a"
             ],
             [
              0.8888888888888888,
              "#fdca26"
             ],
             [
              1,
              "#f0f921"
             ]
            ],
            "type": "histogram2dcontour"
           }
          ],
          "mesh3d": [
           {
            "colorbar": {
             "outlinewidth": 0,
             "ticks": ""
            },
            "type": "mesh3d"
           }
          ],
          "parcoords": [
           {
            "line": {
             "colorbar": {
              "outlinewidth": 0,
              "ticks": ""
             }
            },
            "type": "parcoords"
           }
          ],
          "pie": [
           {
            "automargin": true,
            "type": "pie"
           }
          ],
          "scatter": [
           {
            "marker": {
             "colorbar": {
              "outlinewidth": 0,
              "ticks": ""
             }
            },
            "type": "scatter"
           }
          ],
          "scatter3d": [
           {
            "line": {
             "colorbar": {
              "outlinewidth": 0,
              "ticks": ""
             }
            },
            "marker": {
             "colorbar": {
              "outlinewidth": 0,
              "ticks": ""
             }
            },
            "type": "scatter3d"
           }
          ],
          "scattercarpet": [
           {
            "marker": {
             "colorbar": {
              "outlinewidth": 0,
              "ticks": ""
             }
            },
            "type": "scattercarpet"
           }
          ],
          "scattergeo": [
           {
            "marker": {
             "colorbar": {
              "outlinewidth": 0,
              "ticks": ""
             }
            },
            "type": "scattergeo"
           }
          ],
          "scattergl": [
           {
            "marker": {
             "colorbar": {
              "outlinewidth": 0,
              "ticks": ""
             }
            },
            "type": "scattergl"
           }
          ],
          "scattermapbox": [
           {
            "marker": {
             "colorbar": {
              "outlinewidth": 0,
              "ticks": ""
             }
            },
            "type": "scattermapbox"
           }
          ],
          "scatterpolar": [
           {
            "marker": {
             "colorbar": {
              "outlinewidth": 0,
              "ticks": ""
             }
            },
            "type": "scatterpolar"
           }
          ],
          "scatterpolargl": [
           {
            "marker": {
             "colorbar": {
              "outlinewidth": 0,
              "ticks": ""
             }
            },
            "type": "scatterpolargl"
           }
          ],
          "scatterternary": [
           {
            "marker": {
             "colorbar": {
              "outlinewidth": 0,
              "ticks": ""
             }
            },
            "type": "scatterternary"
           }
          ],
          "surface": [
           {
            "colorbar": {
             "outlinewidth": 0,
             "ticks": ""
            },
            "colorscale": [
             [
              0,
              "#0d0887"
             ],
             [
              0.1111111111111111,
              "#46039f"
             ],
             [
              0.2222222222222222,
              "#7201a8"
             ],
             [
              0.3333333333333333,
              "#9c179e"
             ],
             [
              0.4444444444444444,
              "#bd3786"
             ],
             [
              0.5555555555555556,
              "#d8576b"
             ],
             [
              0.6666666666666666,
              "#ed7953"
             ],
             [
              0.7777777777777778,
              "#fb9f3a"
             ],
             [
              0.8888888888888888,
              "#fdca26"
             ],
             [
              1,
              "#f0f921"
             ]
            ],
            "type": "surface"
           }
          ],
          "table": [
           {
            "cells": {
             "fill": {
              "color": "#EBF0F8"
             },
             "line": {
              "color": "white"
             }
            },
            "header": {
             "fill": {
              "color": "#C8D4E3"
             },
             "line": {
              "color": "white"
             }
            },
            "type": "table"
           }
          ]
         },
         "layout": {
          "annotationdefaults": {
           "arrowcolor": "#2a3f5f",
           "arrowhead": 0,
           "arrowwidth": 1
          },
          "autotypenumbers": "strict",
          "coloraxis": {
           "colorbar": {
            "outlinewidth": 0,
            "ticks": ""
           }
          },
          "colorscale": {
           "diverging": [
            [
             0,
             "#8e0152"
            ],
            [
             0.1,
             "#c51b7d"
            ],
            [
             0.2,
             "#de77ae"
            ],
            [
             0.3,
             "#f1b6da"
            ],
            [
             0.4,
             "#fde0ef"
            ],
            [
             0.5,
             "#f7f7f7"
            ],
            [
             0.6,
             "#e6f5d0"
            ],
            [
             0.7,
             "#b8e186"
            ],
            [
             0.8,
             "#7fbc41"
            ],
            [
             0.9,
             "#4d9221"
            ],
            [
             1,
             "#276419"
            ]
           ],
           "sequential": [
            [
             0,
             "#0d0887"
            ],
            [
             0.1111111111111111,
             "#46039f"
            ],
            [
             0.2222222222222222,
             "#7201a8"
            ],
            [
             0.3333333333333333,
             "#9c179e"
            ],
            [
             0.4444444444444444,
             "#bd3786"
            ],
            [
             0.5555555555555556,
             "#d8576b"
            ],
            [
             0.6666666666666666,
             "#ed7953"
            ],
            [
             0.7777777777777778,
             "#fb9f3a"
            ],
            [
             0.8888888888888888,
             "#fdca26"
            ],
            [
             1,
             "#f0f921"
            ]
           ],
           "sequentialminus": [
            [
             0,
             "#0d0887"
            ],
            [
             0.1111111111111111,
             "#46039f"
            ],
            [
             0.2222222222222222,
             "#7201a8"
            ],
            [
             0.3333333333333333,
             "#9c179e"
            ],
            [
             0.4444444444444444,
             "#bd3786"
            ],
            [
             0.5555555555555556,
             "#d8576b"
            ],
            [
             0.6666666666666666,
             "#ed7953"
            ],
            [
             0.7777777777777778,
             "#fb9f3a"
            ],
            [
             0.8888888888888888,
             "#fdca26"
            ],
            [
             1,
             "#f0f921"
            ]
           ]
          },
          "colorway": [
           "#636efa",
           "#EF553B",
           "#00cc96",
           "#ab63fa",
           "#FFA15A",
           "#19d3f3",
           "#FF6692",
           "#B6E880",
           "#FF97FF",
           "#FECB52"
          ],
          "font": {
           "color": "#2a3f5f"
          },
          "geo": {
           "bgcolor": "white",
           "lakecolor": "white",
           "landcolor": "#E5ECF6",
           "showlakes": true,
           "showland": true,
           "subunitcolor": "white"
          },
          "hoverlabel": {
           "align": "left"
          },
          "hovermode": "closest",
          "mapbox": {
           "style": "light"
          },
          "paper_bgcolor": "white",
          "plot_bgcolor": "#E5ECF6",
          "polar": {
           "angularaxis": {
            "gridcolor": "white",
            "linecolor": "white",
            "ticks": ""
           },
           "bgcolor": "#E5ECF6",
           "radialaxis": {
            "gridcolor": "white",
            "linecolor": "white",
            "ticks": ""
           }
          },
          "scene": {
           "xaxis": {
            "backgroundcolor": "#E5ECF6",
            "gridcolor": "white",
            "gridwidth": 2,
            "linecolor": "white",
            "showbackground": true,
            "ticks": "",
            "zerolinecolor": "white"
           },
           "yaxis": {
            "backgroundcolor": "#E5ECF6",
            "gridcolor": "white",
            "gridwidth": 2,
            "linecolor": "white",
            "showbackground": true,
            "ticks": "",
            "zerolinecolor": "white"
           },
           "zaxis": {
            "backgroundcolor": "#E5ECF6",
            "gridcolor": "white",
            "gridwidth": 2,
            "linecolor": "white",
            "showbackground": true,
            "ticks": "",
            "zerolinecolor": "white"
           }
          },
          "shapedefaults": {
           "line": {
            "color": "#2a3f5f"
           }
          },
          "ternary": {
           "aaxis": {
            "gridcolor": "white",
            "linecolor": "white",
            "ticks": ""
           },
           "baxis": {
            "gridcolor": "white",
            "linecolor": "white",
            "ticks": ""
           },
           "bgcolor": "#E5ECF6",
           "caxis": {
            "gridcolor": "white",
            "linecolor": "white",
            "ticks": ""
           }
          },
          "title": {
           "x": 0.05
          },
          "xaxis": {
           "automargin": true,
           "gridcolor": "white",
           "linecolor": "white",
           "ticks": "",
           "title": {
            "standoff": 15
           },
           "zerolinecolor": "white",
           "zerolinewidth": 2
          },
          "yaxis": {
           "automargin": true,
           "gridcolor": "white",
           "linecolor": "white",
           "ticks": "",
           "title": {
            "standoff": 15
           },
           "zerolinecolor": "white",
           "zerolinewidth": 2
          }
         }
        },
        "title": {
         "text": "répartition des prix produits"
        },
        "xaxis": {
         "anchor": "y",
         "domain": [
          0,
          1
         ],
         "title": {
          "text": "value"
         }
        },
        "yaxis": {
         "anchor": "x",
         "domain": [
          0,
          1
         ],
         "title": {
          "text": "count"
         }
        }
       }
      }
     },
     "metadata": {},
     "output_type": "display_data"
    }
   ],
   "source": [
    "# + representation graphique en histogramme\n",
    "fig = px.histogram(data, title=\"répartition des prix produits\" )\n",
    "fig.show()\n"
   ]
  },
  {
   "cell_type": "markdown",
   "metadata": {},
   "source": [
    "Effectivement l'histogramme confirme une distribution des prix à droite de la médiane, et nous indique la présence de valeurs anormales que nous allons devoir extraire et contrôler."
   ]
  },
  {
   "cell_type": "markdown",
   "metadata": {},
   "source": [
    "## méthode de la \"boite à moustaches\"\n",
    "\n",
    "La boite à moustache nous permet de visualiser quelques indicateurs de position du caractère étudié (médiane, quartiles, minimum et maximum).\n",
    "Il permet de visualiser très rapidement d'éventuelles valeurs extrèmes.\n"
   ]
  },
  {
   "cell_type": "code",
   "execution_count": 25,
   "metadata": {},
   "outputs": [
    {
     "name": "stdout",
     "output_type": "stream",
     "text": [
      "minimum statistique : -28.012500000000003\n",
      "maximum statistique : 84.28750000000001\n",
      "nombre de valeurs avec des prix supérieurs aux maximum statistique : 32\n"
     ]
    }
   ],
   "source": [
    "# calcul minimum statistique\n",
    "\n",
    "min_stat = q1 - (interquartile*1.5)\n",
    "print(f'minimum statistique : {min_stat}')\n",
    "\n",
    "\n",
    "# Calcul du maximum statistique\n",
    "max_stat = q3 + (interquartile*1.5)\n",
    "print(f'maximum statistique : {max_stat}')\n",
    "\n",
    "# recherche des valeurs dont le prix est supérieur au maximum statistique\n",
    "total_base_highValue = total_base[total_base['price'] > max_stat]\n",
    "print(f'nombre de valeurs avec des prix supérieurs aux maximum statistique : {total_base_highValue.shape[0]}')\n",
    "\n"
   ]
  },
  {
   "cell_type": "markdown",
   "metadata": {},
   "source": [
    "le minimum statistique etant négatif, alors que notre valeur minimale est positive nous indique que nous n'avons pas de valeurs extrèmes par le bas.\n",
    "\n",
    "Le maximum statistique etant de 84.28, alors que notre valeur maximale est de 225 nous indique que nous avons quelques valeurs extrèmes (Outliers) qu'il conviendra de lister et contrôler\n",
    "\n",
    "Nous avons créé une nouvelle DF total_base_highValue qui contient nos outliers à contrôler (32 lignes)"
   ]
  },
  {
   "cell_type": "markdown",
   "metadata": {},
   "source": [
    "Représentation graphique boite à moustache"
   ]
  },
  {
   "cell_type": "code",
   "execution_count": 26,
   "metadata": {},
   "outputs": [
    {
     "data": {
      "application/vnd.plotly.v1+json": {
       "config": {
        "plotlyServerURL": "https://plot.ly"
       },
       "data": [
        {
         "alignmentgroup": "True",
         "boxpoints": "all",
         "hovertemplate": "price=%{x}<extra></extra>",
         "legendgroup": "",
         "marker": {
          "color": "#636efa"
         },
         "name": "",
         "notched": false,
         "offsetgroup": "",
         "orientation": "h",
         "showlegend": false,
         "type": "box",
         "x": [
          49,
          49,
          176,
          53,
          39,
          126.5,
          225,
          29,
          25.2,
          16.6,
          44.3,
          43.9,
          27.9,
          59.9,
          25.2,
          37.2,
          48.5,
          71.6,
          69.8,
          137,
          33.2,
          51.6,
          42.6,
          19.5,
          191.3,
          13.3,
          16.8,
          24.5,
          22.8,
          80,
          65.9,
          49.5,
          44,
          22,
          20.8,
          10.9,
          21.7,
          21,
          22,
          26.2,
          41,
          8.6,
          9.3,
          22.8,
          22.5,
          12.9,
          40,
          23.2,
          23,
          135,
          5.8,
          32.6,
          14.4,
          31.6,
          25,
          62.4,
          8.5,
          5.7,
          24.4,
          34.8,
          15.9,
          79.5,
          13.2,
          58.3,
          46,
          115,
          28.5,
          18.4,
          31.5,
          16.9,
          31.2,
          18.2,
          108.5,
          31,
          53.2,
          19,
          25.9,
          20.6,
          33.7,
          16.3,
          11.5,
          12.8,
          21.2,
          12.5,
          7.1,
          60,
          14.9,
          14.8,
          9.8,
          57,
          42.2,
          24,
          42,
          24,
          55,
          41.2,
          54.8,
          13.7,
          27.3,
          23.4,
          14.6,
          32.1,
          26.7,
          22.8,
          26.5,
          11.3,
          52.4,
          8.7,
          39,
          25.9,
          12.9,
          25.7,
          8.5,
          16.9,
          7.6,
          16.5,
          24.4,
          24.2,
          13,
          28.4,
          7.8,
          23.4,
          5.8,
          11.6,
          19.8,
          34.4,
          7.1,
          19.2,
          19,
          26.6,
          19,
          21.8,
          43.5,
          9.8,
          12.7,
          25.3,
          25,
          61.6,
          20.5,
          13.6,
          20.35,
          11.1,
          7.6,
          13.5,
          8.6,
          12,
          9.9,
          59.4,
          23.6,
          9.7,
          19.2,
          23,
          14.1,
          28.1,
          9.3,
          27.3,
          10.8,
          13.5,
          27,
          15.3,
          11.9,
          11.9,
          35.2,
          52.4,
          104,
          25.7,
          17,
          33.4,
          11,
          33,
          49.5,
          32.8,
          10.8,
          8.7,
          8.7,
          23.7,
          30.8,
          46,
          15.2,
          6.5,
          45,
          17.8,
          43.9,
          17.5,
          29,
          29,
          85.6,
          7.1,
          28.1,
          12,
          27.9,
          27.8,
          20.4,
          39.8,
          19.8,
          38.6,
          38.6,
          15.4,
          38.4,
          9.5,
          12.6,
          12.6,
          9.4,
          14.9,
          24.8,
          5.7,
          12.1,
          11.9,
          7,
          17.3,
          68.3,
          13.5,
          16.45,
          16.4,
          21.8,
          9.3,
          16.1,
          12.7,
          31.7,
          63.4,
          62.5,
          15.5,
          30.5,
          8.7,
          12.1,
          60.4,
          20.1,
          9.9,
          9.9,
          29.5,
          59,
          59,
          57.6,
          19.2,
          14.05,
          56,
          55.4,
          9.1,
          18.2,
          27.2,
          18.1,
          52.7,
          17.5,
          26,
          25.9,
          17.1,
          12.7,
          12.7,
          12.6,
          50.1,
          16.7,
          50,
          49.9,
          49.5,
          49,
          16.3,
          16.3,
          24.3,
          48.5,
          48.4,
          6.8,
          15.8,
          5.8,
          7.7,
          15.4,
          9,
          14.9,
          44.5,
          22.2,
          44,
          14.5,
          14.5,
          14.4,
          14.3,
          14.1,
          8.4,
          41.8,
          41.8,
          13.8,
          20.5,
          10.1,
          40.2,
          13.3,
          9.9,
          19.8,
          7.9,
          39.2,
          39,
          38.6,
          38.6,
          19,
          19,
          37.7,
          12.3,
          12.3,
          12,
          9,
          36,
          11.9,
          8.9,
          17.8,
          35.6,
          35.5,
          17.4,
          17.2,
          5.7,
          6.8,
          17,
          11.3,
          6.7,
          16.7,
          16.4,
          8.2,
          10.8,
          32,
          10.6,
          31.5,
          10.2,
          29.7,
          9.8,
          9.7,
          14.4,
          9.6,
          14,
          28,
          9.3,
          9.3,
          27.7,
          26.7,
          13.1,
          6.5,
          25,
          24.6,
          12.2,
          24.2,
          23.2,
          22.4,
          11.1,
          11.1,
          22.1,
          21.6,
          21.5,
          20.8,
          20.2,
          19.3,
          19,
          17.9,
          17.1,
          16.7,
          16.6,
          16.6,
          16.5,
          16.3,
          15.8,
          15.5,
          15.4,
          15.3,
          15.2,
          15.2,
          14.3,
          14.1,
          7,
          13.7,
          13.7,
          13.4,
          12.8,
          12.8,
          6.3,
          12.6,
          11.1,
          10.7,
          10.7,
          10.4,
          10.1,
          9.9,
          9.9,
          9.5,
          9.3,
          9.2,
          9.1,
          8.9,
          8.9,
          7.8,
          7.5,
          6.5,
          10.3,
          25,
          31.7,
          18,
          16.9,
          29.4,
          35.6,
          13.7,
          29.9,
          17.5,
          124.8,
          69,
          175,
          56.4,
          27.5,
          19.5,
          71.3,
          10.3,
          38.4,
          73.3,
          33.6,
          42.1,
          57,
          44.6,
          54.8,
          71.3,
          13.5,
          5.7,
          29.8,
          105.6,
          5.2,
          10.6,
          46,
          62.4,
          74.8,
          33.2,
          40.7,
          36.9,
          13.4,
          71.5,
          24.5,
          13.5,
          38.5,
          51,
          59.6,
          71.7,
          48.5,
          42.2,
          69,
          116.4,
          20.2,
          32.8,
          24.4,
          41.8,
          44,
          29.2,
          72,
          28.4,
          22.4,
          27.9,
          40.5,
          78,
          10.4,
          45.9,
          20.4,
          19,
          26.4,
          23.5,
          121,
          115,
          99,
          121,
          33.2,
          56.3,
          21.7,
          46.5,
          19.3,
          63.5,
          63.5,
          57.6,
          48.5,
          16.9,
          24,
          17.9,
          46.5,
          23.8,
          13.5,
          46.5,
          24,
          40.2,
          42,
          17.2,
          21.8,
          50.5,
          12.5,
          23,
          35.6,
          24.7,
          18.25,
          50.4,
          30,
          12.7,
          15.4,
          8.7,
          17.2,
          74.5,
          32.2,
          59.9,
          114,
          122,
          93,
          36,
          57,
          47.2,
          17.7,
          19.8,
          18.8,
          27.3,
          35.1,
          83.7,
          78,
          34.7,
          27.5,
          68.1,
          44,
          59,
          59,
          62,
          27.5,
          59.8,
          57,
          49.5,
          49.5,
          77,
          39,
          79.5,
          59,
          83,
          10.9,
          8.1,
          30,
          39.1,
          19,
          11.6,
          18.9,
          17.6,
          157,
          28.5,
          67.2,
          39.6,
          43,
          43,
          40.2,
          33.4,
          36.2,
          49,
          62.4,
          41,
          50,
          76.8,
          52.9,
          109.6,
          52.4,
          59,
          30.6,
          67.5,
          57,
          13.1,
          11.8,
          13.4,
          32.2,
          26.5,
          12.9,
          16.6,
          10.2,
          17,
          88.4,
          23,
          100,
          35,
          15.8,
          15.8,
          12.8,
          22.8,
          13.7,
          23.2,
          37,
          77.4,
          22.9,
          14.7,
          77.8,
          60,
          19.5,
          18.3,
          32.7,
          34.3,
          46,
          20.8,
          29.8,
          29.5,
          15.8,
          58.8,
          31.7,
          24.4,
          26.9,
          59.6,
          28,
          28,
          9.6,
          29.9,
          17.1,
          26.5,
          79.8,
          37.5,
          38,
          38,
          5.8,
          21.4,
          24,
          13.5,
          11.6,
          18.5,
          12,
          69,
          48.8,
          20.8,
          16.4,
          112,
          22.8,
          18,
          11.1,
          19,
          65,
          59.9,
          67,
          52.6,
          62.1,
          86.8,
          45,
          28.8,
          19.8,
          55.6,
          105,
          105,
          48.7,
          48.7,
          64.9,
          217.5,
          78,
          78,
          19.5,
          16.1,
          26.5,
          18.2,
          92,
          58,
          58,
          38,
          57.7,
          36.3,
          34.3,
          48.8,
          61.6,
          12,
          26.5,
          35.3,
          43.5,
          17.9,
          11.5,
          7.2,
          16.2,
          16.3,
          24,
          17.1,
          12.7,
          10.7,
          78,
          18.5,
          21,
          18.6,
          7.4,
          27.9,
          11.9,
          14.5,
          9.7,
          7.4,
          16.8,
          14.3,
          23.4,
          18.2,
          11.1,
          16.9,
          44,
          12.8,
          30.1,
          13.2,
          29.8,
          12.9,
          10.7,
          19.8,
          17.8,
          21.9,
          24.3,
          13.9,
          49.5,
          46,
          12.9,
          12.5,
          18.4,
          27.8,
          7.9,
          12.8,
          28,
          25.9,
          22.9,
          102.3,
          41,
          29.5,
          25.3,
          27.9,
          18.7,
          34.3,
          41.6,
          18.7,
          13.6,
          11.1,
          12.1,
          28.5,
          16.3
         ],
         "x0": " ",
         "xaxis": "x",
         "y0": " ",
         "yaxis": "y"
        }
       ],
       "layout": {
        "boxmode": "group",
        "legend": {
         "tracegroupgap": 0
        },
        "template": {
         "data": {
          "bar": [
           {
            "error_x": {
             "color": "#2a3f5f"
            },
            "error_y": {
             "color": "#2a3f5f"
            },
            "marker": {
             "line": {
              "color": "#E5ECF6",
              "width": 0.5
             },
             "pattern": {
              "fillmode": "overlay",
              "size": 10,
              "solidity": 0.2
             }
            },
            "type": "bar"
           }
          ],
          "barpolar": [
           {
            "marker": {
             "line": {
              "color": "#E5ECF6",
              "width": 0.5
             },
             "pattern": {
              "fillmode": "overlay",
              "size": 10,
              "solidity": 0.2
             }
            },
            "type": "barpolar"
           }
          ],
          "carpet": [
           {
            "aaxis": {
             "endlinecolor": "#2a3f5f",
             "gridcolor": "white",
             "linecolor": "white",
             "minorgridcolor": "white",
             "startlinecolor": "#2a3f5f"
            },
            "baxis": {
             "endlinecolor": "#2a3f5f",
             "gridcolor": "white",
             "linecolor": "white",
             "minorgridcolor": "white",
             "startlinecolor": "#2a3f5f"
            },
            "type": "carpet"
           }
          ],
          "choropleth": [
           {
            "colorbar": {
             "outlinewidth": 0,
             "ticks": ""
            },
            "type": "choropleth"
           }
          ],
          "contour": [
           {
            "colorbar": {
             "outlinewidth": 0,
             "ticks": ""
            },
            "colorscale": [
             [
              0,
              "#0d0887"
             ],
             [
              0.1111111111111111,
              "#46039f"
             ],
             [
              0.2222222222222222,
              "#7201a8"
             ],
             [
              0.3333333333333333,
              "#9c179e"
             ],
             [
              0.4444444444444444,
              "#bd3786"
             ],
             [
              0.5555555555555556,
              "#d8576b"
             ],
             [
              0.6666666666666666,
              "#ed7953"
             ],
             [
              0.7777777777777778,
              "#fb9f3a"
             ],
             [
              0.8888888888888888,
              "#fdca26"
             ],
             [
              1,
              "#f0f921"
             ]
            ],
            "type": "contour"
           }
          ],
          "contourcarpet": [
           {
            "colorbar": {
             "outlinewidth": 0,
             "ticks": ""
            },
            "type": "contourcarpet"
           }
          ],
          "heatmap": [
           {
            "colorbar": {
             "outlinewidth": 0,
             "ticks": ""
            },
            "colorscale": [
             [
              0,
              "#0d0887"
             ],
             [
              0.1111111111111111,
              "#46039f"
             ],
             [
              0.2222222222222222,
              "#7201a8"
             ],
             [
              0.3333333333333333,
              "#9c179e"
             ],
             [
              0.4444444444444444,
              "#bd3786"
             ],
             [
              0.5555555555555556,
              "#d8576b"
             ],
             [
              0.6666666666666666,
              "#ed7953"
             ],
             [
              0.7777777777777778,
              "#fb9f3a"
             ],
             [
              0.8888888888888888,
              "#fdca26"
             ],
             [
              1,
              "#f0f921"
             ]
            ],
            "type": "heatmap"
           }
          ],
          "heatmapgl": [
           {
            "colorbar": {
             "outlinewidth": 0,
             "ticks": ""
            },
            "colorscale": [
             [
              0,
              "#0d0887"
             ],
             [
              0.1111111111111111,
              "#46039f"
             ],
             [
              0.2222222222222222,
              "#7201a8"
             ],
             [
              0.3333333333333333,
              "#9c179e"
             ],
             [
              0.4444444444444444,
              "#bd3786"
             ],
             [
              0.5555555555555556,
              "#d8576b"
             ],
             [
              0.6666666666666666,
              "#ed7953"
             ],
             [
              0.7777777777777778,
              "#fb9f3a"
             ],
             [
              0.8888888888888888,
              "#fdca26"
             ],
             [
              1,
              "#f0f921"
             ]
            ],
            "type": "heatmapgl"
           }
          ],
          "histogram": [
           {
            "marker": {
             "pattern": {
              "fillmode": "overlay",
              "size": 10,
              "solidity": 0.2
             }
            },
            "type": "histogram"
           }
          ],
          "histogram2d": [
           {
            "colorbar": {
             "outlinewidth": 0,
             "ticks": ""
            },
            "colorscale": [
             [
              0,
              "#0d0887"
             ],
             [
              0.1111111111111111,
              "#46039f"
             ],
             [
              0.2222222222222222,
              "#7201a8"
             ],
             [
              0.3333333333333333,
              "#9c179e"
             ],
             [
              0.4444444444444444,
              "#bd3786"
             ],
             [
              0.5555555555555556,
              "#d8576b"
             ],
             [
              0.6666666666666666,
              "#ed7953"
             ],
             [
              0.7777777777777778,
              "#fb9f3a"
             ],
             [
              0.8888888888888888,
              "#fdca26"
             ],
             [
              1,
              "#f0f921"
             ]
            ],
            "type": "histogram2d"
           }
          ],
          "histogram2dcontour": [
           {
            "colorbar": {
             "outlinewidth": 0,
             "ticks": ""
            },
            "colorscale": [
             [
              0,
              "#0d0887"
             ],
             [
              0.1111111111111111,
              "#46039f"
             ],
             [
              0.2222222222222222,
              "#7201a8"
             ],
             [
              0.3333333333333333,
              "#9c179e"
             ],
             [
              0.4444444444444444,
              "#bd3786"
             ],
             [
              0.5555555555555556,
              "#d8576b"
             ],
             [
              0.6666666666666666,
              "#ed7953"
             ],
             [
              0.7777777777777778,
              "#fb9f3a"
             ],
             [
              0.8888888888888888,
              "#fdca26"
             ],
             [
              1,
              "#f0f921"
             ]
            ],
            "type": "histogram2dcontour"
           }
          ],
          "mesh3d": [
           {
            "colorbar": {
             "outlinewidth": 0,
             "ticks": ""
            },
            "type": "mesh3d"
           }
          ],
          "parcoords": [
           {
            "line": {
             "colorbar": {
              "outlinewidth": 0,
              "ticks": ""
             }
            },
            "type": "parcoords"
           }
          ],
          "pie": [
           {
            "automargin": true,
            "type": "pie"
           }
          ],
          "scatter": [
           {
            "marker": {
             "colorbar": {
              "outlinewidth": 0,
              "ticks": ""
             }
            },
            "type": "scatter"
           }
          ],
          "scatter3d": [
           {
            "line": {
             "colorbar": {
              "outlinewidth": 0,
              "ticks": ""
             }
            },
            "marker": {
             "colorbar": {
              "outlinewidth": 0,
              "ticks": ""
             }
            },
            "type": "scatter3d"
           }
          ],
          "scattercarpet": [
           {
            "marker": {
             "colorbar": {
              "outlinewidth": 0,
              "ticks": ""
             }
            },
            "type": "scattercarpet"
           }
          ],
          "scattergeo": [
           {
            "marker": {
             "colorbar": {
              "outlinewidth": 0,
              "ticks": ""
             }
            },
            "type": "scattergeo"
           }
          ],
          "scattergl": [
           {
            "marker": {
             "colorbar": {
              "outlinewidth": 0,
              "ticks": ""
             }
            },
            "type": "scattergl"
           }
          ],
          "scattermapbox": [
           {
            "marker": {
             "colorbar": {
              "outlinewidth": 0,
              "ticks": ""
             }
            },
            "type": "scattermapbox"
           }
          ],
          "scatterpolar": [
           {
            "marker": {
             "colorbar": {
              "outlinewidth": 0,
              "ticks": ""
             }
            },
            "type": "scatterpolar"
           }
          ],
          "scatterpolargl": [
           {
            "marker": {
             "colorbar": {
              "outlinewidth": 0,
              "ticks": ""
             }
            },
            "type": "scatterpolargl"
           }
          ],
          "scatterternary": [
           {
            "marker": {
             "colorbar": {
              "outlinewidth": 0,
              "ticks": ""
             }
            },
            "type": "scatterternary"
           }
          ],
          "surface": [
           {
            "colorbar": {
             "outlinewidth": 0,
             "ticks": ""
            },
            "colorscale": [
             [
              0,
              "#0d0887"
             ],
             [
              0.1111111111111111,
              "#46039f"
             ],
             [
              0.2222222222222222,
              "#7201a8"
             ],
             [
              0.3333333333333333,
              "#9c179e"
             ],
             [
              0.4444444444444444,
              "#bd3786"
             ],
             [
              0.5555555555555556,
              "#d8576b"
             ],
             [
              0.6666666666666666,
              "#ed7953"
             ],
             [
              0.7777777777777778,
              "#fb9f3a"
             ],
             [
              0.8888888888888888,
              "#fdca26"
             ],
             [
              1,
              "#f0f921"
             ]
            ],
            "type": "surface"
           }
          ],
          "table": [
           {
            "cells": {
             "fill": {
              "color": "#EBF0F8"
             },
             "line": {
              "color": "white"
             }
            },
            "header": {
             "fill": {
              "color": "#C8D4E3"
             },
             "line": {
              "color": "white"
             }
            },
            "type": "table"
           }
          ]
         },
         "layout": {
          "annotationdefaults": {
           "arrowcolor": "#2a3f5f",
           "arrowhead": 0,
           "arrowwidth": 1
          },
          "autotypenumbers": "strict",
          "coloraxis": {
           "colorbar": {
            "outlinewidth": 0,
            "ticks": ""
           }
          },
          "colorscale": {
           "diverging": [
            [
             0,
             "#8e0152"
            ],
            [
             0.1,
             "#c51b7d"
            ],
            [
             0.2,
             "#de77ae"
            ],
            [
             0.3,
             "#f1b6da"
            ],
            [
             0.4,
             "#fde0ef"
            ],
            [
             0.5,
             "#f7f7f7"
            ],
            [
             0.6,
             "#e6f5d0"
            ],
            [
             0.7,
             "#b8e186"
            ],
            [
             0.8,
             "#7fbc41"
            ],
            [
             0.9,
             "#4d9221"
            ],
            [
             1,
             "#276419"
            ]
           ],
           "sequential": [
            [
             0,
             "#0d0887"
            ],
            [
             0.1111111111111111,
             "#46039f"
            ],
            [
             0.2222222222222222,
             "#7201a8"
            ],
            [
             0.3333333333333333,
             "#9c179e"
            ],
            [
             0.4444444444444444,
             "#bd3786"
            ],
            [
             0.5555555555555556,
             "#d8576b"
            ],
            [
             0.6666666666666666,
             "#ed7953"
            ],
            [
             0.7777777777777778,
             "#fb9f3a"
            ],
            [
             0.8888888888888888,
             "#fdca26"
            ],
            [
             1,
             "#f0f921"
            ]
           ],
           "sequentialminus": [
            [
             0,
             "#0d0887"
            ],
            [
             0.1111111111111111,
             "#46039f"
            ],
            [
             0.2222222222222222,
             "#7201a8"
            ],
            [
             0.3333333333333333,
             "#9c179e"
            ],
            [
             0.4444444444444444,
             "#bd3786"
            ],
            [
             0.5555555555555556,
             "#d8576b"
            ],
            [
             0.6666666666666666,
             "#ed7953"
            ],
            [
             0.7777777777777778,
             "#fb9f3a"
            ],
            [
             0.8888888888888888,
             "#fdca26"
            ],
            [
             1,
             "#f0f921"
            ]
           ]
          },
          "colorway": [
           "#636efa",
           "#EF553B",
           "#00cc96",
           "#ab63fa",
           "#FFA15A",
           "#19d3f3",
           "#FF6692",
           "#B6E880",
           "#FF97FF",
           "#FECB52"
          ],
          "font": {
           "color": "#2a3f5f"
          },
          "geo": {
           "bgcolor": "white",
           "lakecolor": "white",
           "landcolor": "#E5ECF6",
           "showlakes": true,
           "showland": true,
           "subunitcolor": "white"
          },
          "hoverlabel": {
           "align": "left"
          },
          "hovermode": "closest",
          "mapbox": {
           "style": "light"
          },
          "paper_bgcolor": "white",
          "plot_bgcolor": "#E5ECF6",
          "polar": {
           "angularaxis": {
            "gridcolor": "white",
            "linecolor": "white",
            "ticks": ""
           },
           "bgcolor": "#E5ECF6",
           "radialaxis": {
            "gridcolor": "white",
            "linecolor": "white",
            "ticks": ""
           }
          },
          "scene": {
           "xaxis": {
            "backgroundcolor": "#E5ECF6",
            "gridcolor": "white",
            "gridwidth": 2,
            "linecolor": "white",
            "showbackground": true,
            "ticks": "",
            "zerolinecolor": "white"
           },
           "yaxis": {
            "backgroundcolor": "#E5ECF6",
            "gridcolor": "white",
            "gridwidth": 2,
            "linecolor": "white",
            "showbackground": true,
            "ticks": "",
            "zerolinecolor": "white"
           },
           "zaxis": {
            "backgroundcolor": "#E5ECF6",
            "gridcolor": "white",
            "gridwidth": 2,
            "linecolor": "white",
            "showbackground": true,
            "ticks": "",
            "zerolinecolor": "white"
           }
          },
          "shapedefaults": {
           "line": {
            "color": "#2a3f5f"
           }
          },
          "ternary": {
           "aaxis": {
            "gridcolor": "white",
            "linecolor": "white",
            "ticks": ""
           },
           "baxis": {
            "gridcolor": "white",
            "linecolor": "white",
            "ticks": ""
           },
           "bgcolor": "#E5ECF6",
           "caxis": {
            "gridcolor": "white",
            "linecolor": "white",
            "ticks": ""
           }
          },
          "title": {
           "x": 0.05
          },
          "xaxis": {
           "automargin": true,
           "gridcolor": "white",
           "linecolor": "white",
           "ticks": "",
           "title": {
            "standoff": 15
           },
           "zerolinecolor": "white",
           "zerolinewidth": 2
          },
          "yaxis": {
           "automargin": true,
           "gridcolor": "white",
           "linecolor": "white",
           "ticks": "",
           "title": {
            "standoff": 15
           },
           "zerolinecolor": "white",
           "zerolinewidth": 2
          }
         }
        },
        "title": {
         "text": " boite à moustache répartition des prix produit"
        },
        "xaxis": {
         "anchor": "y",
         "domain": [
          0,
          1
         ],
         "title": {
          "text": "price"
         }
        },
        "yaxis": {
         "anchor": "x",
         "domain": [
          0,
          1
         ]
        }
       }
      }
     },
     "metadata": {},
     "output_type": "display_data"
    }
   ],
   "source": [
    "# + representation graphique en boite à moustache\n",
    "fig = px.box(data, x=\"price\", \n",
    "points=\"all\",\n",
    " title=\" boite à moustache répartition des prix produit\")\n",
    "fig.show()"
   ]
  },
  {
   "cell_type": "markdown",
   "metadata": {},
   "source": [
    "Sur cette représentation graphique, les \"outliers\" sont mis en évidence. "
   ]
  },
  {
   "cell_type": "markdown",
   "metadata": {},
   "source": [
    "## Liste des références extrèmes\n",
    "\n",
    "\n"
   ]
  },
  {
   "cell_type": "code",
   "execution_count": 27,
   "metadata": {},
   "outputs": [
    {
     "name": "stdout",
     "output_type": "stream",
     "text": [
      "10\n"
     ]
    },
    {
     "name": "stderr",
     "output_type": "stream",
     "text": [
      "<ipython-input-27-0e0598c5389d>:2: SettingWithCopyWarning:\n",
      "\n",
      "\n",
      "A value is trying to be set on a copy of a slice from a DataFrame\n",
      "\n",
      "See the caveats in the documentation: https://pandas.pydata.org/pandas-docs/stable/user_guide/indexing.html#returning-a-view-versus-a-copy\n",
      "\n"
     ]
    },
    {
     "data": {
      "text/html": [
       "<div>\n",
       "<style scoped>\n",
       "    .dataframe tbody tr th:only-of-type {\n",
       "        vertical-align: middle;\n",
       "    }\n",
       "\n",
       "    .dataframe tbody tr th {\n",
       "        vertical-align: top;\n",
       "    }\n",
       "\n",
       "    .dataframe thead th {\n",
       "        text-align: right;\n",
       "    }\n",
       "</style>\n",
       "<table border=\"1\" class=\"dataframe\">\n",
       "  <thead>\n",
       "    <tr style=\"text-align: right;\">\n",
       "      <th></th>\n",
       "      <th>product_id</th>\n",
       "      <th>onsale_web</th>\n",
       "      <th>price</th>\n",
       "      <th>stock_quantity</th>\n",
       "      <th>id_web</th>\n",
       "      <th>total_sales</th>\n",
       "      <th>product_name</th>\n",
       "      <th>post_type</th>\n",
       "      <th>valeur_stock</th>\n",
       "      <th>chiffre_affaire</th>\n",
       "      <th>stockSupCA</th>\n",
       "      <th>sold</th>\n",
       "    </tr>\n",
       "  </thead>\n",
       "  <tbody>\n",
       "    <tr>\n",
       "      <th>199</th>\n",
       "      <td>4352</td>\n",
       "      <td>1</td>\n",
       "      <td>225.0</td>\n",
       "      <td>0</td>\n",
       "      <td>15940</td>\n",
       "      <td>5.0</td>\n",
       "      <td>champagne-egly-ouriet-grand-cru-millesime-2008</td>\n",
       "      <td>product</td>\n",
       "      <td>0.0</td>\n",
       "      <td>1125.0</td>\n",
       "      <td>False</td>\n",
       "      <td>True</td>\n",
       "    </tr>\n",
       "    <tr>\n",
       "      <th>428</th>\n",
       "      <td>5001</td>\n",
       "      <td>1</td>\n",
       "      <td>217.5</td>\n",
       "      <td>20</td>\n",
       "      <td>14581</td>\n",
       "      <td>0.0</td>\n",
       "      <td>david-duband-charmes-chambertin-grand-cru-2014</td>\n",
       "      <td>product</td>\n",
       "      <td>4350.0</td>\n",
       "      <td>0.0</td>\n",
       "      <td>True</td>\n",
       "      <td>False</td>\n",
       "    </tr>\n",
       "    <tr>\n",
       "      <th>593</th>\n",
       "      <td>5892</td>\n",
       "      <td>1</td>\n",
       "      <td>191.3</td>\n",
       "      <td>10</td>\n",
       "      <td>14983</td>\n",
       "      <td>3.0</td>\n",
       "      <td>coteaux-champenois-egly-ouriet-ambonnay-rouge-...</td>\n",
       "      <td>product</td>\n",
       "      <td>1913.0</td>\n",
       "      <td>573.9</td>\n",
       "      <td>True</td>\n",
       "      <td>True</td>\n",
       "    </tr>\n",
       "    <tr>\n",
       "      <th>218</th>\n",
       "      <td>4402</td>\n",
       "      <td>1</td>\n",
       "      <td>176.0</td>\n",
       "      <td>8</td>\n",
       "      <td>3510</td>\n",
       "      <td>13.0</td>\n",
       "      <td>cognac-frapin-vip-xo</td>\n",
       "      <td>product</td>\n",
       "      <td>1408.0</td>\n",
       "      <td>2288.0</td>\n",
       "      <td>False</td>\n",
       "      <td>True</td>\n",
       "    </tr>\n",
       "    <tr>\n",
       "      <th>559</th>\n",
       "      <td>5767</td>\n",
       "      <td>1</td>\n",
       "      <td>175.0</td>\n",
       "      <td>12</td>\n",
       "      <td>15185</td>\n",
       "      <td>0.0</td>\n",
       "      <td>camille-giroud-clos-de-vougeot-2016</td>\n",
       "      <td>product</td>\n",
       "      <td>2100.0</td>\n",
       "      <td>0.0</td>\n",
       "      <td>True</td>\n",
       "      <td>False</td>\n",
       "    </tr>\n",
       "  </tbody>\n",
       "</table>\n",
       "</div>"
      ],
      "text/plain": [
       "     product_id  onsale_web  price  stock_quantity id_web  total_sales  \\\n",
       "199        4352           1  225.0               0  15940          5.0   \n",
       "428        5001           1  217.5              20  14581          0.0   \n",
       "593        5892           1  191.3              10  14983          3.0   \n",
       "218        4402           1  176.0               8   3510         13.0   \n",
       "559        5767           1  175.0              12  15185          0.0   \n",
       "\n",
       "                                          product_name post_type  \\\n",
       "199     champagne-egly-ouriet-grand-cru-millesime-2008   product   \n",
       "428     david-duband-charmes-chambertin-grand-cru-2014   product   \n",
       "593  coteaux-champenois-egly-ouriet-ambonnay-rouge-...   product   \n",
       "218                               cognac-frapin-vip-xo   product   \n",
       "559                camille-giroud-clos-de-vougeot-2016   product   \n",
       "\n",
       "     valeur_stock  chiffre_affaire  stockSupCA   sold  \n",
       "199           0.0           1125.0       False   True  \n",
       "428        4350.0              0.0        True  False  \n",
       "593        1913.0            573.9        True   True  \n",
       "218        1408.0           2288.0       False   True  \n",
       "559        2100.0              0.0        True  False  "
      ]
     },
     "execution_count": 27,
     "metadata": {},
     "output_type": "execute_result"
    }
   ],
   "source": [
    "# affichage des valeurs à contrôler\n",
    "total_base_highValue.sort_values(\"price\", ascending=False, inplace=True)\n",
    "\n",
    "# recherche de résultat de ventes positifs:\n",
    "\n",
    "total_base_highValue_isSold = total_base_highValue[(total_base_highValue.sold == 1)]\n",
    "print(total_base_highValue_isSold.shape[0])\n",
    "\n",
    "# appercu des premières lignes\n",
    "total_base_highValue.head()"
   ]
  },
  {
   "cell_type": "markdown",
   "metadata": {},
   "source": [
    "Le marché des alcools et spiritueux, et particulièrement pour les vins et champagnes est marqué par des disparités de prix importantes.\n",
    "\n",
    "Après vérification rapide via une recherche sur google, les prix de ces produits (d'exception) sont tout à fait dans la moyenne des tarifs proposés par la concurrence.\n",
    "\n",
    "De plus une bonne partie (1/3) d'entre eux à déjà été commercialisé avec succès, le placement tarifaire parait donc cohérent."
   ]
  },
  {
   "cell_type": "markdown",
   "metadata": {},
   "source": [
    "# 16 Autres réflexions<a class=\"anchor\" id=\"chapter16\"></a>\n",
    "\n",
    "Pendant mon exploration de données préalable à la résolution des problèmes énoncés, ma curiosité à été stimulée par certaines interrogations ou constats.\n",
    "\n",
    "J'ai donc décidé de pousser l'analyse un peu plus loin pour satisfaire cette curiosité."
   ]
  },
  {
   "cell_type": "markdown",
   "metadata": {},
   "source": [
    "## 17 Des invendus, pourquoi? <a class=\"anchor\" id=\"chapter17\"></a>"
   ]
  },
  {
   "cell_type": "code",
   "execution_count": 28,
   "metadata": {},
   "outputs": [
    {
     "data": {
      "text/plain": [
       "count    329.000000\n",
       "mean      39.411094\n",
       "std       29.399851\n",
       "min        5.200000\n",
       "25%       18.200000\n",
       "50%       29.900000\n",
       "75%       52.900000\n",
       "max      217.500000\n",
       "Name: price, dtype: float64"
      ]
     },
     "execution_count": 28,
     "metadata": {},
     "output_type": "execute_result"
    }
   ],
   "source": [
    "# liste des invendus\n",
    "invendus = total_base[total_base.sold == 0]\n",
    "#liste des vendus\n",
    "vendus = ca_positif\n",
    "\n",
    "# statistiques de base\n",
    "invendus.price.describe()\n",
    "\n"
   ]
  },
  {
   "cell_type": "code",
   "execution_count": 29,
   "metadata": {},
   "outputs": [
    {
     "data": {
      "text/plain": [
       "count    385.000000\n",
       "mean      26.581429\n",
       "std       24.934530\n",
       "min        5.700000\n",
       "25%       12.500000\n",
       "50%       19.000000\n",
       "75%       31.700000\n",
       "max      225.000000\n",
       "Name: price, dtype: float64"
      ]
     },
     "execution_count": 29,
     "metadata": {},
     "output_type": "execute_result"
    }
   ],
   "source": [
    "vendus.price.describe()"
   ]
  },
  {
   "cell_type": "code",
   "execution_count": 30,
   "metadata": {},
   "outputs": [
    {
     "name": "stdout",
     "output_type": "stream",
     "text": [
      "moyenne : 39.41109422492397\n",
      "médiane : 29.9\n",
      "mode : 0    78.0\n",
      "dtype: float64\n",
      "variance : 861.7240182555595\n",
      "ecart type : 29.35513614779464\n",
      "skewness : 1.9028913657153843\n",
      "kurtosis : 5.701990997667269\n"
     ]
    }
   ],
   "source": [
    "# statistiques individuelles\n",
    "data2 = invendus.price\n",
    "print(f'moyenne : {data2.mean()}')\n",
    "print(f'médiane : {data2.median()}')\n",
    "print(f'mode : {data2.mode()}')\n",
    "# ddof = 0 sur la population complète\n",
    "# ddof = 1 sur un échantillon de la population\n",
    "print(f'variance : {data2.var(ddof=0)}')\n",
    "print(f'ecart type : {data2.std(ddof=0)}')\n",
    "print(f'skewness : {data2.skew()}')\n",
    "print(f'kurtosis : {data2.kurtosis()}')"
   ]
  },
  {
   "cell_type": "code",
   "execution_count": 31,
   "metadata": {},
   "outputs": [
    {
     "name": "stdout",
     "output_type": "stream",
     "text": [
      "moyenne : 26.581428571428578\n",
      "médiane : 19.0\n",
      "mode : 0     9.3\n",
      "1     9.9\n",
      "2    19.0\n",
      "dtype: float64\n",
      "variance : 620.115882374768\n",
      "ecart type : 24.902126061337977\n",
      "skewness : 3.719462793465191\n",
      "kurtosis : 20.190770175928705\n"
     ]
    }
   ],
   "source": [
    "data3 = vendus.price\n",
    "print(f'moyenne : {data3.mean()}')\n",
    "print(f'médiane : {data3.median()}')\n",
    "print(f'mode : {data3.mode()}')\n",
    "# ddof = 0 sur la population complète\n",
    "# ddof = 1 sur un échantillon de la population\n",
    "print(f'variance : {data3.var(ddof=0)}')\n",
    "print(f'ecart type : {data3.std(ddof=0)}')\n",
    "print(f'skewness : {data3.skew()}')\n",
    "print(f'kurtosis : {data3.kurtosis()}')"
   ]
  },
  {
   "cell_type": "code",
   "execution_count": 32,
   "metadata": {},
   "outputs": [
    {
     "data": {
      "application/vnd.plotly.v1+json": {
       "config": {
        "plotlyServerURL": "https://plot.ly"
       },
       "data": [
        {
         "alignmentgroup": "True",
         "bingroup": "x",
         "hovertemplate": "sold=True<br>price=%{x}<br>count=%{y}<extra></extra>",
         "legendgroup": "True",
         "marker": {
          "color": "#636efa",
          "pattern": {
           "shape": ""
          }
         },
         "name": "True",
         "offsetgroup": "True",
         "orientation": "v",
         "showlegend": true,
         "type": "histogram",
         "x": [
          49,
          49,
          176,
          53,
          39,
          126.5,
          225,
          29,
          25.2,
          16.6,
          44.3,
          43.9,
          27.9,
          59.9,
          25.2,
          37.2,
          48.5,
          71.6,
          69.8,
          137,
          33.2,
          51.6,
          42.6,
          19.5,
          191.3,
          13.3,
          16.8,
          24.5,
          22.8,
          80,
          65.9,
          49.5,
          44,
          22,
          20.8,
          10.9,
          21.7,
          21,
          22,
          26.2,
          41,
          8.6,
          9.3,
          22.8,
          22.5,
          12.9,
          40,
          23.2,
          23,
          135,
          5.8,
          32.6,
          14.4,
          31.6,
          25,
          62.4,
          8.5,
          5.7,
          24.4,
          34.8,
          15.9,
          79.5,
          13.2,
          58.3,
          46,
          115,
          28.5,
          18.4,
          31.5,
          16.9,
          31.2,
          18.2,
          108.5,
          31,
          53.2,
          19,
          25.9,
          20.6,
          33.7,
          16.3,
          11.5,
          12.8,
          21.2,
          12.5,
          7.1,
          60,
          14.9,
          14.8,
          9.8,
          57,
          42.2,
          24,
          42,
          24,
          55,
          41.2,
          54.8,
          13.7,
          27.3,
          23.4,
          14.6,
          32.1,
          26.7,
          22.8,
          26.5,
          11.3,
          52.4,
          8.7,
          39,
          25.9,
          12.9,
          25.7,
          8.5,
          16.9,
          7.6,
          16.5,
          24.4,
          24.2,
          13,
          28.4,
          7.8,
          23.4,
          5.8,
          11.6,
          19.8,
          34.4,
          7.1,
          19.2,
          19,
          26.6,
          19,
          21.8,
          43.5,
          9.8,
          12.7,
          25.3,
          25,
          61.6,
          20.5,
          13.6,
          20.35,
          11.1,
          7.6,
          13.5,
          8.6,
          12,
          9.9,
          59.4,
          23.6,
          9.7,
          19.2,
          23,
          14.1,
          28.1,
          9.3,
          27.3,
          10.8,
          13.5,
          27,
          15.3,
          11.9,
          11.9,
          35.2,
          52.4,
          104,
          25.7,
          17,
          33.4,
          11,
          33,
          49.5,
          32.8,
          10.8,
          8.7,
          8.7,
          23.7,
          30.8,
          46,
          15.2,
          6.5,
          45,
          17.8,
          43.9,
          17.5,
          29,
          29,
          85.6,
          7.1,
          28.1,
          12,
          27.9,
          27.8,
          20.4,
          39.8,
          19.8,
          38.6,
          38.6,
          15.4,
          38.4,
          9.5,
          12.6,
          12.6,
          9.4,
          14.9,
          24.8,
          5.7,
          12.1,
          11.9,
          7,
          17.3,
          68.3,
          13.5,
          16.45,
          16.4,
          21.8,
          9.3,
          16.1,
          12.7,
          31.7,
          63.4,
          62.5,
          15.5,
          30.5,
          8.7,
          12.1,
          60.4,
          20.1,
          9.9,
          9.9,
          29.5,
          59,
          59,
          57.6,
          19.2,
          14.05,
          56,
          55.4,
          9.1,
          18.2,
          27.2,
          18.1,
          52.7,
          17.5,
          26,
          25.9,
          17.1,
          12.7,
          12.7,
          12.6,
          50.1,
          16.7,
          50,
          49.9,
          49.5,
          49,
          16.3,
          16.3,
          24.3,
          48.5,
          48.4,
          6.8,
          15.8,
          5.8,
          7.7,
          15.4,
          9,
          14.9,
          44.5,
          22.2,
          44,
          14.5,
          14.5,
          14.4,
          14.3,
          14.1,
          8.4,
          41.8,
          41.8,
          13.8,
          20.5,
          10.1,
          40.2,
          13.3,
          9.9,
          19.8,
          7.9,
          39.2,
          39,
          38.6,
          38.6,
          19,
          19,
          37.7,
          12.3,
          12.3,
          12,
          9,
          36,
          11.9,
          8.9,
          17.8,
          35.6,
          35.5,
          17.4,
          17.2,
          5.7,
          6.8,
          17,
          11.3,
          6.7,
          16.7,
          16.4,
          8.2,
          10.8,
          32,
          10.6,
          31.5,
          10.2,
          29.7,
          9.8,
          9.7,
          14.4,
          9.6,
          14,
          28,
          9.3,
          9.3,
          27.7,
          26.7,
          13.1,
          6.5,
          25,
          24.6,
          12.2,
          24.2,
          23.2,
          22.4,
          11.1,
          11.1,
          22.1,
          21.6,
          21.5,
          20.8,
          20.2,
          19.3,
          19,
          17.9,
          17.1,
          16.7,
          16.6,
          16.6,
          16.5,
          16.3,
          15.8,
          15.5,
          15.4,
          15.3,
          15.2,
          15.2,
          14.3,
          14.1,
          7,
          13.7,
          13.7,
          13.4,
          12.8,
          12.8,
          6.3,
          12.6,
          11.1,
          10.7,
          10.7,
          10.4,
          10.1,
          9.9,
          9.9,
          9.5,
          9.3,
          9.2,
          9.1,
          8.9,
          8.9,
          7.8,
          7.5,
          6.5
         ],
         "xaxis": "x",
         "yaxis": "y"
        },
        {
         "alignmentgroup": "True",
         "bingroup": "x",
         "hovertemplate": "sold=False<br>price=%{x}<br>count=%{y}<extra></extra>",
         "legendgroup": "False",
         "marker": {
          "color": "#EF553B",
          "pattern": {
           "shape": ""
          }
         },
         "name": "False",
         "offsetgroup": "False",
         "orientation": "v",
         "showlegend": true,
         "type": "histogram",
         "x": [
          10.3,
          25,
          31.7,
          18,
          16.9,
          29.4,
          35.6,
          13.7,
          29.9,
          17.5,
          124.8,
          69,
          175,
          56.4,
          27.5,
          19.5,
          71.3,
          10.3,
          38.4,
          73.3,
          33.6,
          42.1,
          57,
          44.6,
          54.8,
          71.3,
          13.5,
          5.7,
          29.8,
          105.6,
          5.2,
          10.6,
          46,
          62.4,
          74.8,
          33.2,
          40.7,
          36.9,
          13.4,
          71.5,
          24.5,
          13.5,
          38.5,
          51,
          59.6,
          71.7,
          48.5,
          42.2,
          69,
          116.4,
          20.2,
          32.8,
          24.4,
          41.8,
          44,
          29.2,
          72,
          28.4,
          22.4,
          27.9,
          40.5,
          78,
          10.4,
          45.9,
          20.4,
          19,
          26.4,
          23.5,
          121,
          115,
          99,
          121,
          33.2,
          56.3,
          21.7,
          46.5,
          19.3,
          63.5,
          63.5,
          57.6,
          48.5,
          16.9,
          24,
          17.9,
          46.5,
          23.8,
          13.5,
          46.5,
          24,
          40.2,
          42,
          17.2,
          21.8,
          50.5,
          12.5,
          23,
          35.6,
          24.7,
          18.25,
          50.4,
          30,
          12.7,
          15.4,
          8.7,
          17.2,
          74.5,
          32.2,
          59.9,
          114,
          122,
          93,
          36,
          57,
          47.2,
          17.7,
          19.8,
          18.8,
          27.3,
          35.1,
          83.7,
          78,
          34.7,
          27.5,
          68.1,
          44,
          59,
          59,
          62,
          27.5,
          59.8,
          57,
          49.5,
          49.5,
          77,
          39,
          79.5,
          59,
          83,
          10.9,
          8.1,
          30,
          39.1,
          19,
          11.6,
          18.9,
          17.6,
          157,
          28.5,
          67.2,
          39.6,
          43,
          43,
          40.2,
          33.4,
          36.2,
          49,
          62.4,
          41,
          50,
          76.8,
          52.9,
          109.6,
          52.4,
          59,
          30.6,
          67.5,
          57,
          13.1,
          11.8,
          13.4,
          32.2,
          26.5,
          12.9,
          16.6,
          10.2,
          17,
          88.4,
          23,
          100,
          35,
          15.8,
          15.8,
          12.8,
          22.8,
          13.7,
          23.2,
          37,
          77.4,
          22.9,
          14.7,
          77.8,
          60,
          19.5,
          18.3,
          32.7,
          34.3,
          46,
          20.8,
          29.8,
          29.5,
          15.8,
          58.8,
          31.7,
          24.4,
          26.9,
          59.6,
          28,
          28,
          9.6,
          29.9,
          17.1,
          26.5,
          79.8,
          37.5,
          38,
          38,
          5.8,
          21.4,
          24,
          13.5,
          11.6,
          18.5,
          12,
          69,
          48.8,
          20.8,
          16.4,
          112,
          22.8,
          18,
          11.1,
          19,
          65,
          59.9,
          67,
          52.6,
          62.1,
          86.8,
          45,
          28.8,
          19.8,
          55.6,
          105,
          105,
          48.7,
          48.7,
          64.9,
          217.5,
          78,
          78,
          19.5,
          16.1,
          26.5,
          18.2,
          92,
          58,
          58,
          38,
          57.7,
          36.3,
          34.3,
          48.8,
          61.6,
          12,
          26.5,
          35.3,
          43.5,
          17.9,
          11.5,
          7.2,
          16.2,
          16.3,
          24,
          17.1,
          12.7,
          10.7,
          78,
          18.5,
          21,
          18.6,
          7.4,
          27.9,
          11.9,
          14.5,
          9.7,
          7.4,
          16.8,
          14.3,
          23.4,
          18.2,
          11.1,
          16.9,
          44,
          12.8,
          30.1,
          13.2,
          29.8,
          12.9,
          10.7,
          19.8,
          17.8,
          21.9,
          24.3,
          13.9,
          49.5,
          46,
          12.9,
          12.5,
          18.4,
          27.8,
          7.9,
          12.8,
          28,
          25.9,
          22.9,
          102.3,
          41,
          29.5,
          25.3,
          27.9,
          18.7,
          34.3,
          41.6,
          18.7,
          13.6,
          11.1,
          12.1,
          28.5,
          16.3
         ],
         "xaxis": "x",
         "yaxis": "y"
        }
       ],
       "layout": {
        "barmode": "relative",
        "legend": {
         "title": {
          "text": "sold"
         },
         "tracegroupgap": 0
        },
        "template": {
         "data": {
          "bar": [
           {
            "error_x": {
             "color": "#2a3f5f"
            },
            "error_y": {
             "color": "#2a3f5f"
            },
            "marker": {
             "line": {
              "color": "#E5ECF6",
              "width": 0.5
             },
             "pattern": {
              "fillmode": "overlay",
              "size": 10,
              "solidity": 0.2
             }
            },
            "type": "bar"
           }
          ],
          "barpolar": [
           {
            "marker": {
             "line": {
              "color": "#E5ECF6",
              "width": 0.5
             },
             "pattern": {
              "fillmode": "overlay",
              "size": 10,
              "solidity": 0.2
             }
            },
            "type": "barpolar"
           }
          ],
          "carpet": [
           {
            "aaxis": {
             "endlinecolor": "#2a3f5f",
             "gridcolor": "white",
             "linecolor": "white",
             "minorgridcolor": "white",
             "startlinecolor": "#2a3f5f"
            },
            "baxis": {
             "endlinecolor": "#2a3f5f",
             "gridcolor": "white",
             "linecolor": "white",
             "minorgridcolor": "white",
             "startlinecolor": "#2a3f5f"
            },
            "type": "carpet"
           }
          ],
          "choropleth": [
           {
            "colorbar": {
             "outlinewidth": 0,
             "ticks": ""
            },
            "type": "choropleth"
           }
          ],
          "contour": [
           {
            "colorbar": {
             "outlinewidth": 0,
             "ticks": ""
            },
            "colorscale": [
             [
              0,
              "#0d0887"
             ],
             [
              0.1111111111111111,
              "#46039f"
             ],
             [
              0.2222222222222222,
              "#7201a8"
             ],
             [
              0.3333333333333333,
              "#9c179e"
             ],
             [
              0.4444444444444444,
              "#bd3786"
             ],
             [
              0.5555555555555556,
              "#d8576b"
             ],
             [
              0.6666666666666666,
              "#ed7953"
             ],
             [
              0.7777777777777778,
              "#fb9f3a"
             ],
             [
              0.8888888888888888,
              "#fdca26"
             ],
             [
              1,
              "#f0f921"
             ]
            ],
            "type": "contour"
           }
          ],
          "contourcarpet": [
           {
            "colorbar": {
             "outlinewidth": 0,
             "ticks": ""
            },
            "type": "contourcarpet"
           }
          ],
          "heatmap": [
           {
            "colorbar": {
             "outlinewidth": 0,
             "ticks": ""
            },
            "colorscale": [
             [
              0,
              "#0d0887"
             ],
             [
              0.1111111111111111,
              "#46039f"
             ],
             [
              0.2222222222222222,
              "#7201a8"
             ],
             [
              0.3333333333333333,
              "#9c179e"
             ],
             [
              0.4444444444444444,
              "#bd3786"
             ],
             [
              0.5555555555555556,
              "#d8576b"
             ],
             [
              0.6666666666666666,
              "#ed7953"
             ],
             [
              0.7777777777777778,
              "#fb9f3a"
             ],
             [
              0.8888888888888888,
              "#fdca26"
             ],
             [
              1,
              "#f0f921"
             ]
            ],
            "type": "heatmap"
           }
          ],
          "heatmapgl": [
           {
            "colorbar": {
             "outlinewidth": 0,
             "ticks": ""
            },
            "colorscale": [
             [
              0,
              "#0d0887"
             ],
             [
              0.1111111111111111,
              "#46039f"
             ],
             [
              0.2222222222222222,
              "#7201a8"
             ],
             [
              0.3333333333333333,
              "#9c179e"
             ],
             [
              0.4444444444444444,
              "#bd3786"
             ],
             [
              0.5555555555555556,
              "#d8576b"
             ],
             [
              0.6666666666666666,
              "#ed7953"
             ],
             [
              0.7777777777777778,
              "#fb9f3a"
             ],
             [
              0.8888888888888888,
              "#fdca26"
             ],
             [
              1,
              "#f0f921"
             ]
            ],
            "type": "heatmapgl"
           }
          ],
          "histogram": [
           {
            "marker": {
             "pattern": {
              "fillmode": "overlay",
              "size": 10,
              "solidity": 0.2
             }
            },
            "type": "histogram"
           }
          ],
          "histogram2d": [
           {
            "colorbar": {
             "outlinewidth": 0,
             "ticks": ""
            },
            "colorscale": [
             [
              0,
              "#0d0887"
             ],
             [
              0.1111111111111111,
              "#46039f"
             ],
             [
              0.2222222222222222,
              "#7201a8"
             ],
             [
              0.3333333333333333,
              "#9c179e"
             ],
             [
              0.4444444444444444,
              "#bd3786"
             ],
             [
              0.5555555555555556,
              "#d8576b"
             ],
             [
              0.6666666666666666,
              "#ed7953"
             ],
             [
              0.7777777777777778,
              "#fb9f3a"
             ],
             [
              0.8888888888888888,
              "#fdca26"
             ],
             [
              1,
              "#f0f921"
             ]
            ],
            "type": "histogram2d"
           }
          ],
          "histogram2dcontour": [
           {
            "colorbar": {
             "outlinewidth": 0,
             "ticks": ""
            },
            "colorscale": [
             [
              0,
              "#0d0887"
             ],
             [
              0.1111111111111111,
              "#46039f"
             ],
             [
              0.2222222222222222,
              "#7201a8"
             ],
             [
              0.3333333333333333,
              "#9c179e"
             ],
             [
              0.4444444444444444,
              "#bd3786"
             ],
             [
              0.5555555555555556,
              "#d8576b"
             ],
             [
              0.6666666666666666,
              "#ed7953"
             ],
             [
              0.7777777777777778,
              "#fb9f3a"
             ],
             [
              0.8888888888888888,
              "#fdca26"
             ],
             [
              1,
              "#f0f921"
             ]
            ],
            "type": "histogram2dcontour"
           }
          ],
          "mesh3d": [
           {
            "colorbar": {
             "outlinewidth": 0,
             "ticks": ""
            },
            "type": "mesh3d"
           }
          ],
          "parcoords": [
           {
            "line": {
             "colorbar": {
              "outlinewidth": 0,
              "ticks": ""
             }
            },
            "type": "parcoords"
           }
          ],
          "pie": [
           {
            "automargin": true,
            "type": "pie"
           }
          ],
          "scatter": [
           {
            "marker": {
             "colorbar": {
              "outlinewidth": 0,
              "ticks": ""
             }
            },
            "type": "scatter"
           }
          ],
          "scatter3d": [
           {
            "line": {
             "colorbar": {
              "outlinewidth": 0,
              "ticks": ""
             }
            },
            "marker": {
             "colorbar": {
              "outlinewidth": 0,
              "ticks": ""
             }
            },
            "type": "scatter3d"
           }
          ],
          "scattercarpet": [
           {
            "marker": {
             "colorbar": {
              "outlinewidth": 0,
              "ticks": ""
             }
            },
            "type": "scattercarpet"
           }
          ],
          "scattergeo": [
           {
            "marker": {
             "colorbar": {
              "outlinewidth": 0,
              "ticks": ""
             }
            },
            "type": "scattergeo"
           }
          ],
          "scattergl": [
           {
            "marker": {
             "colorbar": {
              "outlinewidth": 0,
              "ticks": ""
             }
            },
            "type": "scattergl"
           }
          ],
          "scattermapbox": [
           {
            "marker": {
             "colorbar": {
              "outlinewidth": 0,
              "ticks": ""
             }
            },
            "type": "scattermapbox"
           }
          ],
          "scatterpolar": [
           {
            "marker": {
             "colorbar": {
              "outlinewidth": 0,
              "ticks": ""
             }
            },
            "type": "scatterpolar"
           }
          ],
          "scatterpolargl": [
           {
            "marker": {
             "colorbar": {
              "outlinewidth": 0,
              "ticks": ""
             }
            },
            "type": "scatterpolargl"
           }
          ],
          "scatterternary": [
           {
            "marker": {
             "colorbar": {
              "outlinewidth": 0,
              "ticks": ""
             }
            },
            "type": "scatterternary"
           }
          ],
          "surface": [
           {
            "colorbar": {
             "outlinewidth": 0,
             "ticks": ""
            },
            "colorscale": [
             [
              0,
              "#0d0887"
             ],
             [
              0.1111111111111111,
              "#46039f"
             ],
             [
              0.2222222222222222,
              "#7201a8"
             ],
             [
              0.3333333333333333,
              "#9c179e"
             ],
             [
              0.4444444444444444,
              "#bd3786"
             ],
             [
              0.5555555555555556,
              "#d8576b"
             ],
             [
              0.6666666666666666,
              "#ed7953"
             ],
             [
              0.7777777777777778,
              "#fb9f3a"
             ],
             [
              0.8888888888888888,
              "#fdca26"
             ],
             [
              1,
              "#f0f921"
             ]
            ],
            "type": "surface"
           }
          ],
          "table": [
           {
            "cells": {
             "fill": {
              "color": "#EBF0F8"
             },
             "line": {
              "color": "white"
             }
            },
            "header": {
             "fill": {
              "color": "#C8D4E3"
             },
             "line": {
              "color": "white"
             }
            },
            "type": "table"
           }
          ]
         },
         "layout": {
          "annotationdefaults": {
           "arrowcolor": "#2a3f5f",
           "arrowhead": 0,
           "arrowwidth": 1
          },
          "autotypenumbers": "strict",
          "coloraxis": {
           "colorbar": {
            "outlinewidth": 0,
            "ticks": ""
           }
          },
          "colorscale": {
           "diverging": [
            [
             0,
             "#8e0152"
            ],
            [
             0.1,
             "#c51b7d"
            ],
            [
             0.2,
             "#de77ae"
            ],
            [
             0.3,
             "#f1b6da"
            ],
            [
             0.4,
             "#fde0ef"
            ],
            [
             0.5,
             "#f7f7f7"
            ],
            [
             0.6,
             "#e6f5d0"
            ],
            [
             0.7,
             "#b8e186"
            ],
            [
             0.8,
             "#7fbc41"
            ],
            [
             0.9,
             "#4d9221"
            ],
            [
             1,
             "#276419"
            ]
           ],
           "sequential": [
            [
             0,
             "#0d0887"
            ],
            [
             0.1111111111111111,
             "#46039f"
            ],
            [
             0.2222222222222222,
             "#7201a8"
            ],
            [
             0.3333333333333333,
             "#9c179e"
            ],
            [
             0.4444444444444444,
             "#bd3786"
            ],
            [
             0.5555555555555556,
             "#d8576b"
            ],
            [
             0.6666666666666666,
             "#ed7953"
            ],
            [
             0.7777777777777778,
             "#fb9f3a"
            ],
            [
             0.8888888888888888,
             "#fdca26"
            ],
            [
             1,
             "#f0f921"
            ]
           ],
           "sequentialminus": [
            [
             0,
             "#0d0887"
            ],
            [
             0.1111111111111111,
             "#46039f"
            ],
            [
             0.2222222222222222,
             "#7201a8"
            ],
            [
             0.3333333333333333,
             "#9c179e"
            ],
            [
             0.4444444444444444,
             "#bd3786"
            ],
            [
             0.5555555555555556,
             "#d8576b"
            ],
            [
             0.6666666666666666,
             "#ed7953"
            ],
            [
             0.7777777777777778,
             "#fb9f3a"
            ],
            [
             0.8888888888888888,
             "#fdca26"
            ],
            [
             1,
             "#f0f921"
            ]
           ]
          },
          "colorway": [
           "#636efa",
           "#EF553B",
           "#00cc96",
           "#ab63fa",
           "#FFA15A",
           "#19d3f3",
           "#FF6692",
           "#B6E880",
           "#FF97FF",
           "#FECB52"
          ],
          "font": {
           "color": "#2a3f5f"
          },
          "geo": {
           "bgcolor": "white",
           "lakecolor": "white",
           "landcolor": "#E5ECF6",
           "showlakes": true,
           "showland": true,
           "subunitcolor": "white"
          },
          "hoverlabel": {
           "align": "left"
          },
          "hovermode": "closest",
          "mapbox": {
           "style": "light"
          },
          "paper_bgcolor": "white",
          "plot_bgcolor": "#E5ECF6",
          "polar": {
           "angularaxis": {
            "gridcolor": "white",
            "linecolor": "white",
            "ticks": ""
           },
           "bgcolor": "#E5ECF6",
           "radialaxis": {
            "gridcolor": "white",
            "linecolor": "white",
            "ticks": ""
           }
          },
          "scene": {
           "xaxis": {
            "backgroundcolor": "#E5ECF6",
            "gridcolor": "white",
            "gridwidth": 2,
            "linecolor": "white",
            "showbackground": true,
            "ticks": "",
            "zerolinecolor": "white"
           },
           "yaxis": {
            "backgroundcolor": "#E5ECF6",
            "gridcolor": "white",
            "gridwidth": 2,
            "linecolor": "white",
            "showbackground": true,
            "ticks": "",
            "zerolinecolor": "white"
           },
           "zaxis": {
            "backgroundcolor": "#E5ECF6",
            "gridcolor": "white",
            "gridwidth": 2,
            "linecolor": "white",
            "showbackground": true,
            "ticks": "",
            "zerolinecolor": "white"
           }
          },
          "shapedefaults": {
           "line": {
            "color": "#2a3f5f"
           }
          },
          "ternary": {
           "aaxis": {
            "gridcolor": "white",
            "linecolor": "white",
            "ticks": ""
           },
           "baxis": {
            "gridcolor": "white",
            "linecolor": "white",
            "ticks": ""
           },
           "bgcolor": "#E5ECF6",
           "caxis": {
            "gridcolor": "white",
            "linecolor": "white",
            "ticks": ""
           }
          },
          "title": {
           "x": 0.05
          },
          "xaxis": {
           "automargin": true,
           "gridcolor": "white",
           "linecolor": "white",
           "ticks": "",
           "title": {
            "standoff": 15
           },
           "zerolinecolor": "white",
           "zerolinewidth": 2
          },
          "yaxis": {
           "automargin": true,
           "gridcolor": "white",
           "linecolor": "white",
           "ticks": "",
           "title": {
            "standoff": 15
           },
           "zerolinecolor": "white",
           "zerolinewidth": 2
          }
         }
        },
        "title": {
         "text": "Répartition des prix produits"
        },
        "xaxis": {
         "anchor": "y",
         "domain": [
          0,
          1
         ],
         "title": {
          "text": "price"
         }
        },
        "yaxis": {
         "anchor": "x",
         "domain": [
          0,
          1
         ],
         "title": {
          "text": "count"
         }
        }
       }
      }
     },
     "metadata": {},
     "output_type": "display_data"
    }
   ],
   "source": [
    "\n",
    "# histogramme comparatif\n",
    "\n",
    "df = total_base\n",
    "fig = px.histogram(df, x=\"price\", color=\"sold\", title=\"Répartition des prix produits\")\n",
    "fig.show()"
   ]
  },
  {
   "cell_type": "code",
   "execution_count": 33,
   "metadata": {},
   "outputs": [
    {
     "data": {
      "application/vnd.plotly.v1+json": {
       "config": {
        "plotlyServerURL": "https://plot.ly"
       },
       "data": [
        {
         "alignmentgroup": "True",
         "boxpoints": "all",
         "hovertemplate": "price=%{x}<br>sold=%{y}<extra></extra>",
         "legendgroup": "",
         "marker": {
          "color": "#636efa"
         },
         "name": "",
         "notched": false,
         "offsetgroup": "",
         "orientation": "h",
         "showlegend": false,
         "type": "box",
         "x": [
          49,
          49,
          176,
          53,
          39,
          126.5,
          225,
          29,
          25.2,
          16.6,
          44.3,
          43.9,
          27.9,
          59.9,
          25.2,
          37.2,
          48.5,
          71.6,
          69.8,
          137,
          33.2,
          51.6,
          42.6,
          19.5,
          191.3,
          13.3,
          16.8,
          24.5,
          22.8,
          80,
          65.9,
          49.5,
          44,
          22,
          20.8,
          10.9,
          21.7,
          21,
          22,
          26.2,
          41,
          8.6,
          9.3,
          22.8,
          22.5,
          12.9,
          40,
          23.2,
          23,
          135,
          5.8,
          32.6,
          14.4,
          31.6,
          25,
          62.4,
          8.5,
          5.7,
          24.4,
          34.8,
          15.9,
          79.5,
          13.2,
          58.3,
          46,
          115,
          28.5,
          18.4,
          31.5,
          16.9,
          31.2,
          18.2,
          108.5,
          31,
          53.2,
          19,
          25.9,
          20.6,
          33.7,
          16.3,
          11.5,
          12.8,
          21.2,
          12.5,
          7.1,
          60,
          14.9,
          14.8,
          9.8,
          57,
          42.2,
          24,
          42,
          24,
          55,
          41.2,
          54.8,
          13.7,
          27.3,
          23.4,
          14.6,
          32.1,
          26.7,
          22.8,
          26.5,
          11.3,
          52.4,
          8.7,
          39,
          25.9,
          12.9,
          25.7,
          8.5,
          16.9,
          7.6,
          16.5,
          24.4,
          24.2,
          13,
          28.4,
          7.8,
          23.4,
          5.8,
          11.6,
          19.8,
          34.4,
          7.1,
          19.2,
          19,
          26.6,
          19,
          21.8,
          43.5,
          9.8,
          12.7,
          25.3,
          25,
          61.6,
          20.5,
          13.6,
          20.35,
          11.1,
          7.6,
          13.5,
          8.6,
          12,
          9.9,
          59.4,
          23.6,
          9.7,
          19.2,
          23,
          14.1,
          28.1,
          9.3,
          27.3,
          10.8,
          13.5,
          27,
          15.3,
          11.9,
          11.9,
          35.2,
          52.4,
          104,
          25.7,
          17,
          33.4,
          11,
          33,
          49.5,
          32.8,
          10.8,
          8.7,
          8.7,
          23.7,
          30.8,
          46,
          15.2,
          6.5,
          45,
          17.8,
          43.9,
          17.5,
          29,
          29,
          85.6,
          7.1,
          28.1,
          12,
          27.9,
          27.8,
          20.4,
          39.8,
          19.8,
          38.6,
          38.6,
          15.4,
          38.4,
          9.5,
          12.6,
          12.6,
          9.4,
          14.9,
          24.8,
          5.7,
          12.1,
          11.9,
          7,
          17.3,
          68.3,
          13.5,
          16.45,
          16.4,
          21.8,
          9.3,
          16.1,
          12.7,
          31.7,
          63.4,
          62.5,
          15.5,
          30.5,
          8.7,
          12.1,
          60.4,
          20.1,
          9.9,
          9.9,
          29.5,
          59,
          59,
          57.6,
          19.2,
          14.05,
          56,
          55.4,
          9.1,
          18.2,
          27.2,
          18.1,
          52.7,
          17.5,
          26,
          25.9,
          17.1,
          12.7,
          12.7,
          12.6,
          50.1,
          16.7,
          50,
          49.9,
          49.5,
          49,
          16.3,
          16.3,
          24.3,
          48.5,
          48.4,
          6.8,
          15.8,
          5.8,
          7.7,
          15.4,
          9,
          14.9,
          44.5,
          22.2,
          44,
          14.5,
          14.5,
          14.4,
          14.3,
          14.1,
          8.4,
          41.8,
          41.8,
          13.8,
          20.5,
          10.1,
          40.2,
          13.3,
          9.9,
          19.8,
          7.9,
          39.2,
          39,
          38.6,
          38.6,
          19,
          19,
          37.7,
          12.3,
          12.3,
          12,
          9,
          36,
          11.9,
          8.9,
          17.8,
          35.6,
          35.5,
          17.4,
          17.2,
          5.7,
          6.8,
          17,
          11.3,
          6.7,
          16.7,
          16.4,
          8.2,
          10.8,
          32,
          10.6,
          31.5,
          10.2,
          29.7,
          9.8,
          9.7,
          14.4,
          9.6,
          14,
          28,
          9.3,
          9.3,
          27.7,
          26.7,
          13.1,
          6.5,
          25,
          24.6,
          12.2,
          24.2,
          23.2,
          22.4,
          11.1,
          11.1,
          22.1,
          21.6,
          21.5,
          20.8,
          20.2,
          19.3,
          19,
          17.9,
          17.1,
          16.7,
          16.6,
          16.6,
          16.5,
          16.3,
          15.8,
          15.5,
          15.4,
          15.3,
          15.2,
          15.2,
          14.3,
          14.1,
          7,
          13.7,
          13.7,
          13.4,
          12.8,
          12.8,
          6.3,
          12.6,
          11.1,
          10.7,
          10.7,
          10.4,
          10.1,
          9.9,
          9.9,
          9.5,
          9.3,
          9.2,
          9.1,
          8.9,
          8.9,
          7.8,
          7.5,
          6.5,
          10.3,
          25,
          31.7,
          18,
          16.9,
          29.4,
          35.6,
          13.7,
          29.9,
          17.5,
          124.8,
          69,
          175,
          56.4,
          27.5,
          19.5,
          71.3,
          10.3,
          38.4,
          73.3,
          33.6,
          42.1,
          57,
          44.6,
          54.8,
          71.3,
          13.5,
          5.7,
          29.8,
          105.6,
          5.2,
          10.6,
          46,
          62.4,
          74.8,
          33.2,
          40.7,
          36.9,
          13.4,
          71.5,
          24.5,
          13.5,
          38.5,
          51,
          59.6,
          71.7,
          48.5,
          42.2,
          69,
          116.4,
          20.2,
          32.8,
          24.4,
          41.8,
          44,
          29.2,
          72,
          28.4,
          22.4,
          27.9,
          40.5,
          78,
          10.4,
          45.9,
          20.4,
          19,
          26.4,
          23.5,
          121,
          115,
          99,
          121,
          33.2,
          56.3,
          21.7,
          46.5,
          19.3,
          63.5,
          63.5,
          57.6,
          48.5,
          16.9,
          24,
          17.9,
          46.5,
          23.8,
          13.5,
          46.5,
          24,
          40.2,
          42,
          17.2,
          21.8,
          50.5,
          12.5,
          23,
          35.6,
          24.7,
          18.25,
          50.4,
          30,
          12.7,
          15.4,
          8.7,
          17.2,
          74.5,
          32.2,
          59.9,
          114,
          122,
          93,
          36,
          57,
          47.2,
          17.7,
          19.8,
          18.8,
          27.3,
          35.1,
          83.7,
          78,
          34.7,
          27.5,
          68.1,
          44,
          59,
          59,
          62,
          27.5,
          59.8,
          57,
          49.5,
          49.5,
          77,
          39,
          79.5,
          59,
          83,
          10.9,
          8.1,
          30,
          39.1,
          19,
          11.6,
          18.9,
          17.6,
          157,
          28.5,
          67.2,
          39.6,
          43,
          43,
          40.2,
          33.4,
          36.2,
          49,
          62.4,
          41,
          50,
          76.8,
          52.9,
          109.6,
          52.4,
          59,
          30.6,
          67.5,
          57,
          13.1,
          11.8,
          13.4,
          32.2,
          26.5,
          12.9,
          16.6,
          10.2,
          17,
          88.4,
          23,
          100,
          35,
          15.8,
          15.8,
          12.8,
          22.8,
          13.7,
          23.2,
          37,
          77.4,
          22.9,
          14.7,
          77.8,
          60,
          19.5,
          18.3,
          32.7,
          34.3,
          46,
          20.8,
          29.8,
          29.5,
          15.8,
          58.8,
          31.7,
          24.4,
          26.9,
          59.6,
          28,
          28,
          9.6,
          29.9,
          17.1,
          26.5,
          79.8,
          37.5,
          38,
          38,
          5.8,
          21.4,
          24,
          13.5,
          11.6,
          18.5,
          12,
          69,
          48.8,
          20.8,
          16.4,
          112,
          22.8,
          18,
          11.1,
          19,
          65,
          59.9,
          67,
          52.6,
          62.1,
          86.8,
          45,
          28.8,
          19.8,
          55.6,
          105,
          105,
          48.7,
          48.7,
          64.9,
          217.5,
          78,
          78,
          19.5,
          16.1,
          26.5,
          18.2,
          92,
          58,
          58,
          38,
          57.7,
          36.3,
          34.3,
          48.8,
          61.6,
          12,
          26.5,
          35.3,
          43.5,
          17.9,
          11.5,
          7.2,
          16.2,
          16.3,
          24,
          17.1,
          12.7,
          10.7,
          78,
          18.5,
          21,
          18.6,
          7.4,
          27.9,
          11.9,
          14.5,
          9.7,
          7.4,
          16.8,
          14.3,
          23.4,
          18.2,
          11.1,
          16.9,
          44,
          12.8,
          30.1,
          13.2,
          29.8,
          12.9,
          10.7,
          19.8,
          17.8,
          21.9,
          24.3,
          13.9,
          49.5,
          46,
          12.9,
          12.5,
          18.4,
          27.8,
          7.9,
          12.8,
          28,
          25.9,
          22.9,
          102.3,
          41,
          29.5,
          25.3,
          27.9,
          18.7,
          34.3,
          41.6,
          18.7,
          13.6,
          11.1,
          12.1,
          28.5,
          16.3
         ],
         "x0": " ",
         "xaxis": "x",
         "y": [
          true,
          true,
          true,
          true,
          true,
          true,
          true,
          true,
          true,
          true,
          true,
          true,
          true,
          true,
          true,
          true,
          true,
          true,
          true,
          true,
          true,
          true,
          true,
          true,
          true,
          true,
          true,
          true,
          true,
          true,
          true,
          true,
          true,
          true,
          true,
          true,
          true,
          true,
          true,
          true,
          true,
          true,
          true,
          true,
          true,
          true,
          true,
          true,
          true,
          true,
          true,
          true,
          true,
          true,
          true,
          true,
          true,
          true,
          true,
          true,
          true,
          true,
          true,
          true,
          true,
          true,
          true,
          true,
          true,
          true,
          true,
          true,
          true,
          true,
          true,
          true,
          true,
          true,
          true,
          true,
          true,
          true,
          true,
          true,
          true,
          true,
          true,
          true,
          true,
          true,
          true,
          true,
          true,
          true,
          true,
          true,
          true,
          true,
          true,
          true,
          true,
          true,
          true,
          true,
          true,
          true,
          true,
          true,
          true,
          true,
          true,
          true,
          true,
          true,
          true,
          true,
          true,
          true,
          true,
          true,
          true,
          true,
          true,
          true,
          true,
          true,
          true,
          true,
          true,
          true,
          true,
          true,
          true,
          true,
          true,
          true,
          true,
          true,
          true,
          true,
          true,
          true,
          true,
          true,
          true,
          true,
          true,
          true,
          true,
          true,
          true,
          true,
          true,
          true,
          true,
          true,
          true,
          true,
          true,
          true,
          true,
          true,
          true,
          true,
          true,
          true,
          true,
          true,
          true,
          true,
          true,
          true,
          true,
          true,
          true,
          true,
          true,
          true,
          true,
          true,
          true,
          true,
          true,
          true,
          true,
          true,
          true,
          true,
          true,
          true,
          true,
          true,
          true,
          true,
          true,
          true,
          true,
          true,
          true,
          true,
          true,
          true,
          true,
          true,
          true,
          true,
          true,
          true,
          true,
          true,
          true,
          true,
          true,
          true,
          true,
          true,
          true,
          true,
          true,
          true,
          true,
          true,
          true,
          true,
          true,
          true,
          true,
          true,
          true,
          true,
          true,
          true,
          true,
          true,
          true,
          true,
          true,
          true,
          true,
          true,
          true,
          true,
          true,
          true,
          true,
          true,
          true,
          true,
          true,
          true,
          true,
          true,
          true,
          true,
          true,
          true,
          true,
          true,
          true,
          true,
          true,
          true,
          true,
          true,
          true,
          true,
          true,
          true,
          true,
          true,
          true,
          true,
          true,
          true,
          true,
          true,
          true,
          true,
          true,
          true,
          true,
          true,
          true,
          true,
          true,
          true,
          true,
          true,
          true,
          true,
          true,
          true,
          true,
          true,
          true,
          true,
          true,
          true,
          true,
          true,
          true,
          true,
          true,
          true,
          true,
          true,
          true,
          true,
          true,
          true,
          true,
          true,
          true,
          true,
          true,
          true,
          true,
          true,
          true,
          true,
          true,
          true,
          true,
          true,
          true,
          true,
          true,
          true,
          true,
          true,
          true,
          true,
          true,
          true,
          true,
          true,
          true,
          true,
          true,
          true,
          true,
          true,
          true,
          true,
          true,
          true,
          true,
          true,
          true,
          true,
          true,
          true,
          true,
          true,
          true,
          true,
          true,
          true,
          true,
          true,
          true,
          true,
          true,
          true,
          true,
          true,
          true,
          true,
          true,
          true,
          true,
          true,
          true,
          true,
          true,
          true,
          true,
          true,
          true,
          true,
          true,
          true,
          true,
          true,
          true,
          false,
          false,
          false,
          false,
          false,
          false,
          false,
          false,
          false,
          false,
          false,
          false,
          false,
          false,
          false,
          false,
          false,
          false,
          false,
          false,
          false,
          false,
          false,
          false,
          false,
          false,
          false,
          false,
          false,
          false,
          false,
          false,
          false,
          false,
          false,
          false,
          false,
          false,
          false,
          false,
          false,
          false,
          false,
          false,
          false,
          false,
          false,
          false,
          false,
          false,
          false,
          false,
          false,
          false,
          false,
          false,
          false,
          false,
          false,
          false,
          false,
          false,
          false,
          false,
          false,
          false,
          false,
          false,
          false,
          false,
          false,
          false,
          false,
          false,
          false,
          false,
          false,
          false,
          false,
          false,
          false,
          false,
          false,
          false,
          false,
          false,
          false,
          false,
          false,
          false,
          false,
          false,
          false,
          false,
          false,
          false,
          false,
          false,
          false,
          false,
          false,
          false,
          false,
          false,
          false,
          false,
          false,
          false,
          false,
          false,
          false,
          false,
          false,
          false,
          false,
          false,
          false,
          false,
          false,
          false,
          false,
          false,
          false,
          false,
          false,
          false,
          false,
          false,
          false,
          false,
          false,
          false,
          false,
          false,
          false,
          false,
          false,
          false,
          false,
          false,
          false,
          false,
          false,
          false,
          false,
          false,
          false,
          false,
          false,
          false,
          false,
          false,
          false,
          false,
          false,
          false,
          false,
          false,
          false,
          false,
          false,
          false,
          false,
          false,
          false,
          false,
          false,
          false,
          false,
          false,
          false,
          false,
          false,
          false,
          false,
          false,
          false,
          false,
          false,
          false,
          false,
          false,
          false,
          false,
          false,
          false,
          false,
          false,
          false,
          false,
          false,
          false,
          false,
          false,
          false,
          false,
          false,
          false,
          false,
          false,
          false,
          false,
          false,
          false,
          false,
          false,
          false,
          false,
          false,
          false,
          false,
          false,
          false,
          false,
          false,
          false,
          false,
          false,
          false,
          false,
          false,
          false,
          false,
          false,
          false,
          false,
          false,
          false,
          false,
          false,
          false,
          false,
          false,
          false,
          false,
          false,
          false,
          false,
          false,
          false,
          false,
          false,
          false,
          false,
          false,
          false,
          false,
          false,
          false,
          false,
          false,
          false,
          false,
          false,
          false,
          false,
          false,
          false,
          false,
          false,
          false,
          false,
          false,
          false,
          false,
          false,
          false,
          false,
          false,
          false,
          false,
          false,
          false,
          false,
          false,
          false,
          false,
          false,
          false,
          false,
          false,
          false,
          false,
          false,
          false,
          false,
          false,
          false,
          false,
          false,
          false,
          false,
          false,
          false,
          false,
          false,
          false,
          false,
          false,
          false,
          false,
          false,
          false,
          false,
          false,
          false,
          false,
          false,
          false,
          false,
          false,
          false,
          false,
          false,
          false,
          false,
          false,
          false,
          false,
          false,
          false,
          false,
          false,
          false,
          false,
          false,
          false,
          false,
          false
         ],
         "y0": " ",
         "yaxis": "y"
        }
       ],
       "layout": {
        "boxmode": "group",
        "legend": {
         "tracegroupgap": 0
        },
        "template": {
         "data": {
          "bar": [
           {
            "error_x": {
             "color": "#2a3f5f"
            },
            "error_y": {
             "color": "#2a3f5f"
            },
            "marker": {
             "line": {
              "color": "#E5ECF6",
              "width": 0.5
             },
             "pattern": {
              "fillmode": "overlay",
              "size": 10,
              "solidity": 0.2
             }
            },
            "type": "bar"
           }
          ],
          "barpolar": [
           {
            "marker": {
             "line": {
              "color": "#E5ECF6",
              "width": 0.5
             },
             "pattern": {
              "fillmode": "overlay",
              "size": 10,
              "solidity": 0.2
             }
            },
            "type": "barpolar"
           }
          ],
          "carpet": [
           {
            "aaxis": {
             "endlinecolor": "#2a3f5f",
             "gridcolor": "white",
             "linecolor": "white",
             "minorgridcolor": "white",
             "startlinecolor": "#2a3f5f"
            },
            "baxis": {
             "endlinecolor": "#2a3f5f",
             "gridcolor": "white",
             "linecolor": "white",
             "minorgridcolor": "white",
             "startlinecolor": "#2a3f5f"
            },
            "type": "carpet"
           }
          ],
          "choropleth": [
           {
            "colorbar": {
             "outlinewidth": 0,
             "ticks": ""
            },
            "type": "choropleth"
           }
          ],
          "contour": [
           {
            "colorbar": {
             "outlinewidth": 0,
             "ticks": ""
            },
            "colorscale": [
             [
              0,
              "#0d0887"
             ],
             [
              0.1111111111111111,
              "#46039f"
             ],
             [
              0.2222222222222222,
              "#7201a8"
             ],
             [
              0.3333333333333333,
              "#9c179e"
             ],
             [
              0.4444444444444444,
              "#bd3786"
             ],
             [
              0.5555555555555556,
              "#d8576b"
             ],
             [
              0.6666666666666666,
              "#ed7953"
             ],
             [
              0.7777777777777778,
              "#fb9f3a"
             ],
             [
              0.8888888888888888,
              "#fdca26"
             ],
             [
              1,
              "#f0f921"
             ]
            ],
            "type": "contour"
           }
          ],
          "contourcarpet": [
           {
            "colorbar": {
             "outlinewidth": 0,
             "ticks": ""
            },
            "type": "contourcarpet"
           }
          ],
          "heatmap": [
           {
            "colorbar": {
             "outlinewidth": 0,
             "ticks": ""
            },
            "colorscale": [
             [
              0,
              "#0d0887"
             ],
             [
              0.1111111111111111,
              "#46039f"
             ],
             [
              0.2222222222222222,
              "#7201a8"
             ],
             [
              0.3333333333333333,
              "#9c179e"
             ],
             [
              0.4444444444444444,
              "#bd3786"
             ],
             [
              0.5555555555555556,
              "#d8576b"
             ],
             [
              0.6666666666666666,
              "#ed7953"
             ],
             [
              0.7777777777777778,
              "#fb9f3a"
             ],
             [
              0.8888888888888888,
              "#fdca26"
             ],
             [
              1,
              "#f0f921"
             ]
            ],
            "type": "heatmap"
           }
          ],
          "heatmapgl": [
           {
            "colorbar": {
             "outlinewidth": 0,
             "ticks": ""
            },
            "colorscale": [
             [
              0,
              "#0d0887"
             ],
             [
              0.1111111111111111,
              "#46039f"
             ],
             [
              0.2222222222222222,
              "#7201a8"
             ],
             [
              0.3333333333333333,
              "#9c179e"
             ],
             [
              0.4444444444444444,
              "#bd3786"
             ],
             [
              0.5555555555555556,
              "#d8576b"
             ],
             [
              0.6666666666666666,
              "#ed7953"
             ],
             [
              0.7777777777777778,
              "#fb9f3a"
             ],
             [
              0.8888888888888888,
              "#fdca26"
             ],
             [
              1,
              "#f0f921"
             ]
            ],
            "type": "heatmapgl"
           }
          ],
          "histogram": [
           {
            "marker": {
             "pattern": {
              "fillmode": "overlay",
              "size": 10,
              "solidity": 0.2
             }
            },
            "type": "histogram"
           }
          ],
          "histogram2d": [
           {
            "colorbar": {
             "outlinewidth": 0,
             "ticks": ""
            },
            "colorscale": [
             [
              0,
              "#0d0887"
             ],
             [
              0.1111111111111111,
              "#46039f"
             ],
             [
              0.2222222222222222,
              "#7201a8"
             ],
             [
              0.3333333333333333,
              "#9c179e"
             ],
             [
              0.4444444444444444,
              "#bd3786"
             ],
             [
              0.5555555555555556,
              "#d8576b"
             ],
             [
              0.6666666666666666,
              "#ed7953"
             ],
             [
              0.7777777777777778,
              "#fb9f3a"
             ],
             [
              0.8888888888888888,
              "#fdca26"
             ],
             [
              1,
              "#f0f921"
             ]
            ],
            "type": "histogram2d"
           }
          ],
          "histogram2dcontour": [
           {
            "colorbar": {
             "outlinewidth": 0,
             "ticks": ""
            },
            "colorscale": [
             [
              0,
              "#0d0887"
             ],
             [
              0.1111111111111111,
              "#46039f"
             ],
             [
              0.2222222222222222,
              "#7201a8"
             ],
             [
              0.3333333333333333,
              "#9c179e"
             ],
             [
              0.4444444444444444,
              "#bd3786"
             ],
             [
              0.5555555555555556,
              "#d8576b"
             ],
             [
              0.6666666666666666,
              "#ed7953"
             ],
             [
              0.7777777777777778,
              "#fb9f3a"
             ],
             [
              0.8888888888888888,
              "#fdca26"
             ],
             [
              1,
              "#f0f921"
             ]
            ],
            "type": "histogram2dcontour"
           }
          ],
          "mesh3d": [
           {
            "colorbar": {
             "outlinewidth": 0,
             "ticks": ""
            },
            "type": "mesh3d"
           }
          ],
          "parcoords": [
           {
            "line": {
             "colorbar": {
              "outlinewidth": 0,
              "ticks": ""
             }
            },
            "type": "parcoords"
           }
          ],
          "pie": [
           {
            "automargin": true,
            "type": "pie"
           }
          ],
          "scatter": [
           {
            "marker": {
             "colorbar": {
              "outlinewidth": 0,
              "ticks": ""
             }
            },
            "type": "scatter"
           }
          ],
          "scatter3d": [
           {
            "line": {
             "colorbar": {
              "outlinewidth": 0,
              "ticks": ""
             }
            },
            "marker": {
             "colorbar": {
              "outlinewidth": 0,
              "ticks": ""
             }
            },
            "type": "scatter3d"
           }
          ],
          "scattercarpet": [
           {
            "marker": {
             "colorbar": {
              "outlinewidth": 0,
              "ticks": ""
             }
            },
            "type": "scattercarpet"
           }
          ],
          "scattergeo": [
           {
            "marker": {
             "colorbar": {
              "outlinewidth": 0,
              "ticks": ""
             }
            },
            "type": "scattergeo"
           }
          ],
          "scattergl": [
           {
            "marker": {
             "colorbar": {
              "outlinewidth": 0,
              "ticks": ""
             }
            },
            "type": "scattergl"
           }
          ],
          "scattermapbox": [
           {
            "marker": {
             "colorbar": {
              "outlinewidth": 0,
              "ticks": ""
             }
            },
            "type": "scattermapbox"
           }
          ],
          "scatterpolar": [
           {
            "marker": {
             "colorbar": {
              "outlinewidth": 0,
              "ticks": ""
             }
            },
            "type": "scatterpolar"
           }
          ],
          "scatterpolargl": [
           {
            "marker": {
             "colorbar": {
              "outlinewidth": 0,
              "ticks": ""
             }
            },
            "type": "scatterpolargl"
           }
          ],
          "scatterternary": [
           {
            "marker": {
             "colorbar": {
              "outlinewidth": 0,
              "ticks": ""
             }
            },
            "type": "scatterternary"
           }
          ],
          "surface": [
           {
            "colorbar": {
             "outlinewidth": 0,
             "ticks": ""
            },
            "colorscale": [
             [
              0,
              "#0d0887"
             ],
             [
              0.1111111111111111,
              "#46039f"
             ],
             [
              0.2222222222222222,
              "#7201a8"
             ],
             [
              0.3333333333333333,
              "#9c179e"
             ],
             [
              0.4444444444444444,
              "#bd3786"
             ],
             [
              0.5555555555555556,
              "#d8576b"
             ],
             [
              0.6666666666666666,
              "#ed7953"
             ],
             [
              0.7777777777777778,
              "#fb9f3a"
             ],
             [
              0.8888888888888888,
              "#fdca26"
             ],
             [
              1,
              "#f0f921"
             ]
            ],
            "type": "surface"
           }
          ],
          "table": [
           {
            "cells": {
             "fill": {
              "color": "#EBF0F8"
             },
             "line": {
              "color": "white"
             }
            },
            "header": {
             "fill": {
              "color": "#C8D4E3"
             },
             "line": {
              "color": "white"
             }
            },
            "type": "table"
           }
          ]
         },
         "layout": {
          "annotationdefaults": {
           "arrowcolor": "#2a3f5f",
           "arrowhead": 0,
           "arrowwidth": 1
          },
          "autotypenumbers": "strict",
          "coloraxis": {
           "colorbar": {
            "outlinewidth": 0,
            "ticks": ""
           }
          },
          "colorscale": {
           "diverging": [
            [
             0,
             "#8e0152"
            ],
            [
             0.1,
             "#c51b7d"
            ],
            [
             0.2,
             "#de77ae"
            ],
            [
             0.3,
             "#f1b6da"
            ],
            [
             0.4,
             "#fde0ef"
            ],
            [
             0.5,
             "#f7f7f7"
            ],
            [
             0.6,
             "#e6f5d0"
            ],
            [
             0.7,
             "#b8e186"
            ],
            [
             0.8,
             "#7fbc41"
            ],
            [
             0.9,
             "#4d9221"
            ],
            [
             1,
             "#276419"
            ]
           ],
           "sequential": [
            [
             0,
             "#0d0887"
            ],
            [
             0.1111111111111111,
             "#46039f"
            ],
            [
             0.2222222222222222,
             "#7201a8"
            ],
            [
             0.3333333333333333,
             "#9c179e"
            ],
            [
             0.4444444444444444,
             "#bd3786"
            ],
            [
             0.5555555555555556,
             "#d8576b"
            ],
            [
             0.6666666666666666,
             "#ed7953"
            ],
            [
             0.7777777777777778,
             "#fb9f3a"
            ],
            [
             0.8888888888888888,
             "#fdca26"
            ],
            [
             1,
             "#f0f921"
            ]
           ],
           "sequentialminus": [
            [
             0,
             "#0d0887"
            ],
            [
             0.1111111111111111,
             "#46039f"
            ],
            [
             0.2222222222222222,
             "#7201a8"
            ],
            [
             0.3333333333333333,
             "#9c179e"
            ],
            [
             0.4444444444444444,
             "#bd3786"
            ],
            [
             0.5555555555555556,
             "#d8576b"
            ],
            [
             0.6666666666666666,
             "#ed7953"
            ],
            [
             0.7777777777777778,
             "#fb9f3a"
            ],
            [
             0.8888888888888888,
             "#fdca26"
            ],
            [
             1,
             "#f0f921"
            ]
           ]
          },
          "colorway": [
           "#636efa",
           "#EF553B",
           "#00cc96",
           "#ab63fa",
           "#FFA15A",
           "#19d3f3",
           "#FF6692",
           "#B6E880",
           "#FF97FF",
           "#FECB52"
          ],
          "font": {
           "color": "#2a3f5f"
          },
          "geo": {
           "bgcolor": "white",
           "lakecolor": "white",
           "landcolor": "#E5ECF6",
           "showlakes": true,
           "showland": true,
           "subunitcolor": "white"
          },
          "hoverlabel": {
           "align": "left"
          },
          "hovermode": "closest",
          "mapbox": {
           "style": "light"
          },
          "paper_bgcolor": "white",
          "plot_bgcolor": "#E5ECF6",
          "polar": {
           "angularaxis": {
            "gridcolor": "white",
            "linecolor": "white",
            "ticks": ""
           },
           "bgcolor": "#E5ECF6",
           "radialaxis": {
            "gridcolor": "white",
            "linecolor": "white",
            "ticks": ""
           }
          },
          "scene": {
           "xaxis": {
            "backgroundcolor": "#E5ECF6",
            "gridcolor": "white",
            "gridwidth": 2,
            "linecolor": "white",
            "showbackground": true,
            "ticks": "",
            "zerolinecolor": "white"
           },
           "yaxis": {
            "backgroundcolor": "#E5ECF6",
            "gridcolor": "white",
            "gridwidth": 2,
            "linecolor": "white",
            "showbackground": true,
            "ticks": "",
            "zerolinecolor": "white"
           },
           "zaxis": {
            "backgroundcolor": "#E5ECF6",
            "gridcolor": "white",
            "gridwidth": 2,
            "linecolor": "white",
            "showbackground": true,
            "ticks": "",
            "zerolinecolor": "white"
           }
          },
          "shapedefaults": {
           "line": {
            "color": "#2a3f5f"
           }
          },
          "ternary": {
           "aaxis": {
            "gridcolor": "white",
            "linecolor": "white",
            "ticks": ""
           },
           "baxis": {
            "gridcolor": "white",
            "linecolor": "white",
            "ticks": ""
           },
           "bgcolor": "#E5ECF6",
           "caxis": {
            "gridcolor": "white",
            "linecolor": "white",
            "ticks": ""
           }
          },
          "title": {
           "x": 0.05
          },
          "xaxis": {
           "automargin": true,
           "gridcolor": "white",
           "linecolor": "white",
           "ticks": "",
           "title": {
            "standoff": 15
           },
           "zerolinecolor": "white",
           "zerolinewidth": 2
          },
          "yaxis": {
           "automargin": true,
           "gridcolor": "white",
           "linecolor": "white",
           "ticks": "",
           "title": {
            "standoff": 15
           },
           "zerolinecolor": "white",
           "zerolinewidth": 2
          }
         }
        },
        "title": {
         "text": "boite à moustache des prix produits"
        },
        "xaxis": {
         "anchor": "y",
         "domain": [
          0,
          1
         ],
         "title": {
          "text": "price"
         }
        },
        "yaxis": {
         "anchor": "x",
         "domain": [
          0,
          1
         ],
         "title": {
          "text": "sold"
         }
        }
       }
      }
     },
     "metadata": {},
     "output_type": "display_data"
    }
   ],
   "source": [
    "\n",
    "# boxplot comparatif\n",
    "\n",
    "df = total_base\n",
    "fig = px.box(df, x=\"price\", y=\"sold\", points=\"all\", title=\"boite à moustache des prix produits\")\n",
    "fig.show()"
   ]
  },
  {
   "cell_type": "code",
   "execution_count": 34,
   "metadata": {},
   "outputs": [
    {
     "data": {
      "text/html": [
       "<div>\n",
       "<style scoped>\n",
       "    .dataframe tbody tr th:only-of-type {\n",
       "        vertical-align: middle;\n",
       "    }\n",
       "\n",
       "    .dataframe tbody tr th {\n",
       "        vertical-align: top;\n",
       "    }\n",
       "\n",
       "    .dataframe thead th {\n",
       "        text-align: right;\n",
       "    }\n",
       "</style>\n",
       "<table border=\"1\" class=\"dataframe\">\n",
       "  <thead>\n",
       "    <tr style=\"text-align: right;\">\n",
       "      <th></th>\n",
       "      <th>product_id</th>\n",
       "      <th>onsale_web</th>\n",
       "      <th>price</th>\n",
       "      <th>stock_quantity</th>\n",
       "      <th>id_web</th>\n",
       "      <th>total_sales</th>\n",
       "      <th>product_name</th>\n",
       "      <th>post_type</th>\n",
       "      <th>valeur_stock</th>\n",
       "      <th>chiffre_affaire</th>\n",
       "      <th>stockSupCA</th>\n",
       "      <th>sold</th>\n",
       "    </tr>\n",
       "  </thead>\n",
       "  <tbody>\n",
       "    <tr>\n",
       "      <th>241</th>\n",
       "      <td>4609</td>\n",
       "      <td>1</td>\n",
       "      <td>11.8</td>\n",
       "      <td>237</td>\n",
       "      <td>15145</td>\n",
       "      <td>0.0</td>\n",
       "      <td>francois-bergeret-hautes-cotes-de-beaune-rouge...</td>\n",
       "      <td>product</td>\n",
       "      <td>2796.6</td>\n",
       "      <td>0.0</td>\n",
       "      <td>True</td>\n",
       "      <td>False</td>\n",
       "    </tr>\n",
       "    <tr>\n",
       "      <th>334</th>\n",
       "      <td>4749</td>\n",
       "      <td>1</td>\n",
       "      <td>11.9</td>\n",
       "      <td>140</td>\n",
       "      <td>15315</td>\n",
       "      <td>0.0</td>\n",
       "      <td>domaine-de-montgilet-anjou-blanc-2016</td>\n",
       "      <td>product</td>\n",
       "      <td>1666.0</td>\n",
       "      <td>0.0</td>\n",
       "      <td>True</td>\n",
       "      <td>False</td>\n",
       "    </tr>\n",
       "    <tr>\n",
       "      <th>191</th>\n",
       "      <td>4304</td>\n",
       "      <td>1</td>\n",
       "      <td>8.1</td>\n",
       "      <td>133</td>\n",
       "      <td>15120</td>\n",
       "      <td>0.0</td>\n",
       "      <td>idylle-savoie-cruet-2018</td>\n",
       "      <td>product</td>\n",
       "      <td>1077.3</td>\n",
       "      <td>0.0</td>\n",
       "      <td>True</td>\n",
       "      <td>False</td>\n",
       "    </tr>\n",
       "    <tr>\n",
       "      <th>566</th>\n",
       "      <td>5777</td>\n",
       "      <td>1</td>\n",
       "      <td>5.7</td>\n",
       "      <td>132</td>\n",
       "      <td>14338</td>\n",
       "      <td>0.0</td>\n",
       "      <td>maurel-pays-d-oc-cabernet-sauvignon-2017</td>\n",
       "      <td>product</td>\n",
       "      <td>752.4</td>\n",
       "      <td>0.0</td>\n",
       "      <td>True</td>\n",
       "      <td>False</td>\n",
       "    </tr>\n",
       "    <tr>\n",
       "      <th>572</th>\n",
       "      <td>5797</td>\n",
       "      <td>1</td>\n",
       "      <td>17.2</td>\n",
       "      <td>123</td>\n",
       "      <td>15688</td>\n",
       "      <td>0.0</td>\n",
       "      <td>chateau-saransot-dupre-listrac-medoc-2016</td>\n",
       "      <td>product</td>\n",
       "      <td>2115.6</td>\n",
       "      <td>0.0</td>\n",
       "      <td>True</td>\n",
       "      <td>False</td>\n",
       "    </tr>\n",
       "    <tr>\n",
       "      <th>...</th>\n",
       "      <td>...</td>\n",
       "      <td>...</td>\n",
       "      <td>...</td>\n",
       "      <td>...</td>\n",
       "      <td>...</td>\n",
       "      <td>...</td>\n",
       "      <td>...</td>\n",
       "      <td>...</td>\n",
       "      <td>...</td>\n",
       "      <td>...</td>\n",
       "      <td>...</td>\n",
       "      <td>...</td>\n",
       "    </tr>\n",
       "    <tr>\n",
       "      <th>41</th>\n",
       "      <td>4079</td>\n",
       "      <td>1</td>\n",
       "      <td>37.0</td>\n",
       "      <td>0</td>\n",
       "      <td>13078</td>\n",
       "      <td>0.0</td>\n",
       "      <td>vieux-donjon-chateauneuf-2013</td>\n",
       "      <td>product</td>\n",
       "      <td>0.0</td>\n",
       "      <td>0.0</td>\n",
       "      <td>False</td>\n",
       "      <td>False</td>\n",
       "    </tr>\n",
       "    <tr>\n",
       "      <th>31</th>\n",
       "      <td>4069</td>\n",
       "      <td>1</td>\n",
       "      <td>60.0</td>\n",
       "      <td>0</td>\n",
       "      <td>11862</td>\n",
       "      <td>0.0</td>\n",
       "      <td>gilles-robin-hermitage-2012</td>\n",
       "      <td>product</td>\n",
       "      <td>0.0</td>\n",
       "      <td>0.0</td>\n",
       "      <td>False</td>\n",
       "      <td>False</td>\n",
       "    </tr>\n",
       "    <tr>\n",
       "      <th>5</th>\n",
       "      <td>4040</td>\n",
       "      <td>1</td>\n",
       "      <td>34.3</td>\n",
       "      <td>0</td>\n",
       "      <td>15303</td>\n",
       "      <td>0.0</td>\n",
       "      <td>pierre-jean-villa-saint-joseph-saut-ange-2018</td>\n",
       "      <td>product</td>\n",
       "      <td>0.0</td>\n",
       "      <td>0.0</td>\n",
       "      <td>False</td>\n",
       "      <td>False</td>\n",
       "    </tr>\n",
       "    <tr>\n",
       "      <th>505</th>\n",
       "      <td>5561</td>\n",
       "      <td>1</td>\n",
       "      <td>58.0</td>\n",
       "      <td>0</td>\n",
       "      <td>19820</td>\n",
       "      <td>0.0</td>\n",
       "      <td>tempier-bandol-migoua-2017</td>\n",
       "      <td>product</td>\n",
       "      <td>0.0</td>\n",
       "      <td>0.0</td>\n",
       "      <td>False</td>\n",
       "      <td>False</td>\n",
       "    </tr>\n",
       "    <tr>\n",
       "      <th>710</th>\n",
       "      <td>6886</td>\n",
       "      <td>1</td>\n",
       "      <td>42.0</td>\n",
       "      <td>0</td>\n",
       "      <td>14897</td>\n",
       "      <td>0.0</td>\n",
       "      <td>gratavinum-priorat-gv5-2011</td>\n",
       "      <td>product</td>\n",
       "      <td>0.0</td>\n",
       "      <td>0.0</td>\n",
       "      <td>False</td>\n",
       "      <td>False</td>\n",
       "    </tr>\n",
       "  </tbody>\n",
       "</table>\n",
       "<p>329 rows × 12 columns</p>\n",
       "</div>"
      ],
      "text/plain": [
       "     product_id  onsale_web  price  stock_quantity id_web  total_sales  \\\n",
       "241        4609           1   11.8             237  15145          0.0   \n",
       "334        4749           1   11.9             140  15315          0.0   \n",
       "191        4304           1    8.1             133  15120          0.0   \n",
       "566        5777           1    5.7             132  14338          0.0   \n",
       "572        5797           1   17.2             123  15688          0.0   \n",
       "..          ...         ...    ...             ...    ...          ...   \n",
       "41         4079           1   37.0               0  13078          0.0   \n",
       "31         4069           1   60.0               0  11862          0.0   \n",
       "5          4040           1   34.3               0  15303          0.0   \n",
       "505        5561           1   58.0               0  19820          0.0   \n",
       "710        6886           1   42.0               0  14897          0.0   \n",
       "\n",
       "                                          product_name post_type  \\\n",
       "241  francois-bergeret-hautes-cotes-de-beaune-rouge...   product   \n",
       "334              domaine-de-montgilet-anjou-blanc-2016   product   \n",
       "191                           idylle-savoie-cruet-2018   product   \n",
       "566           maurel-pays-d-oc-cabernet-sauvignon-2017   product   \n",
       "572          chateau-saransot-dupre-listrac-medoc-2016   product   \n",
       "..                                                 ...       ...   \n",
       "41                       vieux-donjon-chateauneuf-2013   product   \n",
       "31                         gilles-robin-hermitage-2012   product   \n",
       "5        pierre-jean-villa-saint-joseph-saut-ange-2018   product   \n",
       "505                         tempier-bandol-migoua-2017   product   \n",
       "710                        gratavinum-priorat-gv5-2011   product   \n",
       "\n",
       "     valeur_stock  chiffre_affaire  stockSupCA   sold  \n",
       "241        2796.6              0.0        True  False  \n",
       "334        1666.0              0.0        True  False  \n",
       "191        1077.3              0.0        True  False  \n",
       "566         752.4              0.0        True  False  \n",
       "572        2115.6              0.0        True  False  \n",
       "..            ...              ...         ...    ...  \n",
       "41            0.0              0.0       False  False  \n",
       "31            0.0              0.0       False  False  \n",
       "5             0.0              0.0       False  False  \n",
       "505           0.0              0.0       False  False  \n",
       "710           0.0              0.0       False  False  \n",
       "\n",
       "[329 rows x 12 columns]"
      ]
     },
     "execution_count": 34,
     "metadata": {},
     "output_type": "execute_result"
    }
   ],
   "source": [
    "invendus.sort_values(\"stock_quantity\", ascending=False)"
   ]
  },
  {
   "cell_type": "code",
   "execution_count": 35,
   "metadata": {},
   "outputs": [
    {
     "name": "stdout",
     "output_type": "stream",
     "text": [
      "nombre de produits en stock et invendus : 256\n"
     ]
    }
   ],
   "source": [
    "invendus_stock = invendus[invendus.stock_quantity != 0]\n",
    "print(f\"nombre de produits en stock et invendus : {invendus_stock.shape[0]}\")"
   ]
  },
  {
   "cell_type": "markdown",
   "metadata": {},
   "source": [
    "Les produits vendus ont un tarif moins élevé que les produits invendus, la répartition des prix des produits vendus, comme invendus est relativement similaire à la répartition totale des produits.\n",
    "\n",
    "Le tarif des produits joue donc un rôle mais n'est pas un facteur déterminant dans la décision d'achat.\n",
    "\n",
    "Après une recherche rapide sur google j'ai pu constater que le placement tarifaire des produits invendus est dans la moyenne de la concurrence.\n",
    "\n",
    "Il existe du stock pour une majorité (256/329) produits invendus, le stock n'est donc pas non plus un facteur déterminant dans les résultats de vente.\n",
    "\n",
    "Les résultats de vente positive ou non de chaque produit n'etant pas déterminés uniquement par le tarif ou par l'etat du stock, l'explication est aussi à chercher dans les gouts, habitudes et préférences de la clientèle.\n",
    "\n",
    "\n"
   ]
  },
  {
   "cell_type": "markdown",
   "metadata": {},
   "source": [
    "## 18 gestion des stocks<a class=\"anchor\" id=\"chapter18\"></a>\n",
    "\n"
   ]
  },
  {
   "cell_type": "code",
   "execution_count": 36,
   "metadata": {},
   "outputs": [
    {
     "name": "stdout",
     "output_type": "stream",
     "text": [
      "nous avons une valeur de stock de 387.84K€ pour un chiffre d'affaire de 70.57K€\n"
     ]
    }
   ],
   "source": [
    "# récupération de la valeur totale du stock\n",
    "valeur_totale_stock = total_base.valeur_stock.sum()\n",
    "print(f\"nous avons une valeur de stock de {round(valeur_totale_stock/1000,2)}K€ pour un chiffre d'affaire de {round(ca_total/1000,2)}K€\")"
   ]
  },
  {
   "cell_type": "code",
   "execution_count": 37,
   "metadata": {},
   "outputs": [
    {
     "data": {
      "application/vnd.plotly.v1+json": {
       "config": {
        "plotlyServerURL": "https://plot.ly"
       },
       "data": [
        {
         "name": "valeur théorique du stock",
         "opacity": 0.75,
         "type": "histogram",
         "x": [
          0,
          539,
          1408,
          424,
          39,
          253,
          0,
          0,
          3024,
          2606.2000000000003,
          708.8,
          0,
          0,
          0,
          9147.6,
          0,
          0,
          0,
          279.2,
          1781,
          531.2,
          258,
          2811.6,
          273,
          1913,
          1197,
          386.40000000000003,
          24.5,
          91.2,
          0,
          0,
          247.5,
          616,
          682,
          1352,
          501.40000000000003,
          1302,
          273,
          154,
          707.4,
          984,
          1298.6,
          0,
          296.40000000000003,
          2902.5,
          451.5,
          0,
          0,
          0,
          1350,
          1102,
          489,
          648,
          379.20000000000005,
          0,
          187.2,
          2414,
          951.9,
          24.4,
          34.8,
          159,
          874.5,
          0,
          58.3,
          0,
          230,
          1368,
          110.39999999999999,
          819,
          338,
          1060.8,
          910,
          217,
          217,
          266,
          950,
          362.59999999999997,
          1009.4000000000001,
          1179.5,
          97.80000000000001,
          138,
          1062.4,
          742,
          362.5,
          1441.3,
          720,
          208.6,
          947.2,
          1254.4,
          1482,
          1266,
          1752,
          0,
          240,
          605,
          0,
          657.5999999999999,
          0,
          0,
          2293.2,
          379.59999999999997,
          0,
          26.7,
          501.6,
          26.5,
          1073.5,
          104.8,
          974.3999999999999,
          0,
          259,
          1083.6000000000001,
          0,
          0,
          523.9,
          144.4,
          808.5,
          0,
          0,
          715,
          1363.1999999999998,
          1271.3999999999999,
          0,
          208.79999999999998,
          765.6,
          39.6,
          1857.6,
          837.8,
          1094.3999999999999,
          703,
          1729,
          779,
          0,
          43.5,
          9.8,
          0,
          354.2,
          875,
          0,
          164,
          557.6,
          20.35,
          976.8,
          4392.8,
          3726,
          731,
          408,
          1663.2,
          59.4,
          47.2,
          358.9,
          211.2,
          46,
          1438.2,
          0,
          1943.7,
          27.3,
          140.4,
          742.5,
          1566,
          382.5,
          1630.3,
          868.7,
          2428.8,
          157.2,
          624,
          0,
          493,
          434.2,
          132,
          231,
          594,
          590.4,
          54,
          2322.8999999999996,
          739.4999999999999,
          355.5,
          646.8000000000001,
          0,
          1976,
          799.5,
          180,
          765.4,
          0,
          157.5,
          145,
          174,
          0,
          1263.8,
          2697.6000000000004,
          912,
          0,
          333.6,
          0,
          756.1999999999999,
          752.4,
          2084.4,
          965,
          277.2,
          230.39999999999998,
          940.5,
          617.4,
          327.59999999999997,
          225.60000000000002,
          149,
          0,
          570,
          871.1999999999999,
          1261.4,
          1001,
          0,
          819.5999999999999,
          675,
          427.7,
          508.4,
          130.8,
          0,
          499.1,
          787.4,
          0,
          63.4,
          62.5,
          480.5,
          610,
          313.2,
          0,
          966.4,
          683.4000000000001,
          881.1,
          118.80000000000001,
          590,
          354,
          1003,
          0,
          748.8,
          744.6500000000001,
          56,
          498.59999999999997,
          236.6,
          0,
          353.59999999999997,
          452.50000000000006,
          105.4,
          245,
          858,
          155.39999999999998,
          615.6,
          635,
          0,
          239.4,
          2054.1,
          885.0999999999999,
          200,
          1197.6,
          297,
          441,
          179.3,
          766.1,
          218.70000000000002,
          0,
          484,
          74.8,
          553,
          1223.8,
          315.7,
          616,
          621,
          834.4,
          0,
          1265.3999999999999,
          660,
          145,
          1015,
          388.8,
          514.8000000000001,
          0,
          697.2,
          668.8,
          2549.7999999999997,
          483,
          902,
          1020.0999999999999,
          603,
          332.5,
          277.2,
          178.20000000000002,
          7.9,
          0,
          390,
          0,
          849.2,
          399,
          380,
          942.5000000000001,
          282.90000000000003,
          258.3,
          684,
          522,
          72,
          714,
          587.4,
          854.4000000000001,
          0,
          1278,
          0,
          223.6,
          535.8000000000001,
          285.59999999999997,
          1581,
          350.3,
          1306.5,
          66.8,
          737.9999999999999,
          0,
          194.4,
          896,
          530,
          1228.5,
          703.8,
          1395.8999999999999,
          215.60000000000002,
          1745.9999999999998,
          86.4,
          201.6,
          84,
          28,
          9.3,
          0,
          221.6,
          213.6,
          484.7,
          0,
          0,
          787.2,
          268.4,
          411.4,
          835.1999999999999,
          515.1999999999999,
          688.1999999999999,
          388.5,
          486.20000000000005,
          0,
          731,
          873.6,
          747.4,
          887.8000000000001,
          76,
          375.9,
          0,
          0,
          0,
          182.60000000000002,
          82.5,
          260.8,
          0,
          573.5,
          123.2,
          550.8000000000001,
          836,
          0,
          371.8,
          930.6,
          2023,
          0,
          164.39999999999998,
          455.6,
          76.80000000000001,
          332.8,
          214.2,
          0,
          0,
          438.7,
          417.29999999999995,
          384.8,
          181.79999999999998,
          0,
          881.1,
          1529.5,
          1153.2,
          229.99999999999997,
          382.2,
          62.300000000000004,
          1254.9,
          507,
          67.5,
          1670.5,
          226.60000000000002,
          500,
          0,
          198,
          84.5,
          29.4,
          1068,
          479.5,
          29.9,
          612.5,
          1497.6,
          138,
          2100,
          620.4,
          412.5,
          0,
          2210.2999999999997,
          525.3000000000001,
          115.19999999999999,
          0,
          0,
          0,
          0,
          356.8,
          1260.3999999999999,
          926.9,
          391.5,
          752.4,
          89.4,
          739.1999999999999,
          156,
          699.6,
          0,
          249.6,
          1122,
          0,
          0,
          590.4,
          26.8,
          1287,
          465.5,
          27,
          0,
          102,
          536.4,
          286.8,
          533.5,
          506.40000000000003,
          0,
          1629.6000000000001,
          2201.7999999999997,
          262.4,
          1708,
          41.8,
          0,
          0,
          1368,
          255.6,
          156.79999999999998,
          195.29999999999998,
          810,
          780,
          0,
          459,
          0,
          722,
          264,
          70.5,
          726,
          460,
          693,
          847,
          33.2,
          506.7,
          737.8,
          1348.5,
          1061.5,
          444.5,
          1206.5,
          288,
          1164,
          84.5,
          2280,
          0,
          0,
          523.6,
          378,
          558,
          1488,
          0,
          0,
          2115.6,
          523.2,
          50.5,
          150,
          414,
          1352.8,
          419.9,
          0,
          302.4,
          660,
          342.9,
          492.8,
          382.79999999999995,
          206.39999999999998,
          447,
          998.2,
          179.7,
          912,
          488,
          279,
          324,
          456,
          566.4000000000001,
          88.5,
          0,
          470,
          27.3,
          315.90000000000003,
          1506.6000000000001,
          0,
          173.5,
          467.5,
          408.59999999999997,
          0,
          0,
          413,
          434,
          220,
          0,
          114,
          643.5,
          346.5,
          0,
          0,
          1590,
          1239,
          1079,
          0,
          1077.3,
          0,
          703.8000000000001,
          494,
          46.4,
          869.4,
          17.6,
          471,
          85.5,
          604.8000000000001,
          79.2,
          473,
          129,
          924.6,
          0,
          651.6,
          1029,
          187.2,
          164,
          150,
          230.39999999999998,
          105.8,
          767.1999999999999,
          157.2,
          295,
          91.80000000000001,
          67.5,
          285,
          1493.3999999999999,
          2796.6000000000004,
          0,
          32.2,
          0,
          0,
          929.6000000000001,
          10.2,
          0,
          442,
          0,
          1100,
          1225,
          584.6,
          110.60000000000001,
          550.4,
          273.6,
          328.79999999999995,
          324.8,
          0,
          541.8000000000001,
          1099.1999999999998,
          793.8,
          855.8,
          0,
          682.5,
          658.8000000000001,
          490.50000000000006,
          0,
          0,
          0,
          0,
          973.5,
          790,
          117.6,
          0,
          0,
          0,
          894,
          28,
          504,
          249.6,
          239.2,
          290.70000000000005,
          0,
          0,
          675,
          1748,
          2622,
          609,
          1027.1999999999998,
          1128,
          1471.5,
          0,
          0,
          120,
          2346,
          585.5999999999999,
          499.20000000000005,
          245.99999999999997,
          0,
          250.8,
          432,
          288.59999999999997,
          133,
          130,
          59.9,
          0,
          1262.4,
          0,
          173.6,
          0,
          0,
          0,
          945.2,
          1050,
          1785,
          0,
          438.3,
          64.9,
          4350,
          2574,
          0,
          175.5,
          80.5,
          2332,
          1146.6,
          0,
          0,
          0,
          380,
          692.4000000000001,
          653.4,
          0,
          292.79999999999995,
          0,
          0,
          397.5,
          317.7,
          739.5,
          393.79999999999995,
          529,
          0,
          486,
          179.3,
          144,
          581.4000000000001,
          76.19999999999999,
          42.8,
          546,
          0,
          672,
          130.20000000000002,
          717.8000000000001,
          1171.8,
          1666,
          203,
          77.6,
          370,
          218.4,
          85.80000000000001,
          23.4,
          345.8,
          333,
          828.0999999999999,
          0,
          192,
          1083.6000000000001,
          488.4,
          894,
          941.7,
          374.5,
          693,
          89,
          525.5999999999999,
          534.6,
          0,
          0,
          506,
          0,
          0,
          552,
          305.8,
          726.8000000000001,
          0,
          448,
          699.3,
          137.39999999999998,
          2046,
          1476,
          147.5,
          0,
          1478.6999999999998,
          112.19999999999999,
          0,
          0,
          317.9,
          326.4,
          477.3,
          447.7,
          285,
          733.5
         ]
        },
        {
         "name": "chiffre d'affaire",
         "opacity": 0.75,
         "type": "histogram",
         "x": [
          4704,
          4263,
          2288,
          1590,
          1560,
          1391.5,
          1125,
          1044,
          1033.2,
          1029.2,
          1018.9,
          1009.6999999999999,
          1004.4,
          958.4,
          932.4,
          892.8000000000001,
          824.5,
          716,
          698,
          685,
          630.8000000000001,
          619.2,
          596.4,
          585,
          573.9000000000001,
          558.6,
          537.6,
          514.5,
          501.6,
          480,
          461.30000000000007,
          445.5,
          440,
          418,
          416,
          414.2,
          412.3,
          399,
          396,
          393,
          328,
          326.8,
          306.90000000000003,
          296.40000000000003,
          292.5,
          283.8,
          280,
          278.4,
          276,
          270,
          266.8,
          260.8,
          259.2,
          252.8,
          250,
          249.6,
          246.5,
          245.1,
          244,
          243.59999999999997,
          238.5,
          238.5,
          237.6,
          233.2,
          230,
          230,
          228,
          220.79999999999998,
          220.5,
          219.7,
          218.4,
          218.39999999999998,
          217,
          217,
          212.8,
          209,
          207.2,
          206,
          202.20000000000002,
          195.60000000000002,
          195.5,
          192,
          190.79999999999998,
          187.5,
          184.6,
          180,
          178.8,
          177.60000000000002,
          176.4,
          171,
          168.8,
          168,
          168,
          168,
          165,
          164.8,
          164.39999999999998,
          164.39999999999998,
          163.8,
          163.79999999999998,
          160.6,
          160.5,
          160.2,
          159.6,
          159,
          158.20000000000002,
          157.2,
          156.6,
          156,
          155.39999999999998,
          154.8,
          154.2,
          153,
          152.1,
          152,
          148.5,
          146.39999999999998,
          145.2,
          143,
          142,
          140.4,
          140.39999999999998,
          139.2,
          139.2,
          138.6,
          137.6,
          134.9,
          134.4,
          133,
          133,
          133,
          130.8,
          130.5,
          127.4,
          127,
          126.5,
          125,
          123.2,
          123,
          122.39999999999999,
          122.10000000000001,
          122.1,
          121.6,
          121.5,
          120.39999999999999,
          120,
          118.80000000000001,
          118.8,
          118,
          116.39999999999999,
          115.19999999999999,
          115,
          112.8,
          112.4,
          111.60000000000001,
          109.2,
          108,
          108,
          108,
          107.10000000000001,
          107.10000000000001,
          107.10000000000001,
          105.60000000000001,
          104.8,
          104,
          102.8,
          102,
          100.19999999999999,
          99,
          99,
          99,
          98.39999999999999,
          97.2,
          95.69999999999999,
          95.69999999999999,
          94.8,
          92.4,
          92,
          91.19999999999999,
          91,
          90,
          89,
          87.8,
          87.5,
          87,
          87,
          85.6,
          85.19999999999999,
          84.30000000000001,
          84,
          83.69999999999999,
          83.4,
          81.6,
          79.6,
          79.2,
          77.2,
          77.2,
          77,
          76.8,
          76,
          75.6,
          75.6,
          75.2,
          74.5,
          74.4,
          74.10000000000001,
          72.6,
          71.4,
          70,
          69.2,
          68.3,
          67.5,
          65.8,
          65.6,
          65.4,
          65.10000000000001,
          64.4,
          63.5,
          63.4,
          63.4,
          62.5,
          62,
          61,
          60.89999999999999,
          60.5,
          60.4,
          60.300000000000004,
          59.400000000000006,
          59.400000000000006,
          59,
          59,
          59,
          57.6,
          57.599999999999994,
          56.2,
          56,
          55.4,
          54.599999999999994,
          54.599999999999994,
          54.4,
          54.300000000000004,
          52.7,
          52.5,
          52,
          51.8,
          51.300000000000004,
          50.8,
          50.8,
          50.4,
          50.1,
          50.099999999999994,
          50,
          49.9,
          49.5,
          49,
          48.900000000000006,
          48.900000000000006,
          48.6,
          48.5,
          48.4,
          47.6,
          47.400000000000006,
          46.4,
          46.2,
          46.2,
          45,
          44.7,
          44.5,
          44.4,
          44,
          43.5,
          43.5,
          43.2,
          42.900000000000006,
          42.3,
          42,
          41.8,
          41.8,
          41.400000000000006,
          41,
          40.4,
          40.2,
          39.900000000000006,
          39.6,
          39.6,
          39.5,
          39.2,
          39,
          38.6,
          38.6,
          38,
          38,
          37.7,
          36.900000000000006,
          36.900000000000006,
          36,
          36,
          36,
          35.7,
          35.6,
          35.6,
          35.6,
          35.5,
          34.8,
          34.4,
          34.2,
          34,
          34,
          33.900000000000006,
          33.5,
          33.4,
          32.8,
          32.8,
          32.400000000000006,
          32,
          31.799999999999997,
          31.5,
          30.599999999999998,
          29.7,
          29.400000000000002,
          29.099999999999998,
          28.8,
          28.799999999999997,
          28,
          28,
          27.900000000000002,
          27.900000000000002,
          27.7,
          26.7,
          26.2,
          26,
          25,
          24.6,
          24.4,
          24.2,
          23.2,
          22.4,
          22.2,
          22.2,
          22.1,
          21.6,
          21.5,
          20.8,
          20.2,
          19.3,
          19,
          17.9,
          17.1,
          16.7,
          16.6,
          16.6,
          16.5,
          16.3,
          15.8,
          15.5,
          15.4,
          15.3,
          15.2,
          15.2,
          14.3,
          14.1,
          14,
          13.7,
          13.7,
          13.4,
          12.8,
          12.8,
          12.6,
          12.6,
          11.1,
          10.7,
          10.7,
          10.4,
          10.1,
          9.9,
          9.9,
          9.5,
          9.3,
          9.2,
          9.1,
          8.9,
          8.9,
          7.8,
          7.5,
          6.5,
          0,
          0,
          0,
          0,
          0,
          0,
          0,
          0,
          0,
          0,
          0,
          0,
          0,
          0,
          0,
          0,
          0,
          0,
          0,
          0,
          0,
          0,
          0,
          0,
          0,
          0,
          0,
          0,
          0,
          0,
          0,
          0,
          0,
          0,
          0,
          0,
          0,
          0,
          0,
          0,
          0,
          0,
          0,
          0,
          0,
          0,
          0,
          0,
          0,
          0,
          0,
          0,
          0,
          0,
          0,
          0,
          0,
          0,
          0,
          0,
          0,
          0,
          0,
          0,
          0,
          0,
          0,
          0,
          0,
          0,
          0,
          0,
          0,
          0,
          0,
          0,
          0,
          0,
          0,
          0,
          0,
          0,
          0,
          0,
          0,
          0,
          0,
          0,
          0,
          0,
          0,
          0,
          0,
          0,
          0,
          0,
          0,
          0,
          0,
          0,
          0,
          0,
          0,
          0,
          0,
          0,
          0,
          0,
          0,
          0,
          0,
          0,
          0,
          0,
          0,
          0,
          0,
          0,
          0,
          0,
          0,
          0,
          0,
          0,
          0,
          0,
          0,
          0,
          0,
          0,
          0,
          0,
          0,
          0,
          0,
          0,
          0,
          0,
          0,
          0,
          0,
          0,
          0,
          0,
          0,
          0,
          0,
          0,
          0,
          0,
          0,
          0,
          0,
          0,
          0,
          0,
          0,
          0,
          0,
          0,
          0,
          0,
          0,
          0,
          0,
          0,
          0,
          0,
          0,
          0,
          0,
          0,
          0,
          0,
          0,
          0,
          0,
          0,
          0,
          0,
          0,
          0,
          0,
          0,
          0,
          0,
          0,
          0,
          0,
          0,
          0,
          0,
          0,
          0,
          0,
          0,
          0,
          0,
          0,
          0,
          0,
          0,
          0,
          0,
          0,
          0,
          0,
          0,
          0,
          0,
          0,
          0,
          0,
          0,
          0,
          0,
          0,
          0,
          0,
          0,
          0,
          0,
          0,
          0,
          0,
          0,
          0,
          0,
          0,
          0,
          0,
          0,
          0,
          0,
          0,
          0,
          0,
          0,
          0,
          0,
          0,
          0,
          0,
          0,
          0,
          0,
          0,
          0,
          0,
          0,
          0,
          0,
          0,
          0,
          0,
          0,
          0,
          0,
          0,
          0,
          0,
          0,
          0,
          0,
          0,
          0,
          0,
          0,
          0,
          0,
          0,
          0,
          0,
          0,
          0,
          0,
          0,
          0,
          0,
          0,
          0,
          0,
          0,
          0,
          0,
          0,
          0,
          0,
          0,
          0,
          0,
          0,
          0,
          0,
          0,
          0,
          0,
          0,
          0,
          0,
          0,
          0,
          0,
          0,
          0,
          0,
          0,
          0,
          0,
          0,
          0,
          0,
          0,
          0,
          0,
          0,
          0,
          0,
          0,
          0,
          0,
          0,
          0,
          0,
          0,
          0,
          0,
          0,
          0
         ]
        }
       ],
       "layout": {
        "barmode": "overlay",
        "template": {
         "data": {
          "bar": [
           {
            "error_x": {
             "color": "#2a3f5f"
            },
            "error_y": {
             "color": "#2a3f5f"
            },
            "marker": {
             "line": {
              "color": "#E5ECF6",
              "width": 0.5
             },
             "pattern": {
              "fillmode": "overlay",
              "size": 10,
              "solidity": 0.2
             }
            },
            "type": "bar"
           }
          ],
          "barpolar": [
           {
            "marker": {
             "line": {
              "color": "#E5ECF6",
              "width": 0.5
             },
             "pattern": {
              "fillmode": "overlay",
              "size": 10,
              "solidity": 0.2
             }
            },
            "type": "barpolar"
           }
          ],
          "carpet": [
           {
            "aaxis": {
             "endlinecolor": "#2a3f5f",
             "gridcolor": "white",
             "linecolor": "white",
             "minorgridcolor": "white",
             "startlinecolor": "#2a3f5f"
            },
            "baxis": {
             "endlinecolor": "#2a3f5f",
             "gridcolor": "white",
             "linecolor": "white",
             "minorgridcolor": "white",
             "startlinecolor": "#2a3f5f"
            },
            "type": "carpet"
           }
          ],
          "choropleth": [
           {
            "colorbar": {
             "outlinewidth": 0,
             "ticks": ""
            },
            "type": "choropleth"
           }
          ],
          "contour": [
           {
            "colorbar": {
             "outlinewidth": 0,
             "ticks": ""
            },
            "colorscale": [
             [
              0,
              "#0d0887"
             ],
             [
              0.1111111111111111,
              "#46039f"
             ],
             [
              0.2222222222222222,
              "#7201a8"
             ],
             [
              0.3333333333333333,
              "#9c179e"
             ],
             [
              0.4444444444444444,
              "#bd3786"
             ],
             [
              0.5555555555555556,
              "#d8576b"
             ],
             [
              0.6666666666666666,
              "#ed7953"
             ],
             [
              0.7777777777777778,
              "#fb9f3a"
             ],
             [
              0.8888888888888888,
              "#fdca26"
             ],
             [
              1,
              "#f0f921"
             ]
            ],
            "type": "contour"
           }
          ],
          "contourcarpet": [
           {
            "colorbar": {
             "outlinewidth": 0,
             "ticks": ""
            },
            "type": "contourcarpet"
           }
          ],
          "heatmap": [
           {
            "colorbar": {
             "outlinewidth": 0,
             "ticks": ""
            },
            "colorscale": [
             [
              0,
              "#0d0887"
             ],
             [
              0.1111111111111111,
              "#46039f"
             ],
             [
              0.2222222222222222,
              "#7201a8"
             ],
             [
              0.3333333333333333,
              "#9c179e"
             ],
             [
              0.4444444444444444,
              "#bd3786"
             ],
             [
              0.5555555555555556,
              "#d8576b"
             ],
             [
              0.6666666666666666,
              "#ed7953"
             ],
             [
              0.7777777777777778,
              "#fb9f3a"
             ],
             [
              0.8888888888888888,
              "#fdca26"
             ],
             [
              1,
              "#f0f921"
             ]
            ],
            "type": "heatmap"
           }
          ],
          "heatmapgl": [
           {
            "colorbar": {
             "outlinewidth": 0,
             "ticks": ""
            },
            "colorscale": [
             [
              0,
              "#0d0887"
             ],
             [
              0.1111111111111111,
              "#46039f"
             ],
             [
              0.2222222222222222,
              "#7201a8"
             ],
             [
              0.3333333333333333,
              "#9c179e"
             ],
             [
              0.4444444444444444,
              "#bd3786"
             ],
             [
              0.5555555555555556,
              "#d8576b"
             ],
             [
              0.6666666666666666,
              "#ed7953"
             ],
             [
              0.7777777777777778,
              "#fb9f3a"
             ],
             [
              0.8888888888888888,
              "#fdca26"
             ],
             [
              1,
              "#f0f921"
             ]
            ],
            "type": "heatmapgl"
           }
          ],
          "histogram": [
           {
            "marker": {
             "pattern": {
              "fillmode": "overlay",
              "size": 10,
              "solidity": 0.2
             }
            },
            "type": "histogram"
           }
          ],
          "histogram2d": [
           {
            "colorbar": {
             "outlinewidth": 0,
             "ticks": ""
            },
            "colorscale": [
             [
              0,
              "#0d0887"
             ],
             [
              0.1111111111111111,
              "#46039f"
             ],
             [
              0.2222222222222222,
              "#7201a8"
             ],
             [
              0.3333333333333333,
              "#9c179e"
             ],
             [
              0.4444444444444444,
              "#bd3786"
             ],
             [
              0.5555555555555556,
              "#d8576b"
             ],
             [
              0.6666666666666666,
              "#ed7953"
             ],
             [
              0.7777777777777778,
              "#fb9f3a"
             ],
             [
              0.8888888888888888,
              "#fdca26"
             ],
             [
              1,
              "#f0f921"
             ]
            ],
            "type": "histogram2d"
           }
          ],
          "histogram2dcontour": [
           {
            "colorbar": {
             "outlinewidth": 0,
             "ticks": ""
            },
            "colorscale": [
             [
              0,
              "#0d0887"
             ],
             [
              0.1111111111111111,
              "#46039f"
             ],
             [
              0.2222222222222222,
              "#7201a8"
             ],
             [
              0.3333333333333333,
              "#9c179e"
             ],
             [
              0.4444444444444444,
              "#bd3786"
             ],
             [
              0.5555555555555556,
              "#d8576b"
             ],
             [
              0.6666666666666666,
              "#ed7953"
             ],
             [
              0.7777777777777778,
              "#fb9f3a"
             ],
             [
              0.8888888888888888,
              "#fdca26"
             ],
             [
              1,
              "#f0f921"
             ]
            ],
            "type": "histogram2dcontour"
           }
          ],
          "mesh3d": [
           {
            "colorbar": {
             "outlinewidth": 0,
             "ticks": ""
            },
            "type": "mesh3d"
           }
          ],
          "parcoords": [
           {
            "line": {
             "colorbar": {
              "outlinewidth": 0,
              "ticks": ""
             }
            },
            "type": "parcoords"
           }
          ],
          "pie": [
           {
            "automargin": true,
            "type": "pie"
           }
          ],
          "scatter": [
           {
            "marker": {
             "colorbar": {
              "outlinewidth": 0,
              "ticks": ""
             }
            },
            "type": "scatter"
           }
          ],
          "scatter3d": [
           {
            "line": {
             "colorbar": {
              "outlinewidth": 0,
              "ticks": ""
             }
            },
            "marker": {
             "colorbar": {
              "outlinewidth": 0,
              "ticks": ""
             }
            },
            "type": "scatter3d"
           }
          ],
          "scattercarpet": [
           {
            "marker": {
             "colorbar": {
              "outlinewidth": 0,
              "ticks": ""
             }
            },
            "type": "scattercarpet"
           }
          ],
          "scattergeo": [
           {
            "marker": {
             "colorbar": {
              "outlinewidth": 0,
              "ticks": ""
             }
            },
            "type": "scattergeo"
           }
          ],
          "scattergl": [
           {
            "marker": {
             "colorbar": {
              "outlinewidth": 0,
              "ticks": ""
             }
            },
            "type": "scattergl"
           }
          ],
          "scattermapbox": [
           {
            "marker": {
             "colorbar": {
              "outlinewidth": 0,
              "ticks": ""
             }
            },
            "type": "scattermapbox"
           }
          ],
          "scatterpolar": [
           {
            "marker": {
             "colorbar": {
              "outlinewidth": 0,
              "ticks": ""
             }
            },
            "type": "scatterpolar"
           }
          ],
          "scatterpolargl": [
           {
            "marker": {
             "colorbar": {
              "outlinewidth": 0,
              "ticks": ""
             }
            },
            "type": "scatterpolargl"
           }
          ],
          "scatterternary": [
           {
            "marker": {
             "colorbar": {
              "outlinewidth": 0,
              "ticks": ""
             }
            },
            "type": "scatterternary"
           }
          ],
          "surface": [
           {
            "colorbar": {
             "outlinewidth": 0,
             "ticks": ""
            },
            "colorscale": [
             [
              0,
              "#0d0887"
             ],
             [
              0.1111111111111111,
              "#46039f"
             ],
             [
              0.2222222222222222,
              "#7201a8"
             ],
             [
              0.3333333333333333,
              "#9c179e"
             ],
             [
              0.4444444444444444,
              "#bd3786"
             ],
             [
              0.5555555555555556,
              "#d8576b"
             ],
             [
              0.6666666666666666,
              "#ed7953"
             ],
             [
              0.7777777777777778,
              "#fb9f3a"
             ],
             [
              0.8888888888888888,
              "#fdca26"
             ],
             [
              1,
              "#f0f921"
             ]
            ],
            "type": "surface"
           }
          ],
          "table": [
           {
            "cells": {
             "fill": {
              "color": "#EBF0F8"
             },
             "line": {
              "color": "white"
             }
            },
            "header": {
             "fill": {
              "color": "#C8D4E3"
             },
             "line": {
              "color": "white"
             }
            },
            "type": "table"
           }
          ]
         },
         "layout": {
          "annotationdefaults": {
           "arrowcolor": "#2a3f5f",
           "arrowhead": 0,
           "arrowwidth": 1
          },
          "autotypenumbers": "strict",
          "coloraxis": {
           "colorbar": {
            "outlinewidth": 0,
            "ticks": ""
           }
          },
          "colorscale": {
           "diverging": [
            [
             0,
             "#8e0152"
            ],
            [
             0.1,
             "#c51b7d"
            ],
            [
             0.2,
             "#de77ae"
            ],
            [
             0.3,
             "#f1b6da"
            ],
            [
             0.4,
             "#fde0ef"
            ],
            [
             0.5,
             "#f7f7f7"
            ],
            [
             0.6,
             "#e6f5d0"
            ],
            [
             0.7,
             "#b8e186"
            ],
            [
             0.8,
             "#7fbc41"
            ],
            [
             0.9,
             "#4d9221"
            ],
            [
             1,
             "#276419"
            ]
           ],
           "sequential": [
            [
             0,
             "#0d0887"
            ],
            [
             0.1111111111111111,
             "#46039f"
            ],
            [
             0.2222222222222222,
             "#7201a8"
            ],
            [
             0.3333333333333333,
             "#9c179e"
            ],
            [
             0.4444444444444444,
             "#bd3786"
            ],
            [
             0.5555555555555556,
             "#d8576b"
            ],
            [
             0.6666666666666666,
             "#ed7953"
            ],
            [
             0.7777777777777778,
             "#fb9f3a"
            ],
            [
             0.8888888888888888,
             "#fdca26"
            ],
            [
             1,
             "#f0f921"
            ]
           ],
           "sequentialminus": [
            [
             0,
             "#0d0887"
            ],
            [
             0.1111111111111111,
             "#46039f"
            ],
            [
             0.2222222222222222,
             "#7201a8"
            ],
            [
             0.3333333333333333,
             "#9c179e"
            ],
            [
             0.4444444444444444,
             "#bd3786"
            ],
            [
             0.5555555555555556,
             "#d8576b"
            ],
            [
             0.6666666666666666,
             "#ed7953"
            ],
            [
             0.7777777777777778,
             "#fb9f3a"
            ],
            [
             0.8888888888888888,
             "#fdca26"
            ],
            [
             1,
             "#f0f921"
            ]
           ]
          },
          "colorway": [
           "#636efa",
           "#EF553B",
           "#00cc96",
           "#ab63fa",
           "#FFA15A",
           "#19d3f3",
           "#FF6692",
           "#B6E880",
           "#FF97FF",
           "#FECB52"
          ],
          "font": {
           "color": "#2a3f5f"
          },
          "geo": {
           "bgcolor": "white",
           "lakecolor": "white",
           "landcolor": "#E5ECF6",
           "showlakes": true,
           "showland": true,
           "subunitcolor": "white"
          },
          "hoverlabel": {
           "align": "left"
          },
          "hovermode": "closest",
          "mapbox": {
           "style": "light"
          },
          "paper_bgcolor": "white",
          "plot_bgcolor": "#E5ECF6",
          "polar": {
           "angularaxis": {
            "gridcolor": "white",
            "linecolor": "white",
            "ticks": ""
           },
           "bgcolor": "#E5ECF6",
           "radialaxis": {
            "gridcolor": "white",
            "linecolor": "white",
            "ticks": ""
           }
          },
          "scene": {
           "xaxis": {
            "backgroundcolor": "#E5ECF6",
            "gridcolor": "white",
            "gridwidth": 2,
            "linecolor": "white",
            "showbackground": true,
            "ticks": "",
            "zerolinecolor": "white"
           },
           "yaxis": {
            "backgroundcolor": "#E5ECF6",
            "gridcolor": "white",
            "gridwidth": 2,
            "linecolor": "white",
            "showbackground": true,
            "ticks": "",
            "zerolinecolor": "white"
           },
           "zaxis": {
            "backgroundcolor": "#E5ECF6",
            "gridcolor": "white",
            "gridwidth": 2,
            "linecolor": "white",
            "showbackground": true,
            "ticks": "",
            "zerolinecolor": "white"
           }
          },
          "shapedefaults": {
           "line": {
            "color": "#2a3f5f"
           }
          },
          "ternary": {
           "aaxis": {
            "gridcolor": "white",
            "linecolor": "white",
            "ticks": ""
           },
           "baxis": {
            "gridcolor": "white",
            "linecolor": "white",
            "ticks": ""
           },
           "bgcolor": "#E5ECF6",
           "caxis": {
            "gridcolor": "white",
            "linecolor": "white",
            "ticks": ""
           }
          },
          "title": {
           "x": 0.05
          },
          "xaxis": {
           "automargin": true,
           "gridcolor": "white",
           "linecolor": "white",
           "ticks": "",
           "title": {
            "standoff": 15
           },
           "zerolinecolor": "white",
           "zerolinewidth": 2
          },
          "yaxis": {
           "automargin": true,
           "gridcolor": "white",
           "linecolor": "white",
           "ticks": "",
           "title": {
            "standoff": 15
           },
           "zerolinecolor": "white",
           "zerolinewidth": 2
          }
         }
        }
       }
      }
     },
     "metadata": {},
     "output_type": "display_data"
    }
   ],
   "source": [
    "# répartition du stock et du CA/produit\n",
    "\n",
    "x0 = total_base.valeur_stock\n",
    "# Add 1 to shift the mean of the Gaussian distribution\n",
    "x1 = total_base.chiffre_affaire\n",
    "\n",
    "fig = go.Figure()\n",
    "fig.add_trace(go.Histogram(x=x0, name=\"valeur théorique du stock\"))\n",
    "fig.add_trace(go.Histogram(x=x1, name=\"chiffre d'affaire\"))\n",
    "\n",
    "# Overlay both histograms\n",
    "fig.update_layout(barmode='overlay')\n",
    "# Reduce opacity to see both histograms\n",
    "fig.update_traces(opacity=0.75)\n",
    "fig.show()\n"
   ]
  },
  {
   "cell_type": "code",
   "execution_count": 38,
   "metadata": {},
   "outputs": [
    {
     "name": "stdout",
     "output_type": "stream",
     "text": [
      "Nombre de produits dont le CA est supérieur au stock : 188\n"
     ]
    },
    {
     "data": {
      "text/html": [
       "<div>\n",
       "<style scoped>\n",
       "    .dataframe tbody tr th:only-of-type {\n",
       "        vertical-align: middle;\n",
       "    }\n",
       "\n",
       "    .dataframe tbody tr th {\n",
       "        vertical-align: top;\n",
       "    }\n",
       "\n",
       "    .dataframe thead th {\n",
       "        text-align: right;\n",
       "    }\n",
       "</style>\n",
       "<table border=\"1\" class=\"dataframe\">\n",
       "  <thead>\n",
       "    <tr style=\"text-align: right;\">\n",
       "      <th></th>\n",
       "      <th>product_id</th>\n",
       "      <th>onsale_web</th>\n",
       "      <th>price</th>\n",
       "      <th>stock_quantity</th>\n",
       "      <th>id_web</th>\n",
       "      <th>total_sales</th>\n",
       "      <th>product_name</th>\n",
       "      <th>post_type</th>\n",
       "      <th>valeur_stock</th>\n",
       "      <th>chiffre_affaire</th>\n",
       "      <th>stockSupCA</th>\n",
       "      <th>sold</th>\n",
       "    </tr>\n",
       "  </thead>\n",
       "  <tbody>\n",
       "    <tr>\n",
       "      <th>306</th>\n",
       "      <td>4706</td>\n",
       "      <td>1</td>\n",
       "      <td>16.8</td>\n",
       "      <td>23</td>\n",
       "      <td>15349</td>\n",
       "      <td>32.0</td>\n",
       "      <td>albert-mann-muscat-2018</td>\n",
       "      <td>product</td>\n",
       "      <td>386.4</td>\n",
       "      <td>537.6</td>\n",
       "      <td>False</td>\n",
       "      <td>True</td>\n",
       "    </tr>\n",
       "    <tr>\n",
       "      <th>90</th>\n",
       "      <td>4164</td>\n",
       "      <td>1</td>\n",
       "      <td>7.6</td>\n",
       "      <td>19</td>\n",
       "      <td>13453</td>\n",
       "      <td>20.0</td>\n",
       "      <td>pares-balta-penedes-mas-petit-2015</td>\n",
       "      <td>product</td>\n",
       "      <td>144.4</td>\n",
       "      <td>152.0</td>\n",
       "      <td>False</td>\n",
       "      <td>True</td>\n",
       "    </tr>\n",
       "    <tr>\n",
       "      <th>33</th>\n",
       "      <td>4071</td>\n",
       "      <td>1</td>\n",
       "      <td>33.2</td>\n",
       "      <td>16</td>\n",
       "      <td>15953</td>\n",
       "      <td>19.0</td>\n",
       "      <td>vaudieu-chateauneuf-2015</td>\n",
       "      <td>product</td>\n",
       "      <td>531.2</td>\n",
       "      <td>630.8</td>\n",
       "      <td>False</td>\n",
       "      <td>True</td>\n",
       "    </tr>\n",
       "    <tr>\n",
       "      <th>17</th>\n",
       "      <td>4053</td>\n",
       "      <td>1</td>\n",
       "      <td>44.3</td>\n",
       "      <td>16</td>\n",
       "      <td>13127</td>\n",
       "      <td>23.0</td>\n",
       "      <td>clos-du-mont-olivet-chateauneuf-du-pape-2012</td>\n",
       "      <td>product</td>\n",
       "      <td>708.8</td>\n",
       "      <td>1018.9</td>\n",
       "      <td>False</td>\n",
       "      <td>True</td>\n",
       "    </tr>\n",
       "    <tr>\n",
       "      <th>155</th>\n",
       "      <td>4250</td>\n",
       "      <td>1</td>\n",
       "      <td>19.5</td>\n",
       "      <td>14</td>\n",
       "      <td>16317</td>\n",
       "      <td>30.0</td>\n",
       "      <td>domaine-saint-denis-bourgogne-clos-coque-2018</td>\n",
       "      <td>product</td>\n",
       "      <td>273.0</td>\n",
       "      <td>585.0</td>\n",
       "      <td>False</td>\n",
       "      <td>True</td>\n",
       "    </tr>\n",
       "    <tr>\n",
       "      <th>...</th>\n",
       "      <td>...</td>\n",
       "      <td>...</td>\n",
       "      <td>...</td>\n",
       "      <td>...</td>\n",
       "      <td>...</td>\n",
       "      <td>...</td>\n",
       "      <td>...</td>\n",
       "      <td>...</td>\n",
       "      <td>...</td>\n",
       "      <td>...</td>\n",
       "      <td>...</td>\n",
       "      <td>...</td>\n",
       "    </tr>\n",
       "    <tr>\n",
       "      <th>387</th>\n",
       "      <td>4910</td>\n",
       "      <td>1</td>\n",
       "      <td>17.3</td>\n",
       "      <td>0</td>\n",
       "      <td>13809</td>\n",
       "      <td>4.0</td>\n",
       "      <td>antoine-marie-arena-vin-de-france-rouge-san-gi...</td>\n",
       "      <td>product</td>\n",
       "      <td>0.0</td>\n",
       "      <td>69.2</td>\n",
       "      <td>False</td>\n",
       "      <td>True</td>\n",
       "    </tr>\n",
       "    <tr>\n",
       "      <th>177</th>\n",
       "      <td>4277</td>\n",
       "      <td>1</td>\n",
       "      <td>24.8</td>\n",
       "      <td>0</td>\n",
       "      <td>14865</td>\n",
       "      <td>3.0</td>\n",
       "      <td>i-fabbri-chianti-classico-riserva-2015</td>\n",
       "      <td>product</td>\n",
       "      <td>0.0</td>\n",
       "      <td>74.4</td>\n",
       "      <td>False</td>\n",
       "      <td>True</td>\n",
       "    </tr>\n",
       "    <tr>\n",
       "      <th>667</th>\n",
       "      <td>6225</td>\n",
       "      <td>1</td>\n",
       "      <td>20.4</td>\n",
       "      <td>0</td>\n",
       "      <td>15162</td>\n",
       "      <td>4.0</td>\n",
       "      <td>le-pas-de-lescalette-herault-ze-cinsault-2017</td>\n",
       "      <td>product</td>\n",
       "      <td>0.0</td>\n",
       "      <td>81.6</td>\n",
       "      <td>False</td>\n",
       "      <td>True</td>\n",
       "    </tr>\n",
       "    <tr>\n",
       "      <th>377</th>\n",
       "      <td>4893</td>\n",
       "      <td>1</td>\n",
       "      <td>27.9</td>\n",
       "      <td>0</td>\n",
       "      <td>15808</td>\n",
       "      <td>3.0</td>\n",
       "      <td>jacqueson-rully-rouge-1er-cru-les-cloux-2018</td>\n",
       "      <td>product</td>\n",
       "      <td>0.0</td>\n",
       "      <td>83.7</td>\n",
       "      <td>False</td>\n",
       "      <td>True</td>\n",
       "    </tr>\n",
       "    <tr>\n",
       "      <th>357</th>\n",
       "      <td>4794</td>\n",
       "      <td>1</td>\n",
       "      <td>41.6</td>\n",
       "      <td>0</td>\n",
       "      <td>12771</td>\n",
       "      <td>0.0</td>\n",
       "      <td>maurice-schoech-riesling-grand-cru-rangen-de-t...</td>\n",
       "      <td>product</td>\n",
       "      <td>0.0</td>\n",
       "      <td>0.0</td>\n",
       "      <td>False</td>\n",
       "      <td>False</td>\n",
       "    </tr>\n",
       "  </tbody>\n",
       "</table>\n",
       "<p>188 rows × 12 columns</p>\n",
       "</div>"
      ],
      "text/plain": [
       "     product_id  onsale_web  price  stock_quantity id_web  total_sales  \\\n",
       "306        4706           1   16.8              23  15349         32.0   \n",
       "90         4164           1    7.6              19  13453         20.0   \n",
       "33         4071           1   33.2              16  15953         19.0   \n",
       "17         4053           1   44.3              16  13127         23.0   \n",
       "155        4250           1   19.5              14  16317         30.0   \n",
       "..          ...         ...    ...             ...    ...          ...   \n",
       "387        4910           1   17.3               0  13809          4.0   \n",
       "177        4277           1   24.8               0  14865          3.0   \n",
       "667        6225           1   20.4               0  15162          4.0   \n",
       "377        4893           1   27.9               0  15808          3.0   \n",
       "357        4794           1   41.6               0  12771          0.0   \n",
       "\n",
       "                                          product_name post_type  \\\n",
       "306                            albert-mann-muscat-2018   product   \n",
       "90                  pares-balta-penedes-mas-petit-2015   product   \n",
       "33                            vaudieu-chateauneuf-2015   product   \n",
       "17        clos-du-mont-olivet-chateauneuf-du-pape-2012   product   \n",
       "155      domaine-saint-denis-bourgogne-clos-coque-2018   product   \n",
       "..                                                 ...       ...   \n",
       "387  antoine-marie-arena-vin-de-france-rouge-san-gi...   product   \n",
       "177             i-fabbri-chianti-classico-riserva-2015   product   \n",
       "667      le-pas-de-lescalette-herault-ze-cinsault-2017   product   \n",
       "377       jacqueson-rully-rouge-1er-cru-les-cloux-2018   product   \n",
       "357  maurice-schoech-riesling-grand-cru-rangen-de-t...   product   \n",
       "\n",
       "     valeur_stock  chiffre_affaire  stockSupCA   sold  \n",
       "306         386.4            537.6       False   True  \n",
       "90          144.4            152.0       False   True  \n",
       "33          531.2            630.8       False   True  \n",
       "17          708.8           1018.9       False   True  \n",
       "155         273.0            585.0       False   True  \n",
       "..            ...              ...         ...    ...  \n",
       "387           0.0             69.2       False   True  \n",
       "177           0.0             74.4       False   True  \n",
       "667           0.0             81.6       False   True  \n",
       "377           0.0             83.7       False   True  \n",
       "357           0.0              0.0       False  False  \n",
       "\n",
       "[188 rows x 12 columns]"
      ]
     },
     "execution_count": 38,
     "metadata": {},
     "output_type": "execute_result"
    }
   ],
   "source": [
    "# combien de produits ont une valeur de stock moins élevée que leur CA?\n",
    "\n",
    "normalStock = total_base[total_base.stockSupCA == False]\n",
    "print(f\"Nombre de produits dont le CA est supérieur au stock : {normalStock.shape[0]}\")\n",
    "normalStock.sort_values(\"stock_quantity\", ascending=False)\n"
   ]
  },
  {
   "cell_type": "code",
   "execution_count": 39,
   "metadata": {},
   "outputs": [
    {
     "data": {
      "text/plain": [
       "47"
      ]
     },
     "execution_count": 39,
     "metadata": {},
     "output_type": "execute_result"
    }
   ],
   "source": [
    "# parmis ces produits, combien d'entre eux sont en stock?\n",
    "\n",
    "notNullNormalStock = normalStock[normalStock.valeur_stock > 0]\n",
    "notNullNormalStock.shape[0]"
   ]
  },
  {
   "cell_type": "code",
   "execution_count": 40,
   "metadata": {},
   "outputs": [
    {
     "name": "stdout",
     "output_type": "stream",
     "text": [
      "(526, 12)\n"
     ]
    },
    {
     "data": {
      "text/html": [
       "<div>\n",
       "<style scoped>\n",
       "    .dataframe tbody tr th:only-of-type {\n",
       "        vertical-align: middle;\n",
       "    }\n",
       "\n",
       "    .dataframe tbody tr th {\n",
       "        vertical-align: top;\n",
       "    }\n",
       "\n",
       "    .dataframe thead th {\n",
       "        text-align: right;\n",
       "    }\n",
       "</style>\n",
       "<table border=\"1\" class=\"dataframe\">\n",
       "  <thead>\n",
       "    <tr style=\"text-align: right;\">\n",
       "      <th></th>\n",
       "      <th>product_id</th>\n",
       "      <th>onsale_web</th>\n",
       "      <th>price</th>\n",
       "      <th>stock_quantity</th>\n",
       "      <th>id_web</th>\n",
       "      <th>total_sales</th>\n",
       "      <th>product_name</th>\n",
       "      <th>post_type</th>\n",
       "      <th>valeur_stock</th>\n",
       "      <th>chiffre_affaire</th>\n",
       "      <th>stockSupCA</th>\n",
       "      <th>sold</th>\n",
       "    </tr>\n",
       "  </thead>\n",
       "  <tbody>\n",
       "    <tr>\n",
       "      <th>657</th>\n",
       "      <td>6206</td>\n",
       "      <td>1</td>\n",
       "      <td>25.2</td>\n",
       "      <td>120</td>\n",
       "      <td>16580</td>\n",
       "      <td>41.0</td>\n",
       "      <td>domaine-giudicelli-patrimonio-blanc-2019</td>\n",
       "      <td>product</td>\n",
       "      <td>3024.0</td>\n",
       "      <td>1033.2</td>\n",
       "      <td>True</td>\n",
       "      <td>True</td>\n",
       "    </tr>\n",
       "    <tr>\n",
       "      <th>30</th>\n",
       "      <td>4068</td>\n",
       "      <td>1</td>\n",
       "      <td>16.6</td>\n",
       "      <td>157</td>\n",
       "      <td>16416</td>\n",
       "      <td>62.0</td>\n",
       "      <td>gilles-robin-crozes-hermitage-papillon-2019</td>\n",
       "      <td>product</td>\n",
       "      <td>2606.2</td>\n",
       "      <td>1029.2</td>\n",
       "      <td>True</td>\n",
       "      <td>True</td>\n",
       "    </tr>\n",
       "    <tr>\n",
       "      <th>658</th>\n",
       "      <td>6207</td>\n",
       "      <td>1</td>\n",
       "      <td>25.2</td>\n",
       "      <td>363</td>\n",
       "      <td>16077</td>\n",
       "      <td>37.0</td>\n",
       "      <td>domaine-giudicelli-patrimonio-rouge-2016</td>\n",
       "      <td>product</td>\n",
       "      <td>9147.6</td>\n",
       "      <td>932.4</td>\n",
       "      <td>True</td>\n",
       "      <td>True</td>\n",
       "    </tr>\n",
       "    <tr>\n",
       "      <th>383</th>\n",
       "      <td>4904</td>\n",
       "      <td>1</td>\n",
       "      <td>137.0</td>\n",
       "      <td>13</td>\n",
       "      <td>14220</td>\n",
       "      <td>5.0</td>\n",
       "      <td>domaine-des-croix-corton-charlemagne-grand-cru...</td>\n",
       "      <td>product</td>\n",
       "      <td>1781.0</td>\n",
       "      <td>685.0</td>\n",
       "      <td>True</td>\n",
       "      <td>True</td>\n",
       "    </tr>\n",
       "    <tr>\n",
       "      <th>9</th>\n",
       "      <td>4045</td>\n",
       "      <td>1</td>\n",
       "      <td>42.6</td>\n",
       "      <td>66</td>\n",
       "      <td>16041</td>\n",
       "      <td>14.0</td>\n",
       "      <td>pierre-gaillard-cote-rotie-2018</td>\n",
       "      <td>product</td>\n",
       "      <td>2811.6</td>\n",
       "      <td>596.4</td>\n",
       "      <td>True</td>\n",
       "      <td>True</td>\n",
       "    </tr>\n",
       "    <tr>\n",
       "      <th>...</th>\n",
       "      <td>...</td>\n",
       "      <td>...</td>\n",
       "      <td>...</td>\n",
       "      <td>...</td>\n",
       "      <td>...</td>\n",
       "      <td>...</td>\n",
       "      <td>...</td>\n",
       "      <td>...</td>\n",
       "      <td>...</td>\n",
       "      <td>...</td>\n",
       "      <td>...</td>\n",
       "      <td>...</td>\n",
       "    </tr>\n",
       "    <tr>\n",
       "      <th>354</th>\n",
       "      <td>4791</td>\n",
       "      <td>1</td>\n",
       "      <td>13.6</td>\n",
       "      <td>24</td>\n",
       "      <td>14599</td>\n",
       "      <td>0.0</td>\n",
       "      <td>maurice-schoech-pinot-noir-piece-de-chene-2016</td>\n",
       "      <td>product</td>\n",
       "      <td>326.4</td>\n",
       "      <td>0.0</td>\n",
       "      <td>True</td>\n",
       "      <td>False</td>\n",
       "    </tr>\n",
       "    <tr>\n",
       "      <th>353</th>\n",
       "      <td>4790</td>\n",
       "      <td>1</td>\n",
       "      <td>11.1</td>\n",
       "      <td>43</td>\n",
       "      <td>15732</td>\n",
       "      <td>0.0</td>\n",
       "      <td>maurice-schoech-riesling-2018</td>\n",
       "      <td>product</td>\n",
       "      <td>477.3</td>\n",
       "      <td>0.0</td>\n",
       "      <td>True</td>\n",
       "      <td>False</td>\n",
       "    </tr>\n",
       "    <tr>\n",
       "      <th>350</th>\n",
       "      <td>4786</td>\n",
       "      <td>1</td>\n",
       "      <td>12.1</td>\n",
       "      <td>37</td>\n",
       "      <td>15881</td>\n",
       "      <td>0.0</td>\n",
       "      <td>maurice-schoech-gewurztraminer-2018</td>\n",
       "      <td>product</td>\n",
       "      <td>447.7</td>\n",
       "      <td>0.0</td>\n",
       "      <td>True</td>\n",
       "      <td>False</td>\n",
       "    </tr>\n",
       "    <tr>\n",
       "      <th>348</th>\n",
       "      <td>4784</td>\n",
       "      <td>1</td>\n",
       "      <td>28.5</td>\n",
       "      <td>10</td>\n",
       "      <td>15734</td>\n",
       "      <td>0.0</td>\n",
       "      <td>maurice-schoech-riesling-vendanges-tardives-2017</td>\n",
       "      <td>product</td>\n",
       "      <td>285.0</td>\n",
       "      <td>0.0</td>\n",
       "      <td>True</td>\n",
       "      <td>False</td>\n",
       "    </tr>\n",
       "    <tr>\n",
       "      <th>719</th>\n",
       "      <td>7338</td>\n",
       "      <td>1</td>\n",
       "      <td>16.3</td>\n",
       "      <td>45</td>\n",
       "      <td>16230</td>\n",
       "      <td>0.0</td>\n",
       "      <td>domaine-saint-nicolas-fiefs-vendeens-blanc-les...</td>\n",
       "      <td>product</td>\n",
       "      <td>733.5</td>\n",
       "      <td>0.0</td>\n",
       "      <td>True</td>\n",
       "      <td>False</td>\n",
       "    </tr>\n",
       "  </tbody>\n",
       "</table>\n",
       "<p>526 rows × 12 columns</p>\n",
       "</div>"
      ],
      "text/plain": [
       "     product_id  onsale_web  price  stock_quantity id_web  total_sales  \\\n",
       "657        6206           1   25.2             120  16580         41.0   \n",
       "30         4068           1   16.6             157  16416         62.0   \n",
       "658        6207           1   25.2             363  16077         37.0   \n",
       "383        4904           1  137.0              13  14220          5.0   \n",
       "9          4045           1   42.6              66  16041         14.0   \n",
       "..          ...         ...    ...             ...    ...          ...   \n",
       "354        4791           1   13.6              24  14599          0.0   \n",
       "353        4790           1   11.1              43  15732          0.0   \n",
       "350        4786           1   12.1              37  15881          0.0   \n",
       "348        4784           1   28.5              10  15734          0.0   \n",
       "719        7338           1   16.3              45  16230          0.0   \n",
       "\n",
       "                                          product_name post_type  \\\n",
       "657           domaine-giudicelli-patrimonio-blanc-2019   product   \n",
       "30         gilles-robin-crozes-hermitage-papillon-2019   product   \n",
       "658           domaine-giudicelli-patrimonio-rouge-2016   product   \n",
       "383  domaine-des-croix-corton-charlemagne-grand-cru...   product   \n",
       "9                      pierre-gaillard-cote-rotie-2018   product   \n",
       "..                                                 ...       ...   \n",
       "354     maurice-schoech-pinot-noir-piece-de-chene-2016   product   \n",
       "353                      maurice-schoech-riesling-2018   product   \n",
       "350                maurice-schoech-gewurztraminer-2018   product   \n",
       "348   maurice-schoech-riesling-vendanges-tardives-2017   product   \n",
       "719  domaine-saint-nicolas-fiefs-vendeens-blanc-les...   product   \n",
       "\n",
       "     valeur_stock  chiffre_affaire  stockSupCA   sold  \n",
       "657        3024.0           1033.2        True   True  \n",
       "30         2606.2           1029.2        True   True  \n",
       "658        9147.6            932.4        True   True  \n",
       "383        1781.0            685.0        True   True  \n",
       "9          2811.6            596.4        True   True  \n",
       "..            ...              ...         ...    ...  \n",
       "354         326.4              0.0        True  False  \n",
       "353         477.3              0.0        True  False  \n",
       "350         447.7              0.0        True  False  \n",
       "348         285.0              0.0        True  False  \n",
       "719         733.5              0.0        True  False  \n",
       "\n",
       "[526 rows x 12 columns]"
      ]
     },
     "execution_count": 40,
     "metadata": {},
     "output_type": "execute_result"
    }
   ],
   "source": [
    "# récupération de la liste des produits dont la valeur du stock dépasse celle de leur CA\n",
    "overStock = total_base[total_base.stockSupCA == True]\n",
    "print(overStock.shape)\n",
    "overStock"
   ]
  },
  {
   "cell_type": "code",
   "execution_count": 41,
   "metadata": {},
   "outputs": [
    {
     "data": {
      "application/vnd.plotly.v1+json": {
       "config": {
        "plotlyServerURL": "https://plot.ly"
       },
       "data": [
        {
         "name": "valeur théorique du stock",
         "opacity": 0.75,
         "type": "histogram",
         "x": [
          3024,
          2606.2000000000003,
          9147.6,
          1781,
          2811.6,
          1913,
          1197,
          616,
          682,
          1352,
          501.40000000000003,
          1302,
          707.4,
          984,
          1298.6,
          2902.5,
          451.5,
          1350,
          1102,
          489,
          648,
          379.20000000000005,
          2414,
          951.9,
          874.5,
          1368,
          819,
          338,
          1060.8,
          910,
          266,
          950,
          362.59999999999997,
          1009.4000000000001,
          1179.5,
          1062.4,
          742,
          362.5,
          1441.3,
          720,
          208.6,
          947.2,
          1254.4,
          1482,
          1266,
          1752,
          240,
          605,
          657.5999999999999,
          2293.2,
          379.59999999999997,
          501.6,
          1073.5,
          974.3999999999999,
          259,
          1083.6000000000001,
          523.9,
          808.5,
          715,
          1363.1999999999998,
          1271.3999999999999,
          208.79999999999998,
          765.6,
          1857.6,
          837.8,
          1094.3999999999999,
          703,
          1729,
          779,
          354.2,
          875,
          164,
          557.6,
          976.8,
          4392.8,
          3726,
          731,
          408,
          1663.2,
          358.9,
          211.2,
          1438.2,
          1943.7,
          140.4,
          742.5,
          1566,
          382.5,
          1630.3,
          868.7,
          2428.8,
          157.2,
          624,
          493,
          434.2,
          132,
          231,
          594,
          590.4,
          2322.8999999999996,
          739.4999999999999,
          355.5,
          646.8000000000001,
          1976,
          799.5,
          180,
          765.4,
          157.5,
          145,
          174,
          1263.8,
          2697.6000000000004,
          912,
          333.6,
          756.1999999999999,
          752.4,
          2084.4,
          965,
          277.2,
          230.39999999999998,
          940.5,
          617.4,
          327.59999999999997,
          225.60000000000002,
          149,
          570,
          871.1999999999999,
          1261.4,
          1001,
          819.5999999999999,
          675,
          427.7,
          508.4,
          130.8,
          499.1,
          787.4,
          480.5,
          610,
          313.2,
          966.4,
          683.4000000000001,
          881.1,
          118.80000000000001,
          590,
          354,
          1003,
          748.8,
          744.6500000000001,
          498.59999999999997,
          236.6,
          353.59999999999997,
          452.50000000000006,
          105.4,
          245,
          858,
          155.39999999999998,
          615.6,
          635,
          239.4,
          2054.1,
          885.0999999999999,
          200,
          1197.6,
          297,
          441,
          179.3,
          766.1,
          218.70000000000002,
          484,
          74.8,
          553,
          1223.8,
          315.7,
          616,
          621,
          834.4,
          1265.3999999999999,
          660,
          145,
          1015,
          388.8,
          514.8000000000001,
          697.2,
          668.8,
          2549.7999999999997,
          483,
          902,
          1020.0999999999999,
          603,
          332.5,
          277.2,
          178.20000000000002,
          390,
          849.2,
          399,
          380,
          942.5000000000001,
          282.90000000000003,
          258.3,
          684,
          522,
          72,
          714,
          587.4,
          854.4000000000001,
          1278,
          223.6,
          535.8000000000001,
          285.59999999999997,
          1581,
          350.3,
          1306.5,
          66.8,
          737.9999999999999,
          194.4,
          896,
          530,
          1228.5,
          703.8,
          1395.8999999999999,
          215.60000000000002,
          1745.9999999999998,
          86.4,
          201.6,
          84,
          221.6,
          213.6,
          484.7,
          787.2,
          268.4,
          411.4,
          835.1999999999999,
          515.1999999999999,
          688.1999999999999,
          388.5,
          486.20000000000005,
          731,
          873.6,
          747.4,
          887.8000000000001,
          76,
          375.9,
          182.60000000000002,
          82.5,
          260.8,
          573.5,
          123.2,
          550.8000000000001,
          836,
          371.8,
          930.6,
          2023,
          164.39999999999998,
          455.6,
          76.80000000000001,
          332.8,
          214.2,
          438.7,
          417.29999999999995,
          384.8,
          181.79999999999998,
          881.1,
          1529.5,
          1153.2,
          229.99999999999997,
          382.2,
          62.300000000000004,
          1254.9,
          507,
          67.5,
          1670.5,
          226.60000000000002,
          500,
          198,
          84.5,
          29.4,
          1068,
          479.5,
          29.9,
          612.5,
          1497.6,
          138,
          2100,
          620.4,
          412.5,
          2210.2999999999997,
          525.3000000000001,
          115.19999999999999,
          356.8,
          1260.3999999999999,
          926.9,
          391.5,
          752.4,
          89.4,
          739.1999999999999,
          156,
          699.6,
          249.6,
          1122,
          590.4,
          26.8,
          1287,
          465.5,
          27,
          102,
          536.4,
          286.8,
          533.5,
          506.40000000000003,
          1629.6000000000001,
          2201.7999999999997,
          262.4,
          1708,
          41.8,
          1368,
          255.6,
          156.79999999999998,
          195.29999999999998,
          810,
          780,
          459,
          722,
          264,
          70.5,
          726,
          460,
          693,
          847,
          33.2,
          506.7,
          737.8,
          1348.5,
          1061.5,
          444.5,
          1206.5,
          288,
          1164,
          84.5,
          2280,
          523.6,
          378,
          558,
          1488,
          2115.6,
          523.2,
          50.5,
          150,
          414,
          1352.8,
          419.9,
          302.4,
          660,
          342.9,
          492.8,
          382.79999999999995,
          206.39999999999998,
          447,
          998.2,
          179.7,
          912,
          488,
          279,
          324,
          456,
          566.4000000000001,
          88.5,
          470,
          27.3,
          315.90000000000003,
          1506.6000000000001,
          173.5,
          467.5,
          408.59999999999997,
          413,
          434,
          220,
          114,
          643.5,
          346.5,
          1590,
          1239,
          1079,
          1077.3,
          703.8000000000001,
          494,
          46.4,
          869.4,
          17.6,
          471,
          85.5,
          604.8000000000001,
          79.2,
          473,
          129,
          924.6,
          651.6,
          1029,
          187.2,
          164,
          150,
          230.39999999999998,
          105.8,
          767.1999999999999,
          157.2,
          295,
          91.80000000000001,
          67.5,
          285,
          1493.3999999999999,
          2796.6000000000004,
          32.2,
          929.6000000000001,
          10.2,
          442,
          1100,
          1225,
          584.6,
          110.60000000000001,
          550.4,
          273.6,
          328.79999999999995,
          324.8,
          541.8000000000001,
          1099.1999999999998,
          793.8,
          855.8,
          682.5,
          658.8000000000001,
          490.50000000000006,
          973.5,
          790,
          117.6,
          894,
          28,
          504,
          249.6,
          239.2,
          290.70000000000005,
          675,
          1748,
          2622,
          609,
          1027.1999999999998,
          1128,
          1471.5,
          120,
          2346,
          585.5999999999999,
          499.20000000000005,
          245.99999999999997,
          250.8,
          432,
          288.59999999999997,
          133,
          130,
          59.9,
          1262.4,
          173.6,
          945.2,
          1050,
          1785,
          438.3,
          64.9,
          4350,
          2574,
          175.5,
          80.5,
          2332,
          1146.6,
          380,
          692.4000000000001,
          653.4,
          292.79999999999995,
          397.5,
          317.7,
          739.5,
          393.79999999999995,
          529,
          486,
          179.3,
          144,
          581.4000000000001,
          76.19999999999999,
          42.8,
          546,
          672,
          130.20000000000002,
          717.8000000000001,
          1171.8,
          1666,
          203,
          77.6,
          370,
          218.4,
          85.80000000000001,
          23.4,
          345.8,
          333,
          828.0999999999999,
          192,
          1083.6000000000001,
          488.4,
          894,
          941.7,
          374.5,
          693,
          89,
          525.5999999999999,
          534.6,
          506,
          552,
          305.8,
          726.8000000000001,
          448,
          699.3,
          137.39999999999998,
          2046,
          1476,
          147.5,
          1478.6999999999998,
          112.19999999999999,
          317.9,
          326.4,
          477.3,
          447.7,
          285,
          733.5
         ]
        },
        {
         "name": "chiffre d'affaire",
         "opacity": 0.75,
         "type": "histogram",
         "x": [
          1033.2,
          1029.2,
          932.4,
          685,
          596.4,
          573.9000000000001,
          558.6,
          440,
          418,
          416,
          414.2,
          412.3,
          393,
          328,
          326.8,
          292.5,
          283.8,
          270,
          266.8,
          260.8,
          259.2,
          252.8,
          246.5,
          245.1,
          238.5,
          228,
          220.5,
          219.7,
          218.4,
          218.39999999999998,
          212.8,
          209,
          207.2,
          206,
          202.20000000000002,
          192,
          190.79999999999998,
          187.5,
          184.6,
          180,
          178.8,
          177.60000000000002,
          176.4,
          171,
          168.8,
          168,
          168,
          165,
          164.39999999999998,
          163.79999999999998,
          160.6,
          159.6,
          158.20000000000002,
          156.6,
          155.39999999999998,
          154.8,
          152.1,
          148.5,
          143,
          142,
          140.4,
          139.2,
          139.2,
          137.6,
          134.9,
          134.4,
          133,
          133,
          133,
          126.5,
          125,
          123,
          122.39999999999999,
          122.1,
          121.6,
          121.5,
          120.39999999999999,
          120,
          118.80000000000001,
          116.39999999999999,
          115.19999999999999,
          112.8,
          111.60000000000001,
          108,
          108,
          108,
          107.10000000000001,
          107.10000000000001,
          107.10000000000001,
          105.60000000000001,
          104.8,
          104,
          102,
          100.19999999999999,
          99,
          99,
          99,
          98.39999999999999,
          95.69999999999999,
          95.69999999999999,
          94.8,
          92.4,
          91.19999999999999,
          91,
          90,
          89,
          87.5,
          87,
          87,
          85.19999999999999,
          84.30000000000001,
          84,
          83.4,
          79.6,
          79.2,
          77.2,
          77.2,
          77,
          76.8,
          76,
          75.6,
          75.6,
          75.2,
          74.5,
          74.10000000000001,
          72.6,
          71.4,
          70,
          68.3,
          67.5,
          65.8,
          65.6,
          65.4,
          64.4,
          63.5,
          62,
          61,
          60.89999999999999,
          60.4,
          60.300000000000004,
          59.400000000000006,
          59.400000000000006,
          59,
          59,
          59,
          57.599999999999994,
          56.2,
          55.4,
          54.599999999999994,
          54.4,
          54.300000000000004,
          52.7,
          52.5,
          52,
          51.8,
          51.300000000000004,
          50.8,
          50.4,
          50.1,
          50.099999999999994,
          50,
          49.9,
          49.5,
          49,
          48.900000000000006,
          48.900000000000006,
          48.6,
          48.4,
          47.6,
          47.400000000000006,
          46.4,
          46.2,
          46.2,
          45,
          44.7,
          44.4,
          44,
          43.5,
          43.5,
          43.2,
          42.900000000000006,
          42,
          41.8,
          41.8,
          41.400000000000006,
          41,
          40.4,
          40.2,
          39.900000000000006,
          39.6,
          39.6,
          39,
          38.6,
          38,
          38,
          37.7,
          36.900000000000006,
          36.900000000000006,
          36,
          36,
          36,
          35.7,
          35.6,
          35.6,
          35.5,
          34.4,
          34.2,
          34,
          34,
          33.900000000000006,
          33.5,
          33.4,
          32.8,
          32.400000000000006,
          32,
          31.799999999999997,
          31.5,
          30.599999999999998,
          29.7,
          29.400000000000002,
          29.099999999999998,
          28.8,
          28.799999999999997,
          28,
          27.7,
          26.7,
          26.2,
          24.6,
          24.4,
          24.2,
          23.2,
          22.4,
          22.2,
          22.2,
          22.1,
          21.5,
          20.8,
          20.2,
          19.3,
          19,
          17.9,
          16.6,
          16.5,
          16.3,
          15.5,
          15.4,
          15.3,
          15.2,
          14.3,
          14.1,
          14,
          13.7,
          13.4,
          12.8,
          12.8,
          12.6,
          10.7,
          10.7,
          10.4,
          10.1,
          9.9,
          9.5,
          9.3,
          9.2,
          9.1,
          8.9,
          8.9,
          7.8,
          7.5,
          6.5,
          0,
          0,
          0,
          0,
          0,
          0,
          0,
          0,
          0,
          0,
          0,
          0,
          0,
          0,
          0,
          0,
          0,
          0,
          0,
          0,
          0,
          0,
          0,
          0,
          0,
          0,
          0,
          0,
          0,
          0,
          0,
          0,
          0,
          0,
          0,
          0,
          0,
          0,
          0,
          0,
          0,
          0,
          0,
          0,
          0,
          0,
          0,
          0,
          0,
          0,
          0,
          0,
          0,
          0,
          0,
          0,
          0,
          0,
          0,
          0,
          0,
          0,
          0,
          0,
          0,
          0,
          0,
          0,
          0,
          0,
          0,
          0,
          0,
          0,
          0,
          0,
          0,
          0,
          0,
          0,
          0,
          0,
          0,
          0,
          0,
          0,
          0,
          0,
          0,
          0,
          0,
          0,
          0,
          0,
          0,
          0,
          0,
          0,
          0,
          0,
          0,
          0,
          0,
          0,
          0,
          0,
          0,
          0,
          0,
          0,
          0,
          0,
          0,
          0,
          0,
          0,
          0,
          0,
          0,
          0,
          0,
          0,
          0,
          0,
          0,
          0,
          0,
          0,
          0,
          0,
          0,
          0,
          0,
          0,
          0,
          0,
          0,
          0,
          0,
          0,
          0,
          0,
          0,
          0,
          0,
          0,
          0,
          0,
          0,
          0,
          0,
          0,
          0,
          0,
          0,
          0,
          0,
          0,
          0,
          0,
          0,
          0,
          0,
          0,
          0,
          0,
          0,
          0,
          0,
          0,
          0,
          0,
          0,
          0,
          0,
          0,
          0,
          0,
          0,
          0,
          0,
          0,
          0,
          0,
          0,
          0,
          0,
          0,
          0,
          0,
          0,
          0,
          0,
          0,
          0,
          0,
          0,
          0,
          0,
          0,
          0,
          0,
          0,
          0,
          0,
          0,
          0,
          0,
          0,
          0,
          0,
          0,
          0,
          0,
          0,
          0,
          0,
          0,
          0,
          0,
          0,
          0,
          0,
          0,
          0,
          0,
          0,
          0,
          0,
          0,
          0,
          0,
          0,
          0,
          0,
          0,
          0,
          0,
          0,
          0,
          0,
          0,
          0,
          0,
          0,
          0,
          0,
          0,
          0,
          0,
          0,
          0,
          0,
          0,
          0,
          0
         ]
        }
       ],
       "layout": {
        "barmode": "overlay",
        "template": {
         "data": {
          "bar": [
           {
            "error_x": {
             "color": "#2a3f5f"
            },
            "error_y": {
             "color": "#2a3f5f"
            },
            "marker": {
             "line": {
              "color": "#E5ECF6",
              "width": 0.5
             },
             "pattern": {
              "fillmode": "overlay",
              "size": 10,
              "solidity": 0.2
             }
            },
            "type": "bar"
           }
          ],
          "barpolar": [
           {
            "marker": {
             "line": {
              "color": "#E5ECF6",
              "width": 0.5
             },
             "pattern": {
              "fillmode": "overlay",
              "size": 10,
              "solidity": 0.2
             }
            },
            "type": "barpolar"
           }
          ],
          "carpet": [
           {
            "aaxis": {
             "endlinecolor": "#2a3f5f",
             "gridcolor": "white",
             "linecolor": "white",
             "minorgridcolor": "white",
             "startlinecolor": "#2a3f5f"
            },
            "baxis": {
             "endlinecolor": "#2a3f5f",
             "gridcolor": "white",
             "linecolor": "white",
             "minorgridcolor": "white",
             "startlinecolor": "#2a3f5f"
            },
            "type": "carpet"
           }
          ],
          "choropleth": [
           {
            "colorbar": {
             "outlinewidth": 0,
             "ticks": ""
            },
            "type": "choropleth"
           }
          ],
          "contour": [
           {
            "colorbar": {
             "outlinewidth": 0,
             "ticks": ""
            },
            "colorscale": [
             [
              0,
              "#0d0887"
             ],
             [
              0.1111111111111111,
              "#46039f"
             ],
             [
              0.2222222222222222,
              "#7201a8"
             ],
             [
              0.3333333333333333,
              "#9c179e"
             ],
             [
              0.4444444444444444,
              "#bd3786"
             ],
             [
              0.5555555555555556,
              "#d8576b"
             ],
             [
              0.6666666666666666,
              "#ed7953"
             ],
             [
              0.7777777777777778,
              "#fb9f3a"
             ],
             [
              0.8888888888888888,
              "#fdca26"
             ],
             [
              1,
              "#f0f921"
             ]
            ],
            "type": "contour"
           }
          ],
          "contourcarpet": [
           {
            "colorbar": {
             "outlinewidth": 0,
             "ticks": ""
            },
            "type": "contourcarpet"
           }
          ],
          "heatmap": [
           {
            "colorbar": {
             "outlinewidth": 0,
             "ticks": ""
            },
            "colorscale": [
             [
              0,
              "#0d0887"
             ],
             [
              0.1111111111111111,
              "#46039f"
             ],
             [
              0.2222222222222222,
              "#7201a8"
             ],
             [
              0.3333333333333333,
              "#9c179e"
             ],
             [
              0.4444444444444444,
              "#bd3786"
             ],
             [
              0.5555555555555556,
              "#d8576b"
             ],
             [
              0.6666666666666666,
              "#ed7953"
             ],
             [
              0.7777777777777778,
              "#fb9f3a"
             ],
             [
              0.8888888888888888,
              "#fdca26"
             ],
             [
              1,
              "#f0f921"
             ]
            ],
            "type": "heatmap"
           }
          ],
          "heatmapgl": [
           {
            "colorbar": {
             "outlinewidth": 0,
             "ticks": ""
            },
            "colorscale": [
             [
              0,
              "#0d0887"
             ],
             [
              0.1111111111111111,
              "#46039f"
             ],
             [
              0.2222222222222222,
              "#7201a8"
             ],
             [
              0.3333333333333333,
              "#9c179e"
             ],
             [
              0.4444444444444444,
              "#bd3786"
             ],
             [
              0.5555555555555556,
              "#d8576b"
             ],
             [
              0.6666666666666666,
              "#ed7953"
             ],
             [
              0.7777777777777778,
              "#fb9f3a"
             ],
             [
              0.8888888888888888,
              "#fdca26"
             ],
             [
              1,
              "#f0f921"
             ]
            ],
            "type": "heatmapgl"
           }
          ],
          "histogram": [
           {
            "marker": {
             "pattern": {
              "fillmode": "overlay",
              "size": 10,
              "solidity": 0.2
             }
            },
            "type": "histogram"
           }
          ],
          "histogram2d": [
           {
            "colorbar": {
             "outlinewidth": 0,
             "ticks": ""
            },
            "colorscale": [
             [
              0,
              "#0d0887"
             ],
             [
              0.1111111111111111,
              "#46039f"
             ],
             [
              0.2222222222222222,
              "#7201a8"
             ],
             [
              0.3333333333333333,
              "#9c179e"
             ],
             [
              0.4444444444444444,
              "#bd3786"
             ],
             [
              0.5555555555555556,
              "#d8576b"
             ],
             [
              0.6666666666666666,
              "#ed7953"
             ],
             [
              0.7777777777777778,
              "#fb9f3a"
             ],
             [
              0.8888888888888888,
              "#fdca26"
             ],
             [
              1,
              "#f0f921"
             ]
            ],
            "type": "histogram2d"
           }
          ],
          "histogram2dcontour": [
           {
            "colorbar": {
             "outlinewidth": 0,
             "ticks": ""
            },
            "colorscale": [
             [
              0,
              "#0d0887"
             ],
             [
              0.1111111111111111,
              "#46039f"
             ],
             [
              0.2222222222222222,
              "#7201a8"
             ],
             [
              0.3333333333333333,
              "#9c179e"
             ],
             [
              0.4444444444444444,
              "#bd3786"
             ],
             [
              0.5555555555555556,
              "#d8576b"
             ],
             [
              0.6666666666666666,
              "#ed7953"
             ],
             [
              0.7777777777777778,
              "#fb9f3a"
             ],
             [
              0.8888888888888888,
              "#fdca26"
             ],
             [
              1,
              "#f0f921"
             ]
            ],
            "type": "histogram2dcontour"
           }
          ],
          "mesh3d": [
           {
            "colorbar": {
             "outlinewidth": 0,
             "ticks": ""
            },
            "type": "mesh3d"
           }
          ],
          "parcoords": [
           {
            "line": {
             "colorbar": {
              "outlinewidth": 0,
              "ticks": ""
             }
            },
            "type": "parcoords"
           }
          ],
          "pie": [
           {
            "automargin": true,
            "type": "pie"
           }
          ],
          "scatter": [
           {
            "marker": {
             "colorbar": {
              "outlinewidth": 0,
              "ticks": ""
             }
            },
            "type": "scatter"
           }
          ],
          "scatter3d": [
           {
            "line": {
             "colorbar": {
              "outlinewidth": 0,
              "ticks": ""
             }
            },
            "marker": {
             "colorbar": {
              "outlinewidth": 0,
              "ticks": ""
             }
            },
            "type": "scatter3d"
           }
          ],
          "scattercarpet": [
           {
            "marker": {
             "colorbar": {
              "outlinewidth": 0,
              "ticks": ""
             }
            },
            "type": "scattercarpet"
           }
          ],
          "scattergeo": [
           {
            "marker": {
             "colorbar": {
              "outlinewidth": 0,
              "ticks": ""
             }
            },
            "type": "scattergeo"
           }
          ],
          "scattergl": [
           {
            "marker": {
             "colorbar": {
              "outlinewidth": 0,
              "ticks": ""
             }
            },
            "type": "scattergl"
           }
          ],
          "scattermapbox": [
           {
            "marker": {
             "colorbar": {
              "outlinewidth": 0,
              "ticks": ""
             }
            },
            "type": "scattermapbox"
           }
          ],
          "scatterpolar": [
           {
            "marker": {
             "colorbar": {
              "outlinewidth": 0,
              "ticks": ""
             }
            },
            "type": "scatterpolar"
           }
          ],
          "scatterpolargl": [
           {
            "marker": {
             "colorbar": {
              "outlinewidth": 0,
              "ticks": ""
             }
            },
            "type": "scatterpolargl"
           }
          ],
          "scatterternary": [
           {
            "marker": {
             "colorbar": {
              "outlinewidth": 0,
              "ticks": ""
             }
            },
            "type": "scatterternary"
           }
          ],
          "surface": [
           {
            "colorbar": {
             "outlinewidth": 0,
             "ticks": ""
            },
            "colorscale": [
             [
              0,
              "#0d0887"
             ],
             [
              0.1111111111111111,
              "#46039f"
             ],
             [
              0.2222222222222222,
              "#7201a8"
             ],
             [
              0.3333333333333333,
              "#9c179e"
             ],
             [
              0.4444444444444444,
              "#bd3786"
             ],
             [
              0.5555555555555556,
              "#d8576b"
             ],
             [
              0.6666666666666666,
              "#ed7953"
             ],
             [
              0.7777777777777778,
              "#fb9f3a"
             ],
             [
              0.8888888888888888,
              "#fdca26"
             ],
             [
              1,
              "#f0f921"
             ]
            ],
            "type": "surface"
           }
          ],
          "table": [
           {
            "cells": {
             "fill": {
              "color": "#EBF0F8"
             },
             "line": {
              "color": "white"
             }
            },
            "header": {
             "fill": {
              "color": "#C8D4E3"
             },
             "line": {
              "color": "white"
             }
            },
            "type": "table"
           }
          ]
         },
         "layout": {
          "annotationdefaults": {
           "arrowcolor": "#2a3f5f",
           "arrowhead": 0,
           "arrowwidth": 1
          },
          "autotypenumbers": "strict",
          "coloraxis": {
           "colorbar": {
            "outlinewidth": 0,
            "ticks": ""
           }
          },
          "colorscale": {
           "diverging": [
            [
             0,
             "#8e0152"
            ],
            [
             0.1,
             "#c51b7d"
            ],
            [
             0.2,
             "#de77ae"
            ],
            [
             0.3,
             "#f1b6da"
            ],
            [
             0.4,
             "#fde0ef"
            ],
            [
             0.5,
             "#f7f7f7"
            ],
            [
             0.6,
             "#e6f5d0"
            ],
            [
             0.7,
             "#b8e186"
            ],
            [
             0.8,
             "#7fbc41"
            ],
            [
             0.9,
             "#4d9221"
            ],
            [
             1,
             "#276419"
            ]
           ],
           "sequential": [
            [
             0,
             "#0d0887"
            ],
            [
             0.1111111111111111,
             "#46039f"
            ],
            [
             0.2222222222222222,
             "#7201a8"
            ],
            [
             0.3333333333333333,
             "#9c179e"
            ],
            [
             0.4444444444444444,
             "#bd3786"
            ],
            [
             0.5555555555555556,
             "#d8576b"
            ],
            [
             0.6666666666666666,
             "#ed7953"
            ],
            [
             0.7777777777777778,
             "#fb9f3a"
            ],
            [
             0.8888888888888888,
             "#fdca26"
            ],
            [
             1,
             "#f0f921"
            ]
           ],
           "sequentialminus": [
            [
             0,
             "#0d0887"
            ],
            [
             0.1111111111111111,
             "#46039f"
            ],
            [
             0.2222222222222222,
             "#7201a8"
            ],
            [
             0.3333333333333333,
             "#9c179e"
            ],
            [
             0.4444444444444444,
             "#bd3786"
            ],
            [
             0.5555555555555556,
             "#d8576b"
            ],
            [
             0.6666666666666666,
             "#ed7953"
            ],
            [
             0.7777777777777778,
             "#fb9f3a"
            ],
            [
             0.8888888888888888,
             "#fdca26"
            ],
            [
             1,
             "#f0f921"
            ]
           ]
          },
          "colorway": [
           "#636efa",
           "#EF553B",
           "#00cc96",
           "#ab63fa",
           "#FFA15A",
           "#19d3f3",
           "#FF6692",
           "#B6E880",
           "#FF97FF",
           "#FECB52"
          ],
          "font": {
           "color": "#2a3f5f"
          },
          "geo": {
           "bgcolor": "white",
           "lakecolor": "white",
           "landcolor": "#E5ECF6",
           "showlakes": true,
           "showland": true,
           "subunitcolor": "white"
          },
          "hoverlabel": {
           "align": "left"
          },
          "hovermode": "closest",
          "mapbox": {
           "style": "light"
          },
          "paper_bgcolor": "white",
          "plot_bgcolor": "#E5ECF6",
          "polar": {
           "angularaxis": {
            "gridcolor": "white",
            "linecolor": "white",
            "ticks": ""
           },
           "bgcolor": "#E5ECF6",
           "radialaxis": {
            "gridcolor": "white",
            "linecolor": "white",
            "ticks": ""
           }
          },
          "scene": {
           "xaxis": {
            "backgroundcolor": "#E5ECF6",
            "gridcolor": "white",
            "gridwidth": 2,
            "linecolor": "white",
            "showbackground": true,
            "ticks": "",
            "zerolinecolor": "white"
           },
           "yaxis": {
            "backgroundcolor": "#E5ECF6",
            "gridcolor": "white",
            "gridwidth": 2,
            "linecolor": "white",
            "showbackground": true,
            "ticks": "",
            "zerolinecolor": "white"
           },
           "zaxis": {
            "backgroundcolor": "#E5ECF6",
            "gridcolor": "white",
            "gridwidth": 2,
            "linecolor": "white",
            "showbackground": true,
            "ticks": "",
            "zerolinecolor": "white"
           }
          },
          "shapedefaults": {
           "line": {
            "color": "#2a3f5f"
           }
          },
          "ternary": {
           "aaxis": {
            "gridcolor": "white",
            "linecolor": "white",
            "ticks": ""
           },
           "baxis": {
            "gridcolor": "white",
            "linecolor": "white",
            "ticks": ""
           },
           "bgcolor": "#E5ECF6",
           "caxis": {
            "gridcolor": "white",
            "linecolor": "white",
            "ticks": ""
           }
          },
          "title": {
           "x": 0.05
          },
          "xaxis": {
           "automargin": true,
           "gridcolor": "white",
           "linecolor": "white",
           "ticks": "",
           "title": {
            "standoff": 15
           },
           "zerolinecolor": "white",
           "zerolinewidth": 2
          },
          "yaxis": {
           "automargin": true,
           "gridcolor": "white",
           "linecolor": "white",
           "ticks": "",
           "title": {
            "standoff": 15
           },
           "zerolinecolor": "white",
           "zerolinewidth": 2
          }
         }
        }
       }
      }
     },
     "metadata": {},
     "output_type": "display_data"
    }
   ],
   "source": [
    "x0 = overStock.valeur_stock\n",
    "# Add 1 to shift the mean of the Gaussian distribution\n",
    "x1 = overStock.chiffre_affaire\n",
    "\n",
    "fig = go.Figure()\n",
    "fig.add_trace(go.Histogram(x=x0, name=\"valeur théorique du stock\"))\n",
    "fig.add_trace(go.Histogram(x=x1, name=\"chiffre d'affaire\"))\n",
    "\n",
    "# Overlay both histograms\n",
    "fig.update_layout(barmode='overlay')\n",
    "# Reduce opacity to see both histograms\n",
    "fig.update_traces(opacity=0.75)\n",
    "fig.show()"
   ]
  },
  {
   "cell_type": "code",
   "execution_count": 42,
   "metadata": {},
   "outputs": [
    {
     "name": "stdout",
     "output_type": "stream",
     "text": [
      "(270, 12)\n"
     ]
    },
    {
     "data": {
      "text/html": [
       "<div>\n",
       "<style scoped>\n",
       "    .dataframe tbody tr th:only-of-type {\n",
       "        vertical-align: middle;\n",
       "    }\n",
       "\n",
       "    .dataframe tbody tr th {\n",
       "        vertical-align: top;\n",
       "    }\n",
       "\n",
       "    .dataframe thead th {\n",
       "        text-align: right;\n",
       "    }\n",
       "</style>\n",
       "<table border=\"1\" class=\"dataframe\">\n",
       "  <thead>\n",
       "    <tr style=\"text-align: right;\">\n",
       "      <th></th>\n",
       "      <th>product_id</th>\n",
       "      <th>onsale_web</th>\n",
       "      <th>price</th>\n",
       "      <th>stock_quantity</th>\n",
       "      <th>id_web</th>\n",
       "      <th>total_sales</th>\n",
       "      <th>product_name</th>\n",
       "      <th>post_type</th>\n",
       "      <th>valeur_stock</th>\n",
       "      <th>chiffre_affaire</th>\n",
       "      <th>stockSupCA</th>\n",
       "      <th>sold</th>\n",
       "    </tr>\n",
       "  </thead>\n",
       "  <tbody>\n",
       "    <tr>\n",
       "      <th>658</th>\n",
       "      <td>6207</td>\n",
       "      <td>1</td>\n",
       "      <td>25.2</td>\n",
       "      <td>363</td>\n",
       "      <td>16077</td>\n",
       "      <td>37.0</td>\n",
       "      <td>domaine-giudicelli-patrimonio-rouge-2016</td>\n",
       "      <td>product</td>\n",
       "      <td>9147.6</td>\n",
       "      <td>932.4</td>\n",
       "      <td>True</td>\n",
       "      <td>True</td>\n",
       "    </tr>\n",
       "    <tr>\n",
       "      <th>126</th>\n",
       "      <td>4208</td>\n",
       "      <td>1</td>\n",
       "      <td>7.6</td>\n",
       "      <td>578</td>\n",
       "      <td>16024</td>\n",
       "      <td>16.0</td>\n",
       "      <td>domaine-montrose-cotes-de-thongue-rose-2019</td>\n",
       "      <td>product</td>\n",
       "      <td>4392.8</td>\n",
       "      <td>121.6</td>\n",
       "      <td>True</td>\n",
       "      <td>True</td>\n",
       "    </tr>\n",
       "    <tr>\n",
       "      <th>100</th>\n",
       "      <td>4176</td>\n",
       "      <td>1</td>\n",
       "      <td>13.5</td>\n",
       "      <td>276</td>\n",
       "      <td>15629</td>\n",
       "      <td>9.0</td>\n",
       "      <td>hortus-pic-saint-loup-la-bergerie-2018</td>\n",
       "      <td>product</td>\n",
       "      <td>3726.0</td>\n",
       "      <td>121.5</td>\n",
       "      <td>True</td>\n",
       "      <td>True</td>\n",
       "    </tr>\n",
       "    <tr>\n",
       "      <th>657</th>\n",
       "      <td>6206</td>\n",
       "      <td>1</td>\n",
       "      <td>25.2</td>\n",
       "      <td>120</td>\n",
       "      <td>16580</td>\n",
       "      <td>41.0</td>\n",
       "      <td>domaine-giudicelli-patrimonio-blanc-2019</td>\n",
       "      <td>product</td>\n",
       "      <td>3024.0</td>\n",
       "      <td>1033.2</td>\n",
       "      <td>True</td>\n",
       "      <td>True</td>\n",
       "    </tr>\n",
       "    <tr>\n",
       "      <th>442</th>\n",
       "      <td>5047</td>\n",
       "      <td>1</td>\n",
       "      <td>22.5</td>\n",
       "      <td>129</td>\n",
       "      <td>531</td>\n",
       "      <td>13.0</td>\n",
       "      <td>champagne-petit-lebrun-fils-blanc-de-blancs-gr...</td>\n",
       "      <td>product</td>\n",
       "      <td>2902.5</td>\n",
       "      <td>292.5</td>\n",
       "      <td>True</td>\n",
       "      <td>True</td>\n",
       "    </tr>\n",
       "    <tr>\n",
       "      <th>...</th>\n",
       "      <td>...</td>\n",
       "      <td>...</td>\n",
       "      <td>...</td>\n",
       "      <td>...</td>\n",
       "      <td>...</td>\n",
       "      <td>...</td>\n",
       "      <td>...</td>\n",
       "      <td>...</td>\n",
       "      <td>...</td>\n",
       "      <td>...</td>\n",
       "      <td>...</td>\n",
       "      <td>...</td>\n",
       "    </tr>\n",
       "    <tr>\n",
       "      <th>342</th>\n",
       "      <td>4776</td>\n",
       "      <td>1</td>\n",
       "      <td>6.8</td>\n",
       "      <td>11</td>\n",
       "      <td>14302</td>\n",
       "      <td>7.0</td>\n",
       "      <td>chateau-de-la-liquiere-pays-dherault-blanc-a-m...</td>\n",
       "      <td>product</td>\n",
       "      <td>74.8</td>\n",
       "      <td>47.6</td>\n",
       "      <td>True</td>\n",
       "      <td>True</td>\n",
       "    </tr>\n",
       "    <tr>\n",
       "      <th>607</th>\n",
       "      <td>5914</td>\n",
       "      <td>1</td>\n",
       "      <td>36.0</td>\n",
       "      <td>2</td>\n",
       "      <td>14265</td>\n",
       "      <td>1.0</td>\n",
       "      <td>darnleys-london-dry-gin-spiced</td>\n",
       "      <td>product</td>\n",
       "      <td>72.0</td>\n",
       "      <td>36.0</td>\n",
       "      <td>True</td>\n",
       "      <td>True</td>\n",
       "    </tr>\n",
       "    <tr>\n",
       "      <th>443</th>\n",
       "      <td>5056</td>\n",
       "      <td>1</td>\n",
       "      <td>7.5</td>\n",
       "      <td>9</td>\n",
       "      <td>13531</td>\n",
       "      <td>1.0</td>\n",
       "      <td>domaine-de-montgilet-anjou-rouge-2016-2</td>\n",
       "      <td>product</td>\n",
       "      <td>67.5</td>\n",
       "      <td>7.5</td>\n",
       "      <td>True</td>\n",
       "      <td>True</td>\n",
       "    </tr>\n",
       "    <tr>\n",
       "      <th>401</th>\n",
       "      <td>4929</td>\n",
       "      <td>1</td>\n",
       "      <td>16.7</td>\n",
       "      <td>4</td>\n",
       "      <td>15927</td>\n",
       "      <td>2.0</td>\n",
       "      <td>domaine-la-croix-belle-cotes-de-thongue-rouge-...</td>\n",
       "      <td>product</td>\n",
       "      <td>66.8</td>\n",
       "      <td>33.4</td>\n",
       "      <td>True</td>\n",
       "      <td>True</td>\n",
       "    </tr>\n",
       "    <tr>\n",
       "      <th>149</th>\n",
       "      <td>4241</td>\n",
       "      <td>1</td>\n",
       "      <td>8.9</td>\n",
       "      <td>7</td>\n",
       "      <td>14725</td>\n",
       "      <td>1.0</td>\n",
       "      <td>parce-freres-hommage-fernand-blanc-2019</td>\n",
       "      <td>product</td>\n",
       "      <td>62.3</td>\n",
       "      <td>8.9</td>\n",
       "      <td>True</td>\n",
       "      <td>True</td>\n",
       "    </tr>\n",
       "  </tbody>\n",
       "</table>\n",
       "<p>270 rows × 12 columns</p>\n",
       "</div>"
      ],
      "text/plain": [
       "     product_id  onsale_web  price  stock_quantity id_web  total_sales  \\\n",
       "658        6207           1   25.2             363  16077         37.0   \n",
       "126        4208           1    7.6             578  16024         16.0   \n",
       "100        4176           1   13.5             276  15629          9.0   \n",
       "657        6206           1   25.2             120  16580         41.0   \n",
       "442        5047           1   22.5             129    531         13.0   \n",
       "..          ...         ...    ...             ...    ...          ...   \n",
       "342        4776           1    6.8              11  14302          7.0   \n",
       "607        5914           1   36.0               2  14265          1.0   \n",
       "443        5056           1    7.5               9  13531          1.0   \n",
       "401        4929           1   16.7               4  15927          2.0   \n",
       "149        4241           1    8.9               7  14725          1.0   \n",
       "\n",
       "                                          product_name post_type  \\\n",
       "658           domaine-giudicelli-patrimonio-rouge-2016   product   \n",
       "126        domaine-montrose-cotes-de-thongue-rose-2019   product   \n",
       "100             hortus-pic-saint-loup-la-bergerie-2018   product   \n",
       "657           domaine-giudicelli-patrimonio-blanc-2019   product   \n",
       "442  champagne-petit-lebrun-fils-blanc-de-blancs-gr...   product   \n",
       "..                                                 ...       ...   \n",
       "342  chateau-de-la-liquiere-pays-dherault-blanc-a-m...   product   \n",
       "607                     darnleys-london-dry-gin-spiced   product   \n",
       "443            domaine-de-montgilet-anjou-rouge-2016-2   product   \n",
       "401  domaine-la-croix-belle-cotes-de-thongue-rouge-...   product   \n",
       "149            parce-freres-hommage-fernand-blanc-2019   product   \n",
       "\n",
       "     valeur_stock  chiffre_affaire  stockSupCA  sold  \n",
       "658        9147.6            932.4        True  True  \n",
       "126        4392.8            121.6        True  True  \n",
       "100        3726.0            121.5        True  True  \n",
       "657        3024.0           1033.2        True  True  \n",
       "442        2902.5            292.5        True  True  \n",
       "..            ...              ...         ...   ...  \n",
       "342          74.8             47.6        True  True  \n",
       "607          72.0             36.0        True  True  \n",
       "443          67.5              7.5        True  True  \n",
       "401          66.8             33.4        True  True  \n",
       "149          62.3              8.9        True  True  \n",
       "\n",
       "[270 rows x 12 columns]"
      ]
     },
     "execution_count": 42,
     "metadata": {},
     "output_type": "execute_result"
    }
   ],
   "source": [
    "# filtre les produits dont le CA est > 0\n",
    "soldOverStock = overStock[overStock.chiffre_affaire > 0]\n",
    "print(soldOverStock.shape)\n",
    "soldOverStock.sort_values(\"valeur_stock\", ascending=False)"
   ]
  },
  {
   "cell_type": "code",
   "execution_count": 43,
   "metadata": {},
   "outputs": [
    {
     "name": "stdout",
     "output_type": "stream",
     "text": [
      "(256, 12)\n"
     ]
    },
    {
     "data": {
      "text/html": [
       "<div>\n",
       "<style scoped>\n",
       "    .dataframe tbody tr th:only-of-type {\n",
       "        vertical-align: middle;\n",
       "    }\n",
       "\n",
       "    .dataframe tbody tr th {\n",
       "        vertical-align: top;\n",
       "    }\n",
       "\n",
       "    .dataframe thead th {\n",
       "        text-align: right;\n",
       "    }\n",
       "</style>\n",
       "<table border=\"1\" class=\"dataframe\">\n",
       "  <thead>\n",
       "    <tr style=\"text-align: right;\">\n",
       "      <th></th>\n",
       "      <th>product_id</th>\n",
       "      <th>onsale_web</th>\n",
       "      <th>price</th>\n",
       "      <th>stock_quantity</th>\n",
       "      <th>id_web</th>\n",
       "      <th>total_sales</th>\n",
       "      <th>product_name</th>\n",
       "      <th>post_type</th>\n",
       "      <th>valeur_stock</th>\n",
       "      <th>chiffre_affaire</th>\n",
       "      <th>stockSupCA</th>\n",
       "      <th>sold</th>\n",
       "    </tr>\n",
       "  </thead>\n",
       "  <tbody>\n",
       "    <tr>\n",
       "      <th>241</th>\n",
       "      <td>4609</td>\n",
       "      <td>1</td>\n",
       "      <td>11.8</td>\n",
       "      <td>237</td>\n",
       "      <td>15145</td>\n",
       "      <td>0.0</td>\n",
       "      <td>francois-bergeret-hautes-cotes-de-beaune-rouge...</td>\n",
       "      <td>product</td>\n",
       "      <td>2796.6</td>\n",
       "      <td>0.0</td>\n",
       "      <td>True</td>\n",
       "      <td>False</td>\n",
       "    </tr>\n",
       "    <tr>\n",
       "      <th>334</th>\n",
       "      <td>4749</td>\n",
       "      <td>1</td>\n",
       "      <td>11.9</td>\n",
       "      <td>140</td>\n",
       "      <td>15315</td>\n",
       "      <td>0.0</td>\n",
       "      <td>domaine-de-montgilet-anjou-blanc-2016</td>\n",
       "      <td>product</td>\n",
       "      <td>1666.0</td>\n",
       "      <td>0.0</td>\n",
       "      <td>True</td>\n",
       "      <td>False</td>\n",
       "    </tr>\n",
       "    <tr>\n",
       "      <th>191</th>\n",
       "      <td>4304</td>\n",
       "      <td>1</td>\n",
       "      <td>8.1</td>\n",
       "      <td>133</td>\n",
       "      <td>15120</td>\n",
       "      <td>0.0</td>\n",
       "      <td>idylle-savoie-cruet-2018</td>\n",
       "      <td>product</td>\n",
       "      <td>1077.3</td>\n",
       "      <td>0.0</td>\n",
       "      <td>True</td>\n",
       "      <td>False</td>\n",
       "    </tr>\n",
       "    <tr>\n",
       "      <th>566</th>\n",
       "      <td>5777</td>\n",
       "      <td>1</td>\n",
       "      <td>5.7</td>\n",
       "      <td>132</td>\n",
       "      <td>14338</td>\n",
       "      <td>0.0</td>\n",
       "      <td>maurel-pays-d-oc-cabernet-sauvignon-2017</td>\n",
       "      <td>product</td>\n",
       "      <td>752.4</td>\n",
       "      <td>0.0</td>\n",
       "      <td>True</td>\n",
       "      <td>False</td>\n",
       "    </tr>\n",
       "    <tr>\n",
       "      <th>572</th>\n",
       "      <td>5797</td>\n",
       "      <td>1</td>\n",
       "      <td>17.2</td>\n",
       "      <td>123</td>\n",
       "      <td>15688</td>\n",
       "      <td>0.0</td>\n",
       "      <td>chateau-saransot-dupre-listrac-medoc-2016</td>\n",
       "      <td>product</td>\n",
       "      <td>2115.6</td>\n",
       "      <td>0.0</td>\n",
       "      <td>True</td>\n",
       "      <td>False</td>\n",
       "    </tr>\n",
       "    <tr>\n",
       "      <th>...</th>\n",
       "      <td>...</td>\n",
       "      <td>...</td>\n",
       "      <td>...</td>\n",
       "      <td>...</td>\n",
       "      <td>...</td>\n",
       "      <td>...</td>\n",
       "      <td>...</td>\n",
       "      <td>...</td>\n",
       "      <td>...</td>\n",
       "      <td>...</td>\n",
       "      <td>...</td>\n",
       "      <td>...</td>\n",
       "    </tr>\n",
       "    <tr>\n",
       "      <th>322</th>\n",
       "      <td>4725</td>\n",
       "      <td>1</td>\n",
       "      <td>23.4</td>\n",
       "      <td>1</td>\n",
       "      <td>16010</td>\n",
       "      <td>0.0</td>\n",
       "      <td>francois-baur-riesling-grand-cru-brand-clos-de...</td>\n",
       "      <td>product</td>\n",
       "      <td>23.4</td>\n",
       "      <td>0.0</td>\n",
       "      <td>True</td>\n",
       "      <td>False</td>\n",
       "    </tr>\n",
       "    <tr>\n",
       "      <th>148</th>\n",
       "      <td>4240</td>\n",
       "      <td>1</td>\n",
       "      <td>28.0</td>\n",
       "      <td>1</td>\n",
       "      <td>15436</td>\n",
       "      <td>0.0</td>\n",
       "      <td>domaine-augustin-collioure-rouge-adeodat-2017</td>\n",
       "      <td>product</td>\n",
       "      <td>28.0</td>\n",
       "      <td>0.0</td>\n",
       "      <td>True</td>\n",
       "      <td>False</td>\n",
       "    </tr>\n",
       "    <tr>\n",
       "      <th>238</th>\n",
       "      <td>4605</td>\n",
       "      <td>1</td>\n",
       "      <td>32.2</td>\n",
       "      <td>1</td>\n",
       "      <td>15148</td>\n",
       "      <td>0.0</td>\n",
       "      <td>catherine-et-claude-marechal-savigny-les-beaun...</td>\n",
       "      <td>product</td>\n",
       "      <td>32.2</td>\n",
       "      <td>0.0</td>\n",
       "      <td>True</td>\n",
       "      <td>False</td>\n",
       "    </tr>\n",
       "    <tr>\n",
       "      <th>170</th>\n",
       "      <td>4269</td>\n",
       "      <td>1</td>\n",
       "      <td>10.2</td>\n",
       "      <td>1</td>\n",
       "      <td>16244</td>\n",
       "      <td>0.0</td>\n",
       "      <td>serol-cote-roannaise-originelles-2019</td>\n",
       "      <td>product</td>\n",
       "      <td>10.2</td>\n",
       "      <td>0.0</td>\n",
       "      <td>True</td>\n",
       "      <td>False</td>\n",
       "    </tr>\n",
       "    <tr>\n",
       "      <th>249</th>\n",
       "      <td>4617</td>\n",
       "      <td>1</td>\n",
       "      <td>67.5</td>\n",
       "      <td>1</td>\n",
       "      <td>10459</td>\n",
       "      <td>0.0</td>\n",
       "      <td>alphonse-mellot-sancerre-rouge-generation-xix-...</td>\n",
       "      <td>product</td>\n",
       "      <td>67.5</td>\n",
       "      <td>0.0</td>\n",
       "      <td>True</td>\n",
       "      <td>False</td>\n",
       "    </tr>\n",
       "  </tbody>\n",
       "</table>\n",
       "<p>256 rows × 12 columns</p>\n",
       "</div>"
      ],
      "text/plain": [
       "     product_id  onsale_web  price  stock_quantity id_web  total_sales  \\\n",
       "241        4609           1   11.8             237  15145          0.0   \n",
       "334        4749           1   11.9             140  15315          0.0   \n",
       "191        4304           1    8.1             133  15120          0.0   \n",
       "566        5777           1    5.7             132  14338          0.0   \n",
       "572        5797           1   17.2             123  15688          0.0   \n",
       "..          ...         ...    ...             ...    ...          ...   \n",
       "322        4725           1   23.4               1  16010          0.0   \n",
       "148        4240           1   28.0               1  15436          0.0   \n",
       "238        4605           1   32.2               1  15148          0.0   \n",
       "170        4269           1   10.2               1  16244          0.0   \n",
       "249        4617           1   67.5               1  10459          0.0   \n",
       "\n",
       "                                          product_name post_type  \\\n",
       "241  francois-bergeret-hautes-cotes-de-beaune-rouge...   product   \n",
       "334              domaine-de-montgilet-anjou-blanc-2016   product   \n",
       "191                           idylle-savoie-cruet-2018   product   \n",
       "566           maurel-pays-d-oc-cabernet-sauvignon-2017   product   \n",
       "572          chateau-saransot-dupre-listrac-medoc-2016   product   \n",
       "..                                                 ...       ...   \n",
       "322  francois-baur-riesling-grand-cru-brand-clos-de...   product   \n",
       "148      domaine-augustin-collioure-rouge-adeodat-2017   product   \n",
       "238  catherine-et-claude-marechal-savigny-les-beaun...   product   \n",
       "170              serol-cote-roannaise-originelles-2019   product   \n",
       "249  alphonse-mellot-sancerre-rouge-generation-xix-...   product   \n",
       "\n",
       "     valeur_stock  chiffre_affaire  stockSupCA   sold  \n",
       "241        2796.6              0.0        True  False  \n",
       "334        1666.0              0.0        True  False  \n",
       "191        1077.3              0.0        True  False  \n",
       "566         752.4              0.0        True  False  \n",
       "572        2115.6              0.0        True  False  \n",
       "..            ...              ...         ...    ...  \n",
       "322          23.4              0.0        True  False  \n",
       "148          28.0              0.0        True  False  \n",
       "238          32.2              0.0        True  False  \n",
       "170          10.2              0.0        True  False  \n",
       "249          67.5              0.0        True  False  \n",
       "\n",
       "[256 rows x 12 columns]"
      ]
     },
     "execution_count": 43,
     "metadata": {},
     "output_type": "execute_result"
    }
   ],
   "source": [
    "unsoldOverStock = overStock[overStock.chiffre_affaire <= 0]\n",
    "print(unsoldOverStock.shape)\n",
    "unsoldOverStock.sort_values(\"stock_quantity\", ascending=False)"
   ]
  },
  {
   "cell_type": "code",
   "execution_count": 44,
   "metadata": {},
   "outputs": [
    {
     "data": {
      "application/vnd.plotly.v1+json": {
       "config": {
        "plotlyServerURL": "https://plot.ly"
       },
       "data": [
        {
         "alignmentgroup": "True",
         "bingroup": "x",
         "hovertemplate": "variable=valeur_stock<br>value=%{x}<br>count=%{y}<extra></extra>",
         "legendgroup": "valeur_stock",
         "marker": {
          "color": "#636efa",
          "pattern": {
           "shape": ""
          }
         },
         "name": "valeur_stock",
         "offsetgroup": "valeur_stock",
         "orientation": "v",
         "showlegend": true,
         "type": "histogram",
         "x": [
          226.60000000000002,
          500,
          198,
          84.5,
          29.4,
          1068,
          479.5,
          29.9,
          612.5,
          1497.6,
          138,
          2100,
          620.4,
          412.5,
          2210.2999999999997,
          525.3000000000001,
          115.19999999999999,
          356.8,
          1260.3999999999999,
          926.9,
          391.5,
          752.4,
          89.4,
          739.1999999999999,
          156,
          699.6,
          249.6,
          1122,
          590.4,
          26.8,
          1287,
          465.5,
          27,
          102,
          536.4,
          286.8,
          533.5,
          506.40000000000003,
          1629.6000000000001,
          2201.7999999999997,
          262.4,
          1708,
          41.8,
          1368,
          255.6,
          156.79999999999998,
          195.29999999999998,
          810,
          780,
          459,
          722,
          264,
          70.5,
          726,
          460,
          693,
          847,
          33.2,
          506.7,
          737.8,
          1348.5,
          1061.5,
          444.5,
          1206.5,
          288,
          1164,
          84.5,
          2280,
          523.6,
          378,
          558,
          1488,
          2115.6,
          523.2,
          50.5,
          150,
          414,
          1352.8,
          419.9,
          302.4,
          660,
          342.9,
          492.8,
          382.79999999999995,
          206.39999999999998,
          447,
          998.2,
          179.7,
          912,
          488,
          279,
          324,
          456,
          566.4000000000001,
          88.5,
          470,
          27.3,
          315.90000000000003,
          1506.6000000000001,
          173.5,
          467.5,
          408.59999999999997,
          413,
          434,
          220,
          114,
          643.5,
          346.5,
          1590,
          1239,
          1079,
          1077.3,
          703.8000000000001,
          494,
          46.4,
          869.4,
          17.6,
          471,
          85.5,
          604.8000000000001,
          79.2,
          473,
          129,
          924.6,
          651.6,
          1029,
          187.2,
          164,
          150,
          230.39999999999998,
          105.8,
          767.1999999999999,
          157.2,
          295,
          91.80000000000001,
          67.5,
          285,
          1493.3999999999999,
          2796.6000000000004,
          32.2,
          929.6000000000001,
          10.2,
          442,
          1100,
          1225,
          584.6,
          110.60000000000001,
          550.4,
          273.6,
          328.79999999999995,
          324.8,
          541.8000000000001,
          1099.1999999999998,
          793.8,
          855.8,
          682.5,
          658.8000000000001,
          490.50000000000006,
          973.5,
          790,
          117.6,
          894,
          28,
          504,
          249.6,
          239.2,
          290.70000000000005,
          675,
          1748,
          2622,
          609,
          1027.1999999999998,
          1128,
          1471.5,
          120,
          2346,
          585.5999999999999,
          499.20000000000005,
          245.99999999999997,
          250.8,
          432,
          288.59999999999997,
          133,
          130,
          59.9,
          1262.4,
          173.6,
          945.2,
          1050,
          1785,
          438.3,
          64.9,
          4350,
          2574,
          175.5,
          80.5,
          2332,
          1146.6,
          380,
          692.4000000000001,
          653.4,
          292.79999999999995,
          397.5,
          317.7,
          739.5,
          393.79999999999995,
          529,
          486,
          179.3,
          144,
          581.4000000000001,
          76.19999999999999,
          42.8,
          546,
          672,
          130.20000000000002,
          717.8000000000001,
          1171.8,
          1666,
          203,
          77.6,
          370,
          218.4,
          85.80000000000001,
          23.4,
          345.8,
          333,
          828.0999999999999,
          192,
          1083.6000000000001,
          488.4,
          894,
          941.7,
          374.5,
          693,
          89,
          525.5999999999999,
          534.6,
          506,
          552,
          305.8,
          726.8000000000001,
          448,
          699.3,
          137.39999999999998,
          2046,
          1476,
          147.5,
          1478.6999999999998,
          112.19999999999999,
          317.9,
          326.4,
          477.3,
          447.7,
          285,
          733.5
         ],
         "xaxis": "x",
         "yaxis": "y"
        }
       ],
       "layout": {
        "barmode": "relative",
        "legend": {
         "title": {
          "text": "variable"
         },
         "tracegroupgap": 0
        },
        "template": {
         "data": {
          "bar": [
           {
            "error_x": {
             "color": "#2a3f5f"
            },
            "error_y": {
             "color": "#2a3f5f"
            },
            "marker": {
             "line": {
              "color": "#E5ECF6",
              "width": 0.5
             },
             "pattern": {
              "fillmode": "overlay",
              "size": 10,
              "solidity": 0.2
             }
            },
            "type": "bar"
           }
          ],
          "barpolar": [
           {
            "marker": {
             "line": {
              "color": "#E5ECF6",
              "width": 0.5
             },
             "pattern": {
              "fillmode": "overlay",
              "size": 10,
              "solidity": 0.2
             }
            },
            "type": "barpolar"
           }
          ],
          "carpet": [
           {
            "aaxis": {
             "endlinecolor": "#2a3f5f",
             "gridcolor": "white",
             "linecolor": "white",
             "minorgridcolor": "white",
             "startlinecolor": "#2a3f5f"
            },
            "baxis": {
             "endlinecolor": "#2a3f5f",
             "gridcolor": "white",
             "linecolor": "white",
             "minorgridcolor": "white",
             "startlinecolor": "#2a3f5f"
            },
            "type": "carpet"
           }
          ],
          "choropleth": [
           {
            "colorbar": {
             "outlinewidth": 0,
             "ticks": ""
            },
            "type": "choropleth"
           }
          ],
          "contour": [
           {
            "colorbar": {
             "outlinewidth": 0,
             "ticks": ""
            },
            "colorscale": [
             [
              0,
              "#0d0887"
             ],
             [
              0.1111111111111111,
              "#46039f"
             ],
             [
              0.2222222222222222,
              "#7201a8"
             ],
             [
              0.3333333333333333,
              "#9c179e"
             ],
             [
              0.4444444444444444,
              "#bd3786"
             ],
             [
              0.5555555555555556,
              "#d8576b"
             ],
             [
              0.6666666666666666,
              "#ed7953"
             ],
             [
              0.7777777777777778,
              "#fb9f3a"
             ],
             [
              0.8888888888888888,
              "#fdca26"
             ],
             [
              1,
              "#f0f921"
             ]
            ],
            "type": "contour"
           }
          ],
          "contourcarpet": [
           {
            "colorbar": {
             "outlinewidth": 0,
             "ticks": ""
            },
            "type": "contourcarpet"
           }
          ],
          "heatmap": [
           {
            "colorbar": {
             "outlinewidth": 0,
             "ticks": ""
            },
            "colorscale": [
             [
              0,
              "#0d0887"
             ],
             [
              0.1111111111111111,
              "#46039f"
             ],
             [
              0.2222222222222222,
              "#7201a8"
             ],
             [
              0.3333333333333333,
              "#9c179e"
             ],
             [
              0.4444444444444444,
              "#bd3786"
             ],
             [
              0.5555555555555556,
              "#d8576b"
             ],
             [
              0.6666666666666666,
              "#ed7953"
             ],
             [
              0.7777777777777778,
              "#fb9f3a"
             ],
             [
              0.8888888888888888,
              "#fdca26"
             ],
             [
              1,
              "#f0f921"
             ]
            ],
            "type": "heatmap"
           }
          ],
          "heatmapgl": [
           {
            "colorbar": {
             "outlinewidth": 0,
             "ticks": ""
            },
            "colorscale": [
             [
              0,
              "#0d0887"
             ],
             [
              0.1111111111111111,
              "#46039f"
             ],
             [
              0.2222222222222222,
              "#7201a8"
             ],
             [
              0.3333333333333333,
              "#9c179e"
             ],
             [
              0.4444444444444444,
              "#bd3786"
             ],
             [
              0.5555555555555556,
              "#d8576b"
             ],
             [
              0.6666666666666666,
              "#ed7953"
             ],
             [
              0.7777777777777778,
              "#fb9f3a"
             ],
             [
              0.8888888888888888,
              "#fdca26"
             ],
             [
              1,
              "#f0f921"
             ]
            ],
            "type": "heatmapgl"
           }
          ],
          "histogram": [
           {
            "marker": {
             "pattern": {
              "fillmode": "overlay",
              "size": 10,
              "solidity": 0.2
             }
            },
            "type": "histogram"
           }
          ],
          "histogram2d": [
           {
            "colorbar": {
             "outlinewidth": 0,
             "ticks": ""
            },
            "colorscale": [
             [
              0,
              "#0d0887"
             ],
             [
              0.1111111111111111,
              "#46039f"
             ],
             [
              0.2222222222222222,
              "#7201a8"
             ],
             [
              0.3333333333333333,
              "#9c179e"
             ],
             [
              0.4444444444444444,
              "#bd3786"
             ],
             [
              0.5555555555555556,
              "#d8576b"
             ],
             [
              0.6666666666666666,
              "#ed7953"
             ],
             [
              0.7777777777777778,
              "#fb9f3a"
             ],
             [
              0.8888888888888888,
              "#fdca26"
             ],
             [
              1,
              "#f0f921"
             ]
            ],
            "type": "histogram2d"
           }
          ],
          "histogram2dcontour": [
           {
            "colorbar": {
             "outlinewidth": 0,
             "ticks": ""
            },
            "colorscale": [
             [
              0,
              "#0d0887"
             ],
             [
              0.1111111111111111,
              "#46039f"
             ],
             [
              0.2222222222222222,
              "#7201a8"
             ],
             [
              0.3333333333333333,
              "#9c179e"
             ],
             [
              0.4444444444444444,
              "#bd3786"
             ],
             [
              0.5555555555555556,
              "#d8576b"
             ],
             [
              0.6666666666666666,
              "#ed7953"
             ],
             [
              0.7777777777777778,
              "#fb9f3a"
             ],
             [
              0.8888888888888888,
              "#fdca26"
             ],
             [
              1,
              "#f0f921"
             ]
            ],
            "type": "histogram2dcontour"
           }
          ],
          "mesh3d": [
           {
            "colorbar": {
             "outlinewidth": 0,
             "ticks": ""
            },
            "type": "mesh3d"
           }
          ],
          "parcoords": [
           {
            "line": {
             "colorbar": {
              "outlinewidth": 0,
              "ticks": ""
             }
            },
            "type": "parcoords"
           }
          ],
          "pie": [
           {
            "automargin": true,
            "type": "pie"
           }
          ],
          "scatter": [
           {
            "marker": {
             "colorbar": {
              "outlinewidth": 0,
              "ticks": ""
             }
            },
            "type": "scatter"
           }
          ],
          "scatter3d": [
           {
            "line": {
             "colorbar": {
              "outlinewidth": 0,
              "ticks": ""
             }
            },
            "marker": {
             "colorbar": {
              "outlinewidth": 0,
              "ticks": ""
             }
            },
            "type": "scatter3d"
           }
          ],
          "scattercarpet": [
           {
            "marker": {
             "colorbar": {
              "outlinewidth": 0,
              "ticks": ""
             }
            },
            "type": "scattercarpet"
           }
          ],
          "scattergeo": [
           {
            "marker": {
             "colorbar": {
              "outlinewidth": 0,
              "ticks": ""
             }
            },
            "type": "scattergeo"
           }
          ],
          "scattergl": [
           {
            "marker": {
             "colorbar": {
              "outlinewidth": 0,
              "ticks": ""
             }
            },
            "type": "scattergl"
           }
          ],
          "scattermapbox": [
           {
            "marker": {
             "colorbar": {
              "outlinewidth": 0,
              "ticks": ""
             }
            },
            "type": "scattermapbox"
           }
          ],
          "scatterpolar": [
           {
            "marker": {
             "colorbar": {
              "outlinewidth": 0,
              "ticks": ""
             }
            },
            "type": "scatterpolar"
           }
          ],
          "scatterpolargl": [
           {
            "marker": {
             "colorbar": {
              "outlinewidth": 0,
              "ticks": ""
             }
            },
            "type": "scatterpolargl"
           }
          ],
          "scatterternary": [
           {
            "marker": {
             "colorbar": {
              "outlinewidth": 0,
              "ticks": ""
             }
            },
            "type": "scatterternary"
           }
          ],
          "surface": [
           {
            "colorbar": {
             "outlinewidth": 0,
             "ticks": ""
            },
            "colorscale": [
             [
              0,
              "#0d0887"
             ],
             [
              0.1111111111111111,
              "#46039f"
             ],
             [
              0.2222222222222222,
              "#7201a8"
             ],
             [
              0.3333333333333333,
              "#9c179e"
             ],
             [
              0.4444444444444444,
              "#bd3786"
             ],
             [
              0.5555555555555556,
              "#d8576b"
             ],
             [
              0.6666666666666666,
              "#ed7953"
             ],
             [
              0.7777777777777778,
              "#fb9f3a"
             ],
             [
              0.8888888888888888,
              "#fdca26"
             ],
             [
              1,
              "#f0f921"
             ]
            ],
            "type": "surface"
           }
          ],
          "table": [
           {
            "cells": {
             "fill": {
              "color": "#EBF0F8"
             },
             "line": {
              "color": "white"
             }
            },
            "header": {
             "fill": {
              "color": "#C8D4E3"
             },
             "line": {
              "color": "white"
             }
            },
            "type": "table"
           }
          ]
         },
         "layout": {
          "annotationdefaults": {
           "arrowcolor": "#2a3f5f",
           "arrowhead": 0,
           "arrowwidth": 1
          },
          "autotypenumbers": "strict",
          "coloraxis": {
           "colorbar": {
            "outlinewidth": 0,
            "ticks": ""
           }
          },
          "colorscale": {
           "diverging": [
            [
             0,
             "#8e0152"
            ],
            [
             0.1,
             "#c51b7d"
            ],
            [
             0.2,
             "#de77ae"
            ],
            [
             0.3,
             "#f1b6da"
            ],
            [
             0.4,
             "#fde0ef"
            ],
            [
             0.5,
             "#f7f7f7"
            ],
            [
             0.6,
             "#e6f5d0"
            ],
            [
             0.7,
             "#b8e186"
            ],
            [
             0.8,
             "#7fbc41"
            ],
            [
             0.9,
             "#4d9221"
            ],
            [
             1,
             "#276419"
            ]
           ],
           "sequential": [
            [
             0,
             "#0d0887"
            ],
            [
             0.1111111111111111,
             "#46039f"
            ],
            [
             0.2222222222222222,
             "#7201a8"
            ],
            [
             0.3333333333333333,
             "#9c179e"
            ],
            [
             0.4444444444444444,
             "#bd3786"
            ],
            [
             0.5555555555555556,
             "#d8576b"
            ],
            [
             0.6666666666666666,
             "#ed7953"
            ],
            [
             0.7777777777777778,
             "#fb9f3a"
            ],
            [
             0.8888888888888888,
             "#fdca26"
            ],
            [
             1,
             "#f0f921"
            ]
           ],
           "sequentialminus": [
            [
             0,
             "#0d0887"
            ],
            [
             0.1111111111111111,
             "#46039f"
            ],
            [
             0.2222222222222222,
             "#7201a8"
            ],
            [
             0.3333333333333333,
             "#9c179e"
            ],
            [
             0.4444444444444444,
             "#bd3786"
            ],
            [
             0.5555555555555556,
             "#d8576b"
            ],
            [
             0.6666666666666666,
             "#ed7953"
            ],
            [
             0.7777777777777778,
             "#fb9f3a"
            ],
            [
             0.8888888888888888,
             "#fdca26"
            ],
            [
             1,
             "#f0f921"
            ]
           ]
          },
          "colorway": [
           "#636efa",
           "#EF553B",
           "#00cc96",
           "#ab63fa",
           "#FFA15A",
           "#19d3f3",
           "#FF6692",
           "#B6E880",
           "#FF97FF",
           "#FECB52"
          ],
          "font": {
           "color": "#2a3f5f"
          },
          "geo": {
           "bgcolor": "white",
           "lakecolor": "white",
           "landcolor": "#E5ECF6",
           "showlakes": true,
           "showland": true,
           "subunitcolor": "white"
          },
          "hoverlabel": {
           "align": "left"
          },
          "hovermode": "closest",
          "mapbox": {
           "style": "light"
          },
          "paper_bgcolor": "white",
          "plot_bgcolor": "#E5ECF6",
          "polar": {
           "angularaxis": {
            "gridcolor": "white",
            "linecolor": "white",
            "ticks": ""
           },
           "bgcolor": "#E5ECF6",
           "radialaxis": {
            "gridcolor": "white",
            "linecolor": "white",
            "ticks": ""
           }
          },
          "scene": {
           "xaxis": {
            "backgroundcolor": "#E5ECF6",
            "gridcolor": "white",
            "gridwidth": 2,
            "linecolor": "white",
            "showbackground": true,
            "ticks": "",
            "zerolinecolor": "white"
           },
           "yaxis": {
            "backgroundcolor": "#E5ECF6",
            "gridcolor": "white",
            "gridwidth": 2,
            "linecolor": "white",
            "showbackground": true,
            "ticks": "",
            "zerolinecolor": "white"
           },
           "zaxis": {
            "backgroundcolor": "#E5ECF6",
            "gridcolor": "white",
            "gridwidth": 2,
            "linecolor": "white",
            "showbackground": true,
            "ticks": "",
            "zerolinecolor": "white"
           }
          },
          "shapedefaults": {
           "line": {
            "color": "#2a3f5f"
           }
          },
          "ternary": {
           "aaxis": {
            "gridcolor": "white",
            "linecolor": "white",
            "ticks": ""
           },
           "baxis": {
            "gridcolor": "white",
            "linecolor": "white",
            "ticks": ""
           },
           "bgcolor": "#E5ECF6",
           "caxis": {
            "gridcolor": "white",
            "linecolor": "white",
            "ticks": ""
           }
          },
          "title": {
           "x": 0.05
          },
          "xaxis": {
           "automargin": true,
           "gridcolor": "white",
           "linecolor": "white",
           "ticks": "",
           "title": {
            "standoff": 15
           },
           "zerolinecolor": "white",
           "zerolinewidth": 2
          },
          "yaxis": {
           "automargin": true,
           "gridcolor": "white",
           "linecolor": "white",
           "ticks": "",
           "title": {
            "standoff": 15
           },
           "zerolinecolor": "white",
           "zerolinewidth": 2
          }
         }
        },
        "title": {
         "text": "répartition valeur stock par produit invendu"
        },
        "xaxis": {
         "anchor": "y",
         "domain": [
          0,
          1
         ],
         "title": {
          "text": "value"
         }
        },
        "yaxis": {
         "anchor": "x",
         "domain": [
          0,
          1
         ],
         "title": {
          "text": "count"
         }
        }
       }
      }
     },
     "metadata": {},
     "output_type": "display_data"
    }
   ],
   "source": [
    "fig = px.histogram(unsoldOverStock.valeur_stock, title=\"répartition valeur stock par produit invendu\" )\n",
    "fig.show()"
   ]
  },
  {
   "cell_type": "code",
   "execution_count": null,
   "metadata": {},
   "outputs": [],
   "source": []
  }
 ],
 "metadata": {
  "interpreter": {
   "hash": "70152b955aba2d1132c565051fe6108401c4f8f645dcc234f17605db0a16ba28"
  },
  "kernelspec": {
   "display_name": "Python 3",
   "language": "python",
   "name": "python3"
  },
  "language_info": {
   "codemirror_mode": {
    "name": "ipython",
    "version": 3
   },
   "file_extension": ".py",
   "mimetype": "text/x-python",
   "name": "python",
   "nbconvert_exporter": "python",
   "pygments_lexer": "ipython3",
   "version": "3.8.5"
  }
 },
 "nbformat": 4,
 "nbformat_minor": 2
}
